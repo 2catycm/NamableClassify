{
 "cells": [
  {
   "cell_type": "markdown",
   "metadata": {},
   "source": [
    "# Utility Functions\n",
    "\n",
    "> 通用工具函数和路径设置\n",
    ">\n",
    "> General utility functions and path settings"
   ]
  },
  {
   "cell_type": "markdown",
   "metadata": {},
   "source": [
    "## 简介/Description:\n",
    "\n",
    "utils 模块包含通用工具函数和项目中的关键路径设置，如 data_path。这些工具函数与项目的各个模块没有直接耦合，提供了项目中可复用的常用功能。\n",
    "\n",
    "The utils module contains general utility functions and key path settings for the project, such as data_path. These utility functions are decoupled from the project’s main modules and provide commonly used reusable functionality across the project."
   ]
  },
  {
   "cell_type": "markdown",
   "metadata": {},
   "source": [
    "## 主要符号/Main symbols:\n",
    "\n",
    "- data_path: 数据存储路径的设置，用于配置数据集的根目录。\n",
    "\n",
    "  data_path: Defines the data storage path, used for setting the dataset root directory.\n",
    "\n",
    "\n",
    "- other_util_function: 其他工具函数，未来可以扩展。\n",
    "\n",
    "  other_util_function: Placeholder for other utility functions, expandable for future needs."
   ]
  },
  {
   "cell_type": "code",
   "execution_count": null,
   "metadata": {},
   "outputs": [],
   "source": [
    "#| default_exp infra"
   ]
  },
  {
   "cell_type": "code",
   "execution_count": 2,
   "metadata": {},
   "outputs": [],
   "source": [
    "#| hide\n",
    "%load_ext autoreload\n",
    "%autoreload 2\n",
    "from nbdev.showdoc import *"
   ]
  },
  {
   "cell_type": "markdown",
   "metadata": {},
   "source": [
    "## 本库有关一些信息"
   ]
  },
  {
   "cell_type": "code",
   "execution_count": 5,
   "metadata": {},
   "outputs": [],
   "source": [
    "#| export\n",
    "from namable_classify.help import runs_path, lib_paths"
   ]
  },
  {
   "cell_type": "code",
   "execution_count": 6,
   "metadata": {},
   "outputs": [
    {
     "data": {
      "text/plain": [
       "Path('/home/ye_canming/repos/novelties/cv/cls/NamableClassify/runs')"
      ]
     },
     "execution_count": 6,
     "metadata": {},
     "output_type": "execute_result"
    }
   ],
   "source": [
    "lib_paths.runs_path"
   ]
  },
  {
   "cell_type": "code",
   "execution_count": 7,
   "metadata": {},
   "outputs": [],
   "source": [
    "#| export\n",
    "import joblib\n",
    "memory = joblib.Memory(location=runs_path/\"joblib_cache\", verbose=0)"
   ]
  },
  {
   "cell_type": "markdown",
   "metadata": {},
   "source": [
    "## 日志模块 / Logging Module\n",
    "\n",
    "我们结合loguru和rich的最佳实践，利用richuru库。"
   ]
  },
  {
   "cell_type": "code",
   "execution_count": 8,
   "metadata": {},
   "outputs": [],
   "source": [
    "#| export\n",
    "from scholarly_infrastructure.logging.nucleus import original_print, print, logger, Markdown"
   ]
  },
  {
   "cell_type": "code",
   "execution_count": 10,
   "metadata": {},
   "outputs": [
    {
     "data": {
      "text/html": [
       "<pre style=\"white-space:pre;overflow-x:auto;line-height:normal;font-family:Menlo,'DejaVu Sans Mono',consolas,'Courier New',monospace\"><span style=\"color: #7fbfbf; text-decoration-color: #7fbfbf\">Tue 2024-11-19 03:17:20.217231</span>\n",
       "</pre>\n"
      ],
      "text/plain": [
       "\u001b[2;36mTue 2024-11-19 03:17:20.217231\u001b[0m\n"
      ]
     },
     "metadata": {},
     "output_type": "display_data"
    },
    {
     "data": {
      "text/html": [
       "<pre style=\"white-space:pre;overflow-x:auto;line-height:normal;font-family:Menlo,'DejaVu Sans Mono',consolas,'Courier New',monospace\"><span style=\"color: #000080; text-decoration-color: #000080\">INFO    </span> <span style=\"color: #000080; text-decoration-color: #000080; font-weight: bold\">This is a info statement                                                                  </span> <a href=\"file:///tmp/ipykernel_1184745/2417338832.py\" target=\"_blank\"><span style=\"color: #7f7f7f; text-decoration-color: #7f7f7f\">2417338832.py</span></a><span style=\"color: #7f7f7f; text-decoration-color: #7f7f7f\">:</span><a href=\"file:///tmp/ipykernel_1184745/2417338832.py#2\" target=\"_blank\"><span style=\"color: #7f7f7f; text-decoration-color: #7f7f7f\">2</span></a>\n",
       "</pre>\n"
      ],
      "text/plain": [
       "\u001b[34mINFO    \u001b[0m \u001b[1;34mThis is a info statement                                                                  \u001b[0m \u001b]8;id=555095;file:///tmp/ipykernel_1184745/2417338832.py\u001b\\\u001b[2m2417338832.py\u001b[0m\u001b]8;;\u001b\\\u001b[2m:\u001b[0m\u001b]8;id=522376;file:///tmp/ipykernel_1184745/2417338832.py#2\u001b\\\u001b[2m2\u001b[0m\u001b]8;;\u001b\\\n"
      ]
     },
     "metadata": {},
     "output_type": "display_data"
    }
   ],
   "source": [
    "logger.debug(\"This is a info statement\")\n",
    "logger.info(\"This is a info statement\", style=\"bold blue\")"
   ]
  },
  {
   "cell_type": "code",
   "execution_count": 11,
   "metadata": {},
   "outputs": [
    {
     "data": {
      "text/html": [
       "<pre style=\"white-space:pre;overflow-x:auto;line-height:normal;font-family:Menlo,'DejaVu Sans Mono',consolas,'Courier New',monospace\"><span style=\"color: #7fbfbf; text-decoration-color: #7fbfbf\">Tue 2024-11-19 03:17:20.702930</span>\n",
       "</pre>\n"
      ],
      "text/plain": [
       "\u001b[2;36mTue 2024-11-19 03:17:20.702930\u001b[0m\n"
      ]
     },
     "metadata": {},
     "output_type": "display_data"
    },
    {
     "data": {
      "text/html": [
       "<pre style=\"white-space:pre;overflow-x:auto;line-height:normal;font-family:Menlo,'DejaVu Sans Mono',consolas,'Courier New',monospace\"><span style=\"color: #000080; text-decoration-color: #000080\">INFO    </span> <span style=\"color: #808000; text-decoration-color: #808000\">───────────────────────────────────────────────────────────────────────────────────────────</span> <a href=\"file:///tmp/ipykernel_1184745/501508743.py\" target=\"_blank\"><span style=\"color: #7f7f7f; text-decoration-color: #7f7f7f\">501508743.py</span></a><span style=\"color: #7f7f7f; text-decoration-color: #7f7f7f\">:</span><a href=\"file:///tmp/ipykernel_1184745/501508743.py#1\" target=\"_blank\"><span style=\"color: #7f7f7f; text-decoration-color: #7f7f7f\">1</span></a>\n",
       "</pre>\n"
      ],
      "text/plain": [
       "\u001b[34mINFO    \u001b[0m \u001b[33m───────────────────────────────────────────────────────────────────────────────────────────\u001b[0m \u001b]8;id=429471;file:///tmp/ipykernel_1184745/501508743.py\u001b\\\u001b[2m501508743.py\u001b[0m\u001b]8;;\u001b\\\u001b[2m:\u001b[0m\u001b]8;id=311054;file:///tmp/ipykernel_1184745/501508743.py#1\u001b\\\u001b[2m1\u001b[0m\u001b]8;;\u001b\\\n"
      ]
     },
     "metadata": {},
     "output_type": "display_data"
    }
   ],
   "source": [
    "logger.info(\"\", rich=Markdown(\"---\"))"
   ]
  },
  {
   "cell_type": "markdown",
   "metadata": {},
   "source": [
    "## 检查PyTorch模型是否符合预期，是否为要训练的模型"
   ]
  },
  {
   "cell_type": "code",
   "execution_count": 12,
   "metadata": {},
   "outputs": [],
   "source": [
    "#| export\n",
    "from scholarly_infrastructure.logging.torch import inspect_model_parameters, num_of_total_parameters, num_of_trainable_parameters, print_trainable_parameters"
   ]
  },
  {
   "cell_type": "code",
   "execution_count": 13,
   "metadata": {},
   "outputs": [],
   "source": [
    "from transformers import AutoModel, AutoConfig\n",
    "test_model = AutoModel.from_config(AutoConfig.from_pretrained(\"google/vit-base-patch16-224-in21k\"))"
   ]
  },
  {
   "cell_type": "code",
   "execution_count": 14,
   "metadata": {},
   "outputs": [
    {
     "data": {
      "text/html": [
       "<pre style=\"white-space:pre;overflow-x:auto;line-height:normal;font-family:Menlo,'DejaVu Sans Mono',consolas,'Courier New',monospace\"><span style=\"color: #7fbfbf; text-decoration-color: #7fbfbf\">Tue 2024-11-19 03:17:49.506549</span>\n",
       "</pre>\n"
      ],
      "text/plain": [
       "\u001b[2;36mTue 2024-11-19 03:17:49.506549\u001b[0m\n"
      ]
     },
     "metadata": {},
     "output_type": "display_data"
    },
    {
     "data": {
      "text/html": [
       "<pre style=\"white-space:pre;overflow-x:auto;line-height:normal;font-family:Menlo,'DejaVu Sans Mono',consolas,'Courier New',monospace\"><span style=\"color: #000080; text-decoration-color: #000080\">INFO    </span> <span style=\"font-style: italic\">                    Model ViTModel's Trainable Parameters Inspection                    </span>       <a href=\"file:///home/ye_canming/repos/novelties/cv/ScholarlyInfrastructure/scholarly_infrastructure/logging/torch.py\" target=\"_blank\"><span style=\"color: #7f7f7f; text-decoration-color: #7f7f7f\">torch.py</span></a><span style=\"color: #7f7f7f; text-decoration-color: #7f7f7f\">:</span><a href=\"file:///home/ye_canming/repos/novelties/cv/ScholarlyInfrastructure/scholarly_infrastructure/logging/torch.py#55\" target=\"_blank\"><span style=\"color: #7f7f7f; text-decoration-color: #7f7f7f\">55</span></a>\n",
       "         ┏━━━━━━━━━━━━━━━━━━━━━━━━━━━━━━━━┳━━━━━━━━━━━━━━━━━━━━━━━━━━━━━┳━━━━━━━━━━━━━━━━━━━━━━━┓       <span style=\"color: #7f7f7f; text-decoration-color: #7f7f7f\">           </span>\n",
       "         ┃<span style=\"font-weight: bold\"> Number of Trainable Parameters </span>┃<span style=\"font-weight: bold\"> Number of Total Parameters  </span>┃<span style=\"font-weight: bold\"> Trainable Ratio (0-1) </span>┃       <span style=\"color: #7f7f7f; text-decoration-color: #7f7f7f\">           </span>\n",
       "         ┡━━━━━━━━━━━━━━━━━━━━━━━━━━━━━━━━╇━━━━━━━━━━━━━━━━━━━━━━━━━━━━━╇━━━━━━━━━━━━━━━━━━━━━━━┩       <span style=\"color: #7f7f7f; text-decoration-color: #7f7f7f\">           </span>\n",
       "         │<span style=\"color: #008080; text-decoration-color: #008080\">    8.639e+07 (3.456e+08 bytes) </span>│<span style=\"color: #800080; text-decoration-color: #800080\"> 8.639e+07 (3.456e+08 bytes) </span>│<span style=\"color: #008000; text-decoration-color: #008000\">             1.000e+00 </span>│       <span style=\"color: #7f7f7f; text-decoration-color: #7f7f7f\">           </span>\n",
       "         └────────────────────────────────┴─────────────────────────────┴───────────────────────┘       <span style=\"color: #7f7f7f; text-decoration-color: #7f7f7f\">           </span>\n",
       "</pre>\n"
      ],
      "text/plain": [
       "\u001b[34mINFO    \u001b[0m \u001b[3m                    Model ViTModel's Trainable Parameters Inspection                    \u001b[0m       \u001b]8;id=689334;file:///home/ye_canming/repos/novelties/cv/ScholarlyInfrastructure/scholarly_infrastructure/logging/torch.py\u001b\\\u001b[2mtorch.py\u001b[0m\u001b]8;;\u001b\\\u001b[2m:\u001b[0m\u001b]8;id=703781;file:///home/ye_canming/repos/novelties/cv/ScholarlyInfrastructure/scholarly_infrastructure/logging/torch.py#55\u001b\\\u001b[2m55\u001b[0m\u001b]8;;\u001b\\\n",
       "         ┏━━━━━━━━━━━━━━━━━━━━━━━━━━━━━━━━┳━━━━━━━━━━━━━━━━━━━━━━━━━━━━━┳━━━━━━━━━━━━━━━━━━━━━━━┓       \u001b[2m           \u001b[0m\n",
       "         ┃\u001b[1m \u001b[0m\u001b[1mNumber of Trainable Parameters\u001b[0m\u001b[1m \u001b[0m┃\u001b[1m \u001b[0m\u001b[1mNumber of Total Parameters \u001b[0m\u001b[1m \u001b[0m┃\u001b[1m \u001b[0m\u001b[1mTrainable Ratio (0-1)\u001b[0m\u001b[1m \u001b[0m┃       \u001b[2m           \u001b[0m\n",
       "         ┡━━━━━━━━━━━━━━━━━━━━━━━━━━━━━━━━╇━━━━━━━━━━━━━━━━━━━━━━━━━━━━━╇━━━━━━━━━━━━━━━━━━━━━━━┩       \u001b[2m           \u001b[0m\n",
       "         │\u001b[36m \u001b[0m\u001b[36m   8.639e+07 (3.456e+08 bytes)\u001b[0m\u001b[36m \u001b[0m│\u001b[35m \u001b[0m\u001b[35m8.639e+07 (3.456e+08 bytes)\u001b[0m\u001b[35m \u001b[0m│\u001b[32m \u001b[0m\u001b[32m            1.000e+00\u001b[0m\u001b[32m \u001b[0m│       \u001b[2m           \u001b[0m\n",
       "         └────────────────────────────────┴─────────────────────────────┴───────────────────────┘       \u001b[2m           \u001b[0m\n"
      ]
     },
     "metadata": {},
     "output_type": "display_data"
    }
   ],
   "source": [
    "test_model.print_trainable_parameters()"
   ]
  },
  {
   "cell_type": "code",
   "execution_count": 15,
   "metadata": {},
   "outputs": [],
   "source": [
    "#| export\n",
    "from scholarly_infrastructure.logging.torch import model_rich_tree, print_model_pretty"
   ]
  },
  {
   "cell_type": "code",
   "execution_count": 16,
   "metadata": {},
   "outputs": [
    {
     "data": {
      "text/html": [
       "<pre style=\"white-space:pre;overflow-x:auto;line-height:normal;font-family:Menlo,'DejaVu Sans Mono',consolas,'Courier New',monospace\"><span style=\"color: #7fbfbf; text-decoration-color: #7fbfbf\">Tue 2024-11-19 03:17:50.090792</span>\n",
       "</pre>\n"
      ],
      "text/plain": [
       "\u001b[2;36mTue 2024-11-19 03:17:50.090792\u001b[0m\n"
      ]
     },
     "metadata": {},
     "output_type": "display_data"
    },
    {
     "data": {
      "text/html": [
       "<pre style=\"white-space:pre;overflow-x:auto;line-height:normal;font-family:Menlo,'DejaVu Sans Mono',consolas,'Courier New',monospace\"><span style=\"color: #000080; text-decoration-color: #000080\">INFO    </span> ╭───────────────────────────────── Model Tree for ViTModel ──────────────────────────────────╮ <a href=\"file:///home/ye_canming/repos/novelties/cv/ScholarlyInfrastructure/scholarly_infrastructure/logging/torch.py\" target=\"_blank\"><span style=\"color: #7f7f7f; text-decoration-color: #7f7f7f\">torch.py</span></a><span style=\"color: #7f7f7f; text-decoration-color: #7f7f7f\">:</span><a href=\"file:///home/ye_canming/repos/novelties/cv/ScholarlyInfrastructure/scholarly_infrastructure/logging/torch.py#72\" target=\"_blank\"><span style=\"color: #7f7f7f; text-decoration-color: #7f7f7f\">72</span></a>\n",
       "         │ <span style=\"color: #c0c0c0; text-decoration-color: #c0c0c0\">root</span>                                                                                       │ <span style=\"color: #7f7f7f; text-decoration-color: #7f7f7f\">           </span>\n",
       "         │ ├── <span style=\"color: #c0c0c0; text-decoration-color: #c0c0c0\">embeddings </span><span style=\"color: #008000; text-decoration-color: #008000\">(ViTEmbeddings) </span><span style=\"color: #008080; text-decoration-color: #008080\">cls_token:[1, 1, 768] position_embeddings:[1, 197, 768]</span>     │ <span style=\"color: #7f7f7f; text-decoration-color: #7f7f7f\">           </span>\n",
       "         │ │   └── <span style=\"color: #c0c0c0; text-decoration-color: #c0c0c0\">patch_embeddings </span><span style=\"color: #008000; text-decoration-color: #008000\">(ViTPatchEmbeddings)</span>                                              │ <span style=\"color: #7f7f7f; text-decoration-color: #7f7f7f\">           </span>\n",
       "         │ │       └── <span style=\"color: #c0c0c0; text-decoration-color: #c0c0c0\">projection </span><span style=\"color: #008000; text-decoration-color: #008000\">(Conv2d) </span><span style=\"color: #008080; text-decoration-color: #008080\">weight:[768, 3, 16, 16] bias:[768]</span>                         │ <span style=\"color: #7f7f7f; text-decoration-color: #7f7f7f\">           </span>\n",
       "         │ ├── <span style=\"color: #c0c0c0; text-decoration-color: #c0c0c0\">encoder </span><span style=\"color: #008000; text-decoration-color: #008000\">(ViTEncoder)</span>                                                                   │ <span style=\"color: #7f7f7f; text-decoration-color: #7f7f7f\">           </span>\n",
       "         │ │   └── <span style=\"color: #c0c0c0; text-decoration-color: #c0c0c0\">layer </span><span style=\"color: #008000; text-decoration-color: #008000\">(ModuleList)</span>                                                                 │ <span style=\"color: #7f7f7f; text-decoration-color: #7f7f7f\">           </span>\n",
       "         │ │       └── <span style=\"color: #800000; text-decoration-color: #800000\">0-11</span><span style=\"color: #008000; text-decoration-color: #008000\">(ViTLayer)</span>                                                                 │ <span style=\"color: #7f7f7f; text-decoration-color: #7f7f7f\">           </span>\n",
       "         │ │           ├── <span style=\"color: #c0c0c0; text-decoration-color: #c0c0c0\">attention </span><span style=\"color: #008000; text-decoration-color: #008000\">(ViTSdpaAttention)</span>                                               │ <span style=\"color: #7f7f7f; text-decoration-color: #7f7f7f\">           </span>\n",
       "         │ │           │   ├── <span style=\"color: #c0c0c0; text-decoration-color: #c0c0c0\">attention </span><span style=\"color: #008000; text-decoration-color: #008000\">(ViTSdpaSelfAttention)</span>                                       │ <span style=\"color: #7f7f7f; text-decoration-color: #7f7f7f\">           </span>\n",
       "         │ │           │   │   └── <span style=\"color: #800000; text-decoration-color: #800000\">query,key,value</span><span style=\"color: #008000; text-decoration-color: #008000\">(Linear) </span><span style=\"color: #008080; text-decoration-color: #008080\">weight:[768, 768] bias:[768]</span>               │ <span style=\"color: #7f7f7f; text-decoration-color: #7f7f7f\">           </span>\n",
       "         │ │           │   └── <span style=\"color: #c0c0c0; text-decoration-color: #c0c0c0\">output </span><span style=\"color: #008000; text-decoration-color: #008000\">(ViTSelfOutput)</span>                                                 │ <span style=\"color: #7f7f7f; text-decoration-color: #7f7f7f\">           </span>\n",
       "         │ │           │       └── <span style=\"color: #c0c0c0; text-decoration-color: #c0c0c0\">dense </span><span style=\"color: #008000; text-decoration-color: #008000\">(Linear) </span><span style=\"color: #008080; text-decoration-color: #008080\">weight:[768, 768] bias:[768]</span>                        │ <span style=\"color: #7f7f7f; text-decoration-color: #7f7f7f\">           </span>\n",
       "         │ │           ├── <span style=\"color: #c0c0c0; text-decoration-color: #c0c0c0\">intermediate </span><span style=\"color: #008000; text-decoration-color: #008000\">(ViTIntermediate)</span>                                             │ <span style=\"color: #7f7f7f; text-decoration-color: #7f7f7f\">           </span>\n",
       "         │ │           │   └── <span style=\"color: #c0c0c0; text-decoration-color: #c0c0c0\">dense </span><span style=\"color: #008000; text-decoration-color: #008000\">(Linear) </span><span style=\"color: #008080; text-decoration-color: #008080\">weight:[3072, 768] bias:[3072]</span>                          │ <span style=\"color: #7f7f7f; text-decoration-color: #7f7f7f\">           </span>\n",
       "         │ │           ├── <span style=\"color: #c0c0c0; text-decoration-color: #c0c0c0\">output </span><span style=\"color: #008000; text-decoration-color: #008000\">(ViTOutput)</span>                                                         │ <span style=\"color: #7f7f7f; text-decoration-color: #7f7f7f\">           </span>\n",
       "         │ │           │   └── <span style=\"color: #c0c0c0; text-decoration-color: #c0c0c0\">dense </span><span style=\"color: #008000; text-decoration-color: #008000\">(Linear) </span><span style=\"color: #008080; text-decoration-color: #008080\">weight:[768, 3072] bias:[768]</span>                           │ <span style=\"color: #7f7f7f; text-decoration-color: #7f7f7f\">           </span>\n",
       "         │ │           └── <span style=\"color: #800000; text-decoration-color: #800000\">layernorm_before,layernorm_after</span><span style=\"color: #008000; text-decoration-color: #008000\">(LayerNorm) </span><span style=\"color: #008080; text-decoration-color: #008080\">weight:[768] bias:[768]</span>        │ <span style=\"color: #7f7f7f; text-decoration-color: #7f7f7f\">           </span>\n",
       "         │ ├── <span style=\"color: #c0c0c0; text-decoration-color: #c0c0c0\">layernorm </span><span style=\"color: #008000; text-decoration-color: #008000\">(LayerNorm) </span><span style=\"color: #008080; text-decoration-color: #008080\">weight:[768] bias:[768]</span>                                          │ <span style=\"color: #7f7f7f; text-decoration-color: #7f7f7f\">           </span>\n",
       "         │ └── <span style=\"color: #c0c0c0; text-decoration-color: #c0c0c0\">pooler </span><span style=\"color: #008000; text-decoration-color: #008000\">(ViTPooler)</span>                                                                     │ <span style=\"color: #7f7f7f; text-decoration-color: #7f7f7f\">           </span>\n",
       "         │     └── <span style=\"color: #c0c0c0; text-decoration-color: #c0c0c0\">dense </span><span style=\"color: #008000; text-decoration-color: #008000\">(Linear) </span><span style=\"color: #008080; text-decoration-color: #008080\">weight:[768, 768] bias:[768]</span>                                        │ <span style=\"color: #7f7f7f; text-decoration-color: #7f7f7f\">           </span>\n",
       "         ╰────────────────────────────────────────────────────────────────────────────────────────────╯ <span style=\"color: #7f7f7f; text-decoration-color: #7f7f7f\">           </span>\n",
       "</pre>\n"
      ],
      "text/plain": [
       "\u001b[34mINFO    \u001b[0m ╭───────────────────────────────── Model Tree for ViTModel ──────────────────────────────────╮ \u001b]8;id=442155;file:///home/ye_canming/repos/novelties/cv/ScholarlyInfrastructure/scholarly_infrastructure/logging/torch.py\u001b\\\u001b[2mtorch.py\u001b[0m\u001b]8;;\u001b\\\u001b[2m:\u001b[0m\u001b]8;id=780722;file:///home/ye_canming/repos/novelties/cv/ScholarlyInfrastructure/scholarly_infrastructure/logging/torch.py#72\u001b\\\u001b[2m72\u001b[0m\u001b]8;;\u001b\\\n",
       "         │ \u001b[37mroot\u001b[0m                                                                                       │ \u001b[2m           \u001b[0m\n",
       "         │ ├── \u001b[37membeddings \u001b[0m\u001b[32m(ViTEmbeddings) \u001b[0m\u001b[36mcls_token:[1, 1, 768] \u001b[0m\u001b[36mposition_embeddings:[1, 197, 768]\u001b[0m     │ \u001b[2m           \u001b[0m\n",
       "         │ │   └── \u001b[37mpatch_embeddings \u001b[0m\u001b[32m(ViTPatchEmbeddings)\u001b[0m                                              │ \u001b[2m           \u001b[0m\n",
       "         │ │       └── \u001b[37mprojection \u001b[0m\u001b[32m(Conv2d) \u001b[0m\u001b[36mweight:[768, 3, 16, 16] \u001b[0m\u001b[36mbias:[768]\u001b[0m                         │ \u001b[2m           \u001b[0m\n",
       "         │ ├── \u001b[37mencoder \u001b[0m\u001b[32m(ViTEncoder)\u001b[0m                                                                   │ \u001b[2m           \u001b[0m\n",
       "         │ │   └── \u001b[37mlayer \u001b[0m\u001b[32m(ModuleList)\u001b[0m                                                                 │ \u001b[2m           \u001b[0m\n",
       "         │ │       └── \u001b[31m0-11\u001b[0m\u001b[32m(ViTLayer)\u001b[0m                                                                 │ \u001b[2m           \u001b[0m\n",
       "         │ │           ├── \u001b[37mattention \u001b[0m\u001b[32m(ViTSdpaAttention)\u001b[0m                                               │ \u001b[2m           \u001b[0m\n",
       "         │ │           │   ├── \u001b[37mattention \u001b[0m\u001b[32m(ViTSdpaSelfAttention)\u001b[0m                                       │ \u001b[2m           \u001b[0m\n",
       "         │ │           │   │   └── \u001b[31mquery,key,value\u001b[0m\u001b[32m(Linear) \u001b[0m\u001b[36mweight:[768, 768] \u001b[0m\u001b[36mbias:[768]\u001b[0m               │ \u001b[2m           \u001b[0m\n",
       "         │ │           │   └── \u001b[37moutput \u001b[0m\u001b[32m(ViTSelfOutput)\u001b[0m                                                 │ \u001b[2m           \u001b[0m\n",
       "         │ │           │       └── \u001b[37mdense \u001b[0m\u001b[32m(Linear) \u001b[0m\u001b[36mweight:[768, 768] \u001b[0m\u001b[36mbias:[768]\u001b[0m                        │ \u001b[2m           \u001b[0m\n",
       "         │ │           ├── \u001b[37mintermediate \u001b[0m\u001b[32m(ViTIntermediate)\u001b[0m                                             │ \u001b[2m           \u001b[0m\n",
       "         │ │           │   └── \u001b[37mdense \u001b[0m\u001b[32m(Linear) \u001b[0m\u001b[36mweight:[3072, 768] \u001b[0m\u001b[36mbias:[3072]\u001b[0m                          │ \u001b[2m           \u001b[0m\n",
       "         │ │           ├── \u001b[37moutput \u001b[0m\u001b[32m(ViTOutput)\u001b[0m                                                         │ \u001b[2m           \u001b[0m\n",
       "         │ │           │   └── \u001b[37mdense \u001b[0m\u001b[32m(Linear) \u001b[0m\u001b[36mweight:[768, 3072] \u001b[0m\u001b[36mbias:[768]\u001b[0m                           │ \u001b[2m           \u001b[0m\n",
       "         │ │           └── \u001b[31mlayernorm_before,layernorm_after\u001b[0m\u001b[32m(LayerNorm) \u001b[0m\u001b[36mweight:[768] \u001b[0m\u001b[36mbias:[768]\u001b[0m        │ \u001b[2m           \u001b[0m\n",
       "         │ ├── \u001b[37mlayernorm \u001b[0m\u001b[32m(LayerNorm) \u001b[0m\u001b[36mweight:[768] \u001b[0m\u001b[36mbias:[768]\u001b[0m                                          │ \u001b[2m           \u001b[0m\n",
       "         │ └── \u001b[37mpooler \u001b[0m\u001b[32m(ViTPooler)\u001b[0m                                                                     │ \u001b[2m           \u001b[0m\n",
       "         │     └── \u001b[37mdense \u001b[0m\u001b[32m(Linear) \u001b[0m\u001b[36mweight:[768, 768] \u001b[0m\u001b[36mbias:[768]\u001b[0m                                        │ \u001b[2m           \u001b[0m\n",
       "         ╰────────────────────────────────────────────────────────────────────────────────────────────╯ \u001b[2m           \u001b[0m\n"
      ]
     },
     "metadata": {},
     "output_type": "display_data"
    }
   ],
   "source": [
    "test_model.print_model_pretty()"
   ]
  },
  {
   "cell_type": "markdown",
   "metadata": {},
   "source": [
    "## 其他工具"
   ]
  },
  {
   "cell_type": "code",
   "execution_count": 17,
   "metadata": {},
   "outputs": [],
   "source": [
    "#| export\n",
    "from scholarly_infrastructure.nucleus import MuteWarnings, ensure_array, default_on_exception, append_dict_list"
   ]
  },
  {
   "cell_type": "code",
   "execution_count": 18,
   "metadata": {},
   "outputs": [
    {
     "data": {
      "text/html": [
       "<pre style=\"white-space:pre;overflow-x:auto;line-height:normal;font-family:Menlo,'DejaVu Sans Mono',consolas,'Courier New',monospace\"></pre>\n"
      ],
      "text/plain": []
     },
     "metadata": {},
     "output_type": "display_data"
    },
    {
     "data": {
      "text/plain": [
       "\u001b[1;35marray\u001b[0m\u001b[1m(\u001b[0m\u001b[1m[\u001b[0m\u001b[1;36m1\u001b[0m, \u001b[1;36m2\u001b[0m, \u001b[1;36m3\u001b[0m\u001b[1m]\u001b[0m\u001b[1m)\u001b[0m"
      ]
     },
     "execution_count": 18,
     "metadata": {},
     "output_type": "execute_result"
    }
   ],
   "source": [
    "ensure_array([1, 2, 3])"
   ]
  },
  {
   "cell_type": "code",
   "execution_count": 19,
   "metadata": {},
   "outputs": [
    {
     "data": {
      "text/html": [
       "<pre style=\"white-space:pre;overflow-x:auto;line-height:normal;font-family:Menlo,'DejaVu Sans Mono',consolas,'Courier New',monospace\"><span style=\"color: #7fbfbf; text-decoration-color: #7fbfbf\">Tue 2024-11-19 03:17:51.033597</span>\n",
       "</pre>\n"
      ],
      "text/plain": [
       "\u001b[2;36mTue 2024-11-19 03:17:51.033597\u001b[0m\n"
      ]
     },
     "metadata": {},
     "output_type": "display_data"
    },
    {
     "data": {
      "text/html": [
       "<pre style=\"white-space:pre;overflow-x:auto;line-height:normal;font-family:Menlo,'DejaVu Sans Mono',consolas,'Courier New',monospace\"><span style=\"color: #800000; text-decoration-color: #800000; font-weight: bold\">ERROR   </span> division by zero                                                                             <a href=\"file:///home/ye_canming/repos/novelties/cv/ScholarlyInfrastructure/scholarly_infrastructure/nucleus.py\" target=\"_blank\"><span style=\"color: #7f7f7f; text-decoration-color: #7f7f7f\">nucleus.py</span></a><span style=\"color: #7f7f7f; text-decoration-color: #7f7f7f\">:</span><a href=\"file:///home/ye_canming/repos/novelties/cv/ScholarlyInfrastructure/scholarly_infrastructure/nucleus.py#49\" target=\"_blank\"><span style=\"color: #7f7f7f; text-decoration-color: #7f7f7f\">49</span></a>\n",
       "         <span style=\"color: #800000; text-decoration-color: #800000\">╭─────────────────────────── </span><span style=\"color: #800000; text-decoration-color: #800000; font-weight: bold\">Traceback </span><span style=\"color: #bf7f7f; text-decoration-color: #bf7f7f; font-weight: bold\">(most recent call last)</span><span style=\"color: #800000; text-decoration-color: #800000\"> ────────────────────────────╮</span> <span style=\"color: #7f7f7f; text-decoration-color: #7f7f7f\">             </span>\n",
       "         <span style=\"color: #800000; text-decoration-color: #800000\">│</span> <span style=\"color: #bfbf7f; text-decoration-color: #bfbf7f\">/home/ye_canming/repos/novelties/cv/ScholarlyInfrastructure/scholarly_infrastructure/</span><span style=\"color: #808000; text-decoration-color: #808000; font-weight: bold\">nuc</span> <span style=\"color: #800000; text-decoration-color: #800000\">│</span> <span style=\"color: #7f7f7f; text-decoration-color: #7f7f7f\">             </span>\n",
       "         <span style=\"color: #800000; text-decoration-color: #800000\">│</span> <span style=\"color: #808000; text-decoration-color: #808000; font-weight: bold\">leus.py</span>:<span style=\"color: #0000ff; text-decoration-color: #0000ff\">44</span> in <span style=\"color: #00ff00; text-decoration-color: #00ff00\">default_on_exception</span>                                                       <span style=\"color: #800000; text-decoration-color: #800000\">│</span> <span style=\"color: #7f7f7f; text-decoration-color: #7f7f7f\">             </span>\n",
       "         <span style=\"color: #800000; text-decoration-color: #800000\">│</span>                                                                                          <span style=\"color: #800000; text-decoration-color: #800000\">│</span> <span style=\"color: #7f7f7f; text-decoration-color: #7f7f7f\">             </span>\n",
       "         <span style=\"color: #800000; text-decoration-color: #800000\">│</span>   <span style=\"color: #7f7f7f; text-decoration-color: #7f7f7f\">41 </span><span style=\"color: #ff00ff; text-decoration-color: #ff00ff; font-weight: bold\">@decorator</span>                                                                          <span style=\"color: #800000; text-decoration-color: #800000\">│</span> <span style=\"color: #7f7f7f; text-decoration-color: #7f7f7f\">             </span>\n",
       "         <span style=\"color: #800000; text-decoration-color: #800000\">│</span>   <span style=\"color: #7f7f7f; text-decoration-color: #7f7f7f\">42 </span><span style=\"color: #0000ff; text-decoration-color: #0000ff\">def</span> <span style=\"color: #00ff00; text-decoration-color: #00ff00\">default_on_exception</span>(func, default_value=<span style=\"color: #0000ff; text-decoration-color: #0000ff\">None</span>, verbose=<span style=\"color: #0000ff; text-decoration-color: #0000ff\">False</span>, *args, **kwargs): <span style=\"color: #800000; text-decoration-color: #800000\">│</span> <span style=\"color: #7f7f7f; text-decoration-color: #7f7f7f\">             </span>\n",
       "         <span style=\"color: #800000; text-decoration-color: #800000\">│</span>   <span style=\"color: #7f7f7f; text-decoration-color: #7f7f7f\">43 </span><span style=\"color: #7f7f7f; text-decoration-color: #7f7f7f\">│   </span><span style=\"color: #0000ff; text-decoration-color: #0000ff\">try</span>:                                                                            <span style=\"color: #800000; text-decoration-color: #800000\">│</span> <span style=\"color: #7f7f7f; text-decoration-color: #7f7f7f\">             </span>\n",
       "         <span style=\"color: #800000; text-decoration-color: #800000\">│</span> <span style=\"color: #800000; text-decoration-color: #800000\">❱ </span>44 <span style=\"color: #7f7f7f; text-decoration-color: #7f7f7f\">│   │   </span>result = func(*args, **kwargs)                                              <span style=\"color: #800000; text-decoration-color: #800000\">│</span> <span style=\"color: #7f7f7f; text-decoration-color: #7f7f7f\">             </span>\n",
       "         <span style=\"color: #800000; text-decoration-color: #800000\">│</span>   <span style=\"color: #7f7f7f; text-decoration-color: #7f7f7f\">45 </span><span style=\"color: #7f7f7f; text-decoration-color: #7f7f7f\">│   │   </span><span style=\"color: #0000ff; text-decoration-color: #0000ff\">return</span> result                                                               <span style=\"color: #800000; text-decoration-color: #800000\">│</span> <span style=\"color: #7f7f7f; text-decoration-color: #7f7f7f\">             </span>\n",
       "         <span style=\"color: #800000; text-decoration-color: #800000\">│</span>   <span style=\"color: #7f7f7f; text-decoration-color: #7f7f7f\">46 </span><span style=\"color: #7f7f7f; text-decoration-color: #7f7f7f\">│   </span><span style=\"color: #0000ff; text-decoration-color: #0000ff\">except</span> <span style=\"color: #00ffff; text-decoration-color: #00ffff\">Exception</span> <span style=\"color: #0000ff; text-decoration-color: #0000ff\">as</span> e:                                                          <span style=\"color: #800000; text-decoration-color: #800000\">│</span> <span style=\"color: #7f7f7f; text-decoration-color: #7f7f7f\">             </span>\n",
       "         <span style=\"color: #800000; text-decoration-color: #800000\">│</span>   <span style=\"color: #7f7f7f; text-decoration-color: #7f7f7f\">47 </span><span style=\"color: #7f7f7f; text-decoration-color: #7f7f7f\">│   │   </span><span style=\"color: #7f7f7f; text-decoration-color: #7f7f7f\"># logger.warning(f\"An exception occurred: {e}\")</span>                             <span style=\"color: #800000; text-decoration-color: #800000\">│</span> <span style=\"color: #7f7f7f; text-decoration-color: #7f7f7f\">             </span>\n",
       "         <span style=\"color: #800000; text-decoration-color: #800000\">│</span>                                                                                          <span style=\"color: #800000; text-decoration-color: #800000\">│</span> <span style=\"color: #7f7f7f; text-decoration-color: #7f7f7f\">             </span>\n",
       "         <span style=\"color: #800000; text-decoration-color: #800000\">│</span> <span style=\"color: #808000; text-decoration-color: #808000\">╭─────────────────────── locals ────────────────────────╮</span>                                <span style=\"color: #800000; text-decoration-color: #800000\">│</span> <span style=\"color: #7f7f7f; text-decoration-color: #7f7f7f\">             </span>\n",
       "         <span style=\"color: #800000; text-decoration-color: #800000\">│</span> <span style=\"color: #808000; text-decoration-color: #808000\">│</span>          args = <span style=\"font-weight: bold\">(</span><span style=\"color: #0000ff; text-decoration-color: #0000ff\">1</span>,<span style=\"font-weight: bold\">)</span>                                  <span style=\"color: #808000; text-decoration-color: #808000\">│</span>                                <span style=\"color: #800000; text-decoration-color: #800000\">│</span> <span style=\"color: #7f7f7f; text-decoration-color: #7f7f7f\">             </span>\n",
       "         <span style=\"color: #800000; text-decoration-color: #800000\">│</span> <span style=\"color: #808000; text-decoration-color: #808000\">│</span> default_value = <span style=\"color: #0000ff; text-decoration-color: #0000ff\">999</span>                                   <span style=\"color: #808000; text-decoration-color: #808000\">│</span>                                <span style=\"color: #800000; text-decoration-color: #800000\">│</span> <span style=\"color: #7f7f7f; text-decoration-color: #7f7f7f\">             </span>\n",
       "         <span style=\"color: #800000; text-decoration-color: #800000\">│</span> <span style=\"color: #808000; text-decoration-color: #808000\">│</span>             e = <span style=\"color: #800080; text-decoration-color: #800080; font-weight: bold\">ZeroDivisionError</span><span style=\"font-weight: bold\">(</span><span style=\"color: #808000; text-decoration-color: #808000\">'division by zero'</span><span style=\"font-weight: bold\">)</span> <span style=\"color: #808000; text-decoration-color: #808000\">│</span>                                <span style=\"color: #800000; text-decoration-color: #800000\">│</span> <span style=\"color: #7f7f7f; text-decoration-color: #7f7f7f\">             </span>\n",
       "         <span style=\"color: #800000; text-decoration-color: #800000\">│</span> <span style=\"color: #808000; text-decoration-color: #808000\">│</span>        kwargs = <span style=\"font-weight: bold\">{}</span>                                    <span style=\"color: #808000; text-decoration-color: #808000\">│</span>                                <span style=\"color: #800000; text-decoration-color: #800000\">│</span> <span style=\"color: #7f7f7f; text-decoration-color: #7f7f7f\">             </span>\n",
       "         <span style=\"color: #800000; text-decoration-color: #800000\">│</span> <span style=\"color: #808000; text-decoration-color: #808000\">│</span>       verbose = <span style=\"color: #0000ff; text-decoration-color: #0000ff\">True</span>                                  <span style=\"color: #808000; text-decoration-color: #808000\">│</span>                                <span style=\"color: #800000; text-decoration-color: #800000\">│</span> <span style=\"color: #7f7f7f; text-decoration-color: #7f7f7f\">             </span>\n",
       "         <span style=\"color: #800000; text-decoration-color: #800000\">│</span> <span style=\"color: #808000; text-decoration-color: #808000\">╰───────────────────────────────────────────────────────╯</span>                                <span style=\"color: #800000; text-decoration-color: #800000\">│</span> <span style=\"color: #7f7f7f; text-decoration-color: #7f7f7f\">             </span>\n",
       "         <span style=\"color: #800000; text-decoration-color: #800000\">│</span>                                                                                          <span style=\"color: #800000; text-decoration-color: #800000\">│</span> <span style=\"color: #7f7f7f; text-decoration-color: #7f7f7f\">             </span>\n",
       "         <span style=\"color: #800000; text-decoration-color: #800000\">│</span> in <span style=\"color: #00ff00; text-decoration-color: #00ff00\">test_default_on_exception</span>:<span style=\"color: #0000ff; text-decoration-color: #0000ff\">3</span>                                                           <span style=\"color: #800000; text-decoration-color: #800000\">│</span> <span style=\"color: #7f7f7f; text-decoration-color: #7f7f7f\">             </span>\n",
       "         <span style=\"color: #800000; text-decoration-color: #800000\">│</span>                                                                                          <span style=\"color: #800000; text-decoration-color: #800000\">│</span> <span style=\"color: #7f7f7f; text-decoration-color: #7f7f7f\">             </span>\n",
       "         <span style=\"color: #800000; text-decoration-color: #800000\">│</span>   <span style=\"color: #7f7f7f; text-decoration-color: #7f7f7f\">1 </span><span style=\"color: #ff00ff; text-decoration-color: #ff00ff; font-weight: bold\">@default_on_exception</span>(default_value=<span style=\"color: #0000ff; text-decoration-color: #0000ff\">999</span>, verbose=<span style=\"color: #0000ff; text-decoration-color: #0000ff\">True</span>)                               <span style=\"color: #800000; text-decoration-color: #800000\">│</span> <span style=\"color: #7f7f7f; text-decoration-color: #7f7f7f\">             </span>\n",
       "         <span style=\"color: #800000; text-decoration-color: #800000\">│</span>   <span style=\"color: #7f7f7f; text-decoration-color: #7f7f7f\">2 </span><span style=\"color: #0000ff; text-decoration-color: #0000ff\">def</span> <span style=\"color: #00ff00; text-decoration-color: #00ff00\">test_default_on_exception</span>(a=<span style=\"color: #0000ff; text-decoration-color: #0000ff\">1</span>):                                                  <span style=\"color: #800000; text-decoration-color: #800000\">│</span> <span style=\"color: #7f7f7f; text-decoration-color: #7f7f7f\">             </span>\n",
       "         <span style=\"color: #800000; text-decoration-color: #800000\">│</span> <span style=\"color: #800000; text-decoration-color: #800000\">❱ </span>3 <span style=\"color: #7f7f7f; text-decoration-color: #7f7f7f\">│   </span><span style=\"color: #0000ff; text-decoration-color: #0000ff\">1</span>/<span style=\"color: #0000ff; text-decoration-color: #0000ff\">0</span>                                                                              <span style=\"color: #800000; text-decoration-color: #800000\">│</span> <span style=\"color: #7f7f7f; text-decoration-color: #7f7f7f\">             </span>\n",
       "         <span style=\"color: #800000; text-decoration-color: #800000\">│</span>   <span style=\"color: #7f7f7f; text-decoration-color: #7f7f7f\">4 </span><span style=\"color: #7f7f7f; text-decoration-color: #7f7f7f\">│   </span><span style=\"color: #0000ff; text-decoration-color: #0000ff\">return</span> a                                                                         <span style=\"color: #800000; text-decoration-color: #800000\">│</span> <span style=\"color: #7f7f7f; text-decoration-color: #7f7f7f\">             </span>\n",
       "         <span style=\"color: #800000; text-decoration-color: #800000\">│</span>   <span style=\"color: #7f7f7f; text-decoration-color: #7f7f7f\">5 </span>test_default_on_exception()                                                          <span style=\"color: #800000; text-decoration-color: #800000\">│</span> <span style=\"color: #7f7f7f; text-decoration-color: #7f7f7f\">             </span>\n",
       "         <span style=\"color: #800000; text-decoration-color: #800000\">│</span>   <span style=\"color: #7f7f7f; text-decoration-color: #7f7f7f\">6 </span>                                                                                     <span style=\"color: #800000; text-decoration-color: #800000\">│</span> <span style=\"color: #7f7f7f; text-decoration-color: #7f7f7f\">             </span>\n",
       "         <span style=\"color: #800000; text-decoration-color: #800000\">│</span>                                                                                          <span style=\"color: #800000; text-decoration-color: #800000\">│</span> <span style=\"color: #7f7f7f; text-decoration-color: #7f7f7f\">             </span>\n",
       "         <span style=\"color: #800000; text-decoration-color: #800000\">│</span> <span style=\"color: #808000; text-decoration-color: #808000\">╭─ locals ─╮</span>                                                                             <span style=\"color: #800000; text-decoration-color: #800000\">│</span> <span style=\"color: #7f7f7f; text-decoration-color: #7f7f7f\">             </span>\n",
       "         <span style=\"color: #800000; text-decoration-color: #800000\">│</span> <span style=\"color: #808000; text-decoration-color: #808000\">│</span> a = <span style=\"color: #0000ff; text-decoration-color: #0000ff\">1</span>    <span style=\"color: #808000; text-decoration-color: #808000\">│</span>                                                                             <span style=\"color: #800000; text-decoration-color: #800000\">│</span> <span style=\"color: #7f7f7f; text-decoration-color: #7f7f7f\">             </span>\n",
       "         <span style=\"color: #800000; text-decoration-color: #800000\">│</span> <span style=\"color: #808000; text-decoration-color: #808000\">╰──────────╯</span>                                                                             <span style=\"color: #800000; text-decoration-color: #800000\">│</span> <span style=\"color: #7f7f7f; text-decoration-color: #7f7f7f\">             </span>\n",
       "         <span style=\"color: #800000; text-decoration-color: #800000\">╰──────────────────────────────────────────────────────────────────────────────────────────╯</span> <span style=\"color: #7f7f7f; text-decoration-color: #7f7f7f\">             </span>\n",
       "         <span style=\"color: #ff0000; text-decoration-color: #ff0000; font-weight: bold\">ZeroDivisionError: </span>division by zero                                                          <span style=\"color: #7f7f7f; text-decoration-color: #7f7f7f\">             </span>\n",
       "</pre>\n"
      ],
      "text/plain": [
       "\u001b[1;31mERROR   \u001b[0m division by zero                                                                             \u001b]8;id=999889;file:///home/ye_canming/repos/novelties/cv/ScholarlyInfrastructure/scholarly_infrastructure/nucleus.py\u001b\\\u001b[2mnucleus.py\u001b[0m\u001b]8;;\u001b\\\u001b[2m:\u001b[0m\u001b]8;id=973450;file:///home/ye_canming/repos/novelties/cv/ScholarlyInfrastructure/scholarly_infrastructure/nucleus.py#49\u001b\\\u001b[2m49\u001b[0m\u001b]8;;\u001b\\\n",
       "         \u001b[31m╭─\u001b[0m\u001b[31m──────────────────────────\u001b[0m\u001b[31m \u001b[0m\u001b[1;31mTraceback \u001b[0m\u001b[1;2;31m(most recent call last)\u001b[0m\u001b[31m \u001b[0m\u001b[31m───────────────────────────\u001b[0m\u001b[31m─╮\u001b[0m \u001b[2m             \u001b[0m\n",
       "         \u001b[31m│\u001b[0m \u001b[2;33m/home/ye_canming/repos/novelties/cv/ScholarlyInfrastructure/scholarly_infrastructure/\u001b[0m\u001b[1;33mnuc\u001b[0m \u001b[31m│\u001b[0m \u001b[2m             \u001b[0m\n",
       "         \u001b[31m│\u001b[0m \u001b[1;33mleus.py\u001b[0m:\u001b[94m44\u001b[0m in \u001b[92mdefault_on_exception\u001b[0m                                                       \u001b[31m│\u001b[0m \u001b[2m             \u001b[0m\n",
       "         \u001b[31m│\u001b[0m                                                                                          \u001b[31m│\u001b[0m \u001b[2m             \u001b[0m\n",
       "         \u001b[31m│\u001b[0m   \u001b[2m41 \u001b[0m\u001b[1;95m@decorator\u001b[0m                                                                          \u001b[31m│\u001b[0m \u001b[2m             \u001b[0m\n",
       "         \u001b[31m│\u001b[0m   \u001b[2m42 \u001b[0m\u001b[94mdef\u001b[0m \u001b[92mdefault_on_exception\u001b[0m(func, default_value=\u001b[94mNone\u001b[0m, verbose=\u001b[94mFalse\u001b[0m, *args, **kwargs): \u001b[31m│\u001b[0m \u001b[2m             \u001b[0m\n",
       "         \u001b[31m│\u001b[0m   \u001b[2m43 \u001b[0m\u001b[2m│   \u001b[0m\u001b[94mtry\u001b[0m:                                                                            \u001b[31m│\u001b[0m \u001b[2m             \u001b[0m\n",
       "         \u001b[31m│\u001b[0m \u001b[31m❱ \u001b[0m44 \u001b[2m│   │   \u001b[0mresult = func(*args, **kwargs)                                              \u001b[31m│\u001b[0m \u001b[2m             \u001b[0m\n",
       "         \u001b[31m│\u001b[0m   \u001b[2m45 \u001b[0m\u001b[2m│   │   \u001b[0m\u001b[94mreturn\u001b[0m result                                                               \u001b[31m│\u001b[0m \u001b[2m             \u001b[0m\n",
       "         \u001b[31m│\u001b[0m   \u001b[2m46 \u001b[0m\u001b[2m│   \u001b[0m\u001b[94mexcept\u001b[0m \u001b[96mException\u001b[0m \u001b[94mas\u001b[0m e:                                                          \u001b[31m│\u001b[0m \u001b[2m             \u001b[0m\n",
       "         \u001b[31m│\u001b[0m   \u001b[2m47 \u001b[0m\u001b[2m│   │   \u001b[0m\u001b[2m# logger.warning(f\"An exception occurred: {e}\")\u001b[0m                             \u001b[31m│\u001b[0m \u001b[2m             \u001b[0m\n",
       "         \u001b[31m│\u001b[0m                                                                                          \u001b[31m│\u001b[0m \u001b[2m             \u001b[0m\n",
       "         \u001b[31m│\u001b[0m \u001b[33m╭─\u001b[0m\u001b[33m──────────────────────\u001b[0m\u001b[33m locals \u001b[0m\u001b[33m───────────────────────\u001b[0m\u001b[33m─╮\u001b[0m                                \u001b[31m│\u001b[0m \u001b[2m             \u001b[0m\n",
       "         \u001b[31m│\u001b[0m \u001b[33m│\u001b[0m          args = \u001b[1m(\u001b[0m\u001b[94m1\u001b[0m,\u001b[1m)\u001b[0m                                  \u001b[33m│\u001b[0m                                \u001b[31m│\u001b[0m \u001b[2m             \u001b[0m\n",
       "         \u001b[31m│\u001b[0m \u001b[33m│\u001b[0m default_value = \u001b[94m999\u001b[0m                                   \u001b[33m│\u001b[0m                                \u001b[31m│\u001b[0m \u001b[2m             \u001b[0m\n",
       "         \u001b[31m│\u001b[0m \u001b[33m│\u001b[0m             e = \u001b[1;35mZeroDivisionError\u001b[0m\u001b[1m(\u001b[0m\u001b[33m'division by zero'\u001b[0m\u001b[1m)\u001b[0m \u001b[33m│\u001b[0m                                \u001b[31m│\u001b[0m \u001b[2m             \u001b[0m\n",
       "         \u001b[31m│\u001b[0m \u001b[33m│\u001b[0m        kwargs = \u001b[1m{\u001b[0m\u001b[1m}\u001b[0m                                    \u001b[33m│\u001b[0m                                \u001b[31m│\u001b[0m \u001b[2m             \u001b[0m\n",
       "         \u001b[31m│\u001b[0m \u001b[33m│\u001b[0m       verbose = \u001b[94mTrue\u001b[0m                                  \u001b[33m│\u001b[0m                                \u001b[31m│\u001b[0m \u001b[2m             \u001b[0m\n",
       "         \u001b[31m│\u001b[0m \u001b[33m╰───────────────────────────────────────────────────────╯\u001b[0m                                \u001b[31m│\u001b[0m \u001b[2m             \u001b[0m\n",
       "         \u001b[31m│\u001b[0m                                                                                          \u001b[31m│\u001b[0m \u001b[2m             \u001b[0m\n",
       "         \u001b[31m│\u001b[0m in \u001b[92mtest_default_on_exception\u001b[0m:\u001b[94m3\u001b[0m                                                           \u001b[31m│\u001b[0m \u001b[2m             \u001b[0m\n",
       "         \u001b[31m│\u001b[0m                                                                                          \u001b[31m│\u001b[0m \u001b[2m             \u001b[0m\n",
       "         \u001b[31m│\u001b[0m   \u001b[2m1 \u001b[0m\u001b[1;95m@default_on_exception\u001b[0m(default_value=\u001b[94m999\u001b[0m, verbose=\u001b[94mTrue\u001b[0m)                               \u001b[31m│\u001b[0m \u001b[2m             \u001b[0m\n",
       "         \u001b[31m│\u001b[0m   \u001b[2m2 \u001b[0m\u001b[94mdef\u001b[0m \u001b[92mtest_default_on_exception\u001b[0m(a=\u001b[94m1\u001b[0m):                                                  \u001b[31m│\u001b[0m \u001b[2m             \u001b[0m\n",
       "         \u001b[31m│\u001b[0m \u001b[31m❱ \u001b[0m3 \u001b[2m│   \u001b[0m\u001b[94m1\u001b[0m/\u001b[94m0\u001b[0m                                                                              \u001b[31m│\u001b[0m \u001b[2m             \u001b[0m\n",
       "         \u001b[31m│\u001b[0m   \u001b[2m4 \u001b[0m\u001b[2m│   \u001b[0m\u001b[94mreturn\u001b[0m a                                                                         \u001b[31m│\u001b[0m \u001b[2m             \u001b[0m\n",
       "         \u001b[31m│\u001b[0m   \u001b[2m5 \u001b[0mtest_default_on_exception()                                                          \u001b[31m│\u001b[0m \u001b[2m             \u001b[0m\n",
       "         \u001b[31m│\u001b[0m   \u001b[2m6 \u001b[0m                                                                                     \u001b[31m│\u001b[0m \u001b[2m             \u001b[0m\n",
       "         \u001b[31m│\u001b[0m                                                                                          \u001b[31m│\u001b[0m \u001b[2m             \u001b[0m\n",
       "         \u001b[31m│\u001b[0m \u001b[33m╭─\u001b[0m\u001b[33m locals \u001b[0m\u001b[33m─╮\u001b[0m                                                                             \u001b[31m│\u001b[0m \u001b[2m             \u001b[0m\n",
       "         \u001b[31m│\u001b[0m \u001b[33m│\u001b[0m a = \u001b[94m1\u001b[0m    \u001b[33m│\u001b[0m                                                                             \u001b[31m│\u001b[0m \u001b[2m             \u001b[0m\n",
       "         \u001b[31m│\u001b[0m \u001b[33m╰──────────╯\u001b[0m                                                                             \u001b[31m│\u001b[0m \u001b[2m             \u001b[0m\n",
       "         \u001b[31m╰──────────────────────────────────────────────────────────────────────────────────────────╯\u001b[0m \u001b[2m             \u001b[0m\n",
       "         \u001b[1;91mZeroDivisionError: \u001b[0mdivision by zero                                                          \u001b[2m             \u001b[0m\n"
      ]
     },
     "metadata": {},
     "output_type": "display_data"
    },
    {
     "data": {
      "text/html": [
       "<pre style=\"white-space:pre;overflow-x:auto;line-height:normal;font-family:Menlo,'DejaVu Sans Mono',consolas,'Courier New',monospace\"></pre>\n"
      ],
      "text/plain": []
     },
     "metadata": {},
     "output_type": "display_data"
    },
    {
     "data": {
      "text/plain": [
       "\u001b[1;36m999\u001b[0m"
      ]
     },
     "execution_count": 19,
     "metadata": {},
     "output_type": "execute_result"
    }
   ],
   "source": [
    "@default_on_exception(default_value=999, verbose=True)\n",
    "def test_default_on_exception(a=1):\n",
    "    1/0\n",
    "    return a\n",
    "test_default_on_exception()"
   ]
  },
  {
   "cell_type": "code",
   "execution_count": 20,
   "metadata": {},
   "outputs": [],
   "source": [
    "#| hide\n",
    "import nbdev; nbdev.nbdev_export()"
   ]
  }
 ],
 "metadata": {
  "kernelspec": {
   "display_name": "yuequ",
   "language": "python",
   "name": "python3"
  },
  "language_info": {
   "codemirror_mode": {
    "name": "ipython",
    "version": 3
   },
   "file_extension": ".py",
   "mimetype": "text/x-python",
   "name": "python",
   "nbconvert_exporter": "python",
   "pygments_lexer": "ipython3",
   "version": "3.10.12"
  }
 },
 "nbformat": 4,
 "nbformat_minor": 4
}
