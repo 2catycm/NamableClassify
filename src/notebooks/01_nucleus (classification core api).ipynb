{
 "cells": [
  {
   "cell_type": "markdown",
   "metadata": {},
   "source": [
    "# 核心模块 Core Module\n",
    "\n",
    "> 主要定义与任务相关的核心组件和配置\n",
    "> \n",
    "> Defines core components and configurations related to tasks"
   ]
  },
  {
   "cell_type": "markdown",
   "metadata": {},
   "source": [
    "## 简介/Description: \n",
    "\n",
    "核心模块包含任务相关的主要类和配置文件，如 ClassificationTask 和 ClassificationTaskConfig。其中配置文件通过 Pydantic 进行定义，帮助用户更好地构建图像分类任务的各个部分。\n",
    "\n",
    "The core module contains the primary classes and configuration files related to tasks, such as ClassificationTask and ClassificationTaskConfig, where the configurations are defined using Pydantic, allowing users to easily structure components of image classification tasks."
   ]
  },
  {
   "cell_type": "markdown",
   "metadata": {},
   "source": [
    "## 主要符号/Main symbols:\n",
    "\n",
    "- ClassificationTask: 用于处理图像分类任务的 PyTorch Lightning 模块。\n",
    "- ClassificationTask: A PyTorch Lightning module for handling image classification tasks.\n",
    "- ClassificationTaskConfig: 使用 Pydantic 设计的配置类，用于初始化任务。\n",
    "- ClassificationTaskConfig: A configuration class designed with Pydantic for initializing the task.\n"
   ]
  },
  {
   "cell_type": "code",
   "execution_count": 1,
   "metadata": {},
   "outputs": [],
   "source": [
    "#| default_exp nucleus"
   ]
  },
  {
   "cell_type": "code",
   "execution_count": 2,
   "metadata": {},
   "outputs": [],
   "source": [
    "#| hide\n",
    "%load_ext autoreload\n",
    "%autoreload 2\n",
    "from nbdev.showdoc import *"
   ]
  },
  {
   "cell_type": "code",
   "execution_count": 3,
   "metadata": {},
   "outputs": [],
   "source": [
    "#| export\n",
    "import os\n",
    "os.environ['HF_ENDPOINT'] = \"https://hf-mirror.com\" # TODO this is optional for Foreigners"
   ]
  },
  {
   "cell_type": "code",
   "execution_count": 4,
   "metadata": {},
   "outputs": [
    {
     "data": {
      "text/html": [
       "<pre style=\"white-space:pre;overflow-x:auto;line-height:normal;font-family:Menlo,'DejaVu Sans Mono',consolas,'Courier New',monospace\"></pre>\n"
      ],
      "text/plain": []
     },
     "metadata": {},
     "output_type": "display_data"
    },
    {
     "data": {
      "text/plain": [
       "\u001b[3;91mFalse\u001b[0m"
      ]
     },
     "execution_count": 4,
     "metadata": {},
     "output_type": "execute_result"
    }
   ],
   "source": [
    "from transformers import AutoModel, AutoConfig, ViTModel, ViTConfig\n",
    "from namable_classify.infra import print_model_pretty\n",
    "AutoModel.from_pretrained(\"google/vit-base-patch16-224-in21k\").training"
   ]
  },
  {
   "cell_type": "code",
   "execution_count": 5,
   "metadata": {},
   "outputs": [],
   "source": [
    "#| export\n",
    "from pydantic import BaseModel\n",
    "class ClassificationModelConfig(BaseModel):\n",
    "    provider: str = \"huggingface\"\n",
    "    checkpoint: str = \"google/vit-base-patch16-224-in21k\" # TODO 支持 hf  timm torch\n",
    "    head_strategy: str = \"linear\"\n",
    "    num_of_classes: int = -1\n",
    "    \n",
    "import torch\n",
    "import torch.nn as nn\n",
    "import torch.nn.functional as F\n",
    "import torch.optim as optim\n",
    "from transformers import AutoModel, AutoConfig, ViTModel, ViTConfig\n",
    "from transformers import AutoImageProcessor, BitImageProcessor, ViTImageProcessor\n",
    "from deepspeed.ops.adam import DeepSpeedCPUAdam\n",
    "\n",
    "class HuggingfaceModel(nn.Module):\n",
    "    \"\"\"Some Information about HuggingfaceModel\"\"\"\n",
    "    def __init__(self, config : ClassificationModelConfig, forward_with_hf_image_preprocessor=False):\n",
    "        super().__init__()\n",
    "        # self.image_preprocessor = BitImageProcessor.from_pretrained(config.model_checkpoint, use_fast=True)\n",
    "        self.image_preprocessor = AutoImageProcessor.from_pretrained(config.checkpoint)\n",
    "        self.backbone: ViTModel = AutoModel.from_pretrained(config.checkpoint) # TODO we now just consider ViTModel\n",
    "        self.backbone.train()\n",
    "        self.backbone_config: ViTConfig = self.backbone.config # 包括了 image_size 和 hidden_size 这两个重要信息\n",
    "        if config.head_strategy == \"linear\":\n",
    "            self.head = nn.Linear(self.backbone_config.hidden_size, config.num_of_classes)\n",
    "        else:\n",
    "            raise NotImplementedError(\"Only linear head is supported for now. \")\n",
    "        self.config = config\n",
    "        self.forward_with_hf_image_preprocessor = forward_with_hf_image_preprocessor\n",
    "        # 虽然huggingface的dummy inputs很多都是假的不是真的能测试这个模型，但是OpenDelta很矫情，还是认为要有。\n",
    "        self.dummy_inputs = self.backbone.dummy_inputs\n",
    "        \n",
    "    \n",
    "    \n",
    "    \n",
    "    def forward(self, x:torch.Tensor)->torch.Tensor:\n",
    "        if self.forward_with_hf_image_preprocessor:\n",
    "            x = self.image_preprocessor(images=x, return_tensors=\"pt\")[\"pixel_values\"]\n",
    "        hf_output = self.backbone(x)\n",
    "        # hidden_state = hf_output.last_hidden_state\n",
    "        output = hf_output.pooler_output\n",
    "        output = self.head(output)\n",
    "        return output\n",
    "    \n",
    "from fastcore.basics import patch\n",
    "@patch\n",
    "def get_cls_model(self:ClassificationModelConfig):\n",
    "    if self.provider == \"huggingface\":\n",
    "        return HuggingfaceModel(self)\n",
    "    else:\n",
    "        raise NotImplementedError(\"Only huggingface is supported for now. \")"
   ]
  },
  {
   "cell_type": "code",
   "execution_count": 6,
   "metadata": {},
   "outputs": [],
   "source": [
    "#| export\n",
    "import lightning as L\n",
    "from pydantic import BaseModel\n",
    "from namable_classify.data import ClassificationDataConfig, ClassificationDataModule\n",
    "\n",
    "class ClassificationTaskConfig(BaseModel):\n",
    "    experiment_project: str = \"NamableClassify Development\" # 为了发表什么论文，正在探索什么IDEA？\n",
    "    experiment_task: str = \"Development Test\" # 为了证明我的IDEA有效，正在做哪个数据集、哪个架构的实验？\n",
    "    experiment_index: int = 0  # [0, 1, 2, 3, 4, 5, 6, 7, 8, 9] 表示是第几次重复实验 # which is also the random seed\n",
    "    label_smoothing: float = 0.1\n",
    "    cls_model_config: ClassificationModelConfig = ClassificationModelConfig()\n",
    "    dataset_config: ClassificationDataConfig = ClassificationDataConfig()\n",
    "    learning_rate: float = 3e-4\n",
    "    yuequ:str = \"full_finetune\"\n",
    "    yuequ_pe:float = 0.0"
   ]
  },
  {
   "cell_type": "code",
   "execution_count": 7,
   "metadata": {},
   "outputs": [],
   "source": [
    "#| export\n",
    "@patch\n",
    "def see_params_norm(self:nn.Module)->float:\n",
    "    params = torch.cat([param.view(-1) for param in self.parameters()])\n",
    "    # 计算范数，这里以2-范数为例\n",
    "    norm = torch.norm(params, p=2)\n",
    "    return norm.item()\n",
    "\n",
    "@patch\n",
    "def see_grad_norm(self:nn.Module)-> float:\n",
    "    grads = torch.cat([param.grad.view(-1) for param in self.parameters() if param.grad is not None])\n",
    "    # 计算范数，这里以2-范数为例\n",
    "    norm = torch.norm(grads, p=2)\n",
    "    return norm.item()\n",
    "    "
   ]
  },
  {
   "cell_type": "code",
   "execution_count": 6,
   "metadata": {},
   "outputs": [],
   "source": [
    "#| export\n",
    "from lightning.pytorch import loggers as pl_loggers\n",
    "from namable_classify.help import runs_path"
   ]
  },
  {
   "cell_type": "code",
   "execution_count": 9,
   "metadata": {},
   "outputs": [
    {
     "data": {
      "text/plain": [
       "<torch.utils.tensorboard.writer.SummaryWriter at 0x7f39e0589240>"
      ]
     },
     "execution_count": 9,
     "metadata": {},
     "output_type": "execute_result"
    }
   ],
   "source": [
    "logger = pl_loggers.TensorBoardLogger(runs_path/\"test\")\n",
    "logger.experiment # .experiment 得到的是第三方平台的类型。\n",
    "# dir(logger) # pl的logger类型方法少很多"
   ]
  },
  {
   "cell_type": "code",
   "execution_count": null,
   "metadata": {},
   "outputs": [],
   "source": [
    "#| export\n",
    "import lightning as L\n",
    "from lightning.pytorch.utilities.types import EVAL_DATALOADERS, TRAIN_DATALOADERS, STEP_OUTPUT, OptimizerLRScheduler\n",
    "from overrides import override\n",
    "import torch\n",
    "import torch.nn as nn\n",
    "import torch.nn.functional as F\n",
    "import torch.optim as optim\n",
    "from deepspeed.ops.adam import DeepSpeedCPUAdam, FusedAdam \n",
    "from deepspeed.ops.lamb import FusedLamb\n",
    "\n",
    "from namable_classify.infra import print_model_pretty\n",
    "from namable_classify.infra import append_dict_list, ensure_array, logger\n",
    "from namable_classify.metrics import compute_classification_metrics, draw_classification_metrics\n",
    "import numpy as np\n",
    "from typing import Any, Optional\n",
    "class ClassificationTask(L.LightningModule):\n",
    "    def __init__(self, config: ClassificationTaskConfig)->None:\n",
    "        super().__init__()\n",
    "        self.save_hyperparameters(config.model_dump())\n",
    "        L.seed_everything(config.experiment_index) # use index as the seed for reproducibility\n",
    "        # 首先数据是可以加载的\n",
    "        self.lit_data:ClassificationDataModule = config.dataset_config.get_lightning_data_module()\n",
    "        # 数据怎么做Transform，取决于 Model的情况\n",
    "        # 现在我们加载Model，刚才有了数据之后，首先可以更新 cls_model_config\n",
    "        \n",
    "        config.cls_model_config.num_of_classes = self.lit_data.num_of_classes\n",
    "        self.cls_model:HuggingfaceModel = config.cls_model_config.get_cls_model()\n",
    "        \n",
    "        # 现在需要更新数据\n",
    "        model_image_size:tuple[int, int] = self.lit_data.set_transform_from_hf_image_preprocessor(hf_image_preprocessor=self.cls_model.image_preprocessor)\n",
    "        \n",
    "        # model_image_size:tuple[int, int] = (self.cls_model.image_preprocessor.size['height'], self.cls_model.image_preprocessor.size['width'])\n",
    "        self.example_input_array = torch.randn((1, self.cls_model.backbone.config.num_channels, \n",
    "                                                *model_image_size), requires_grad=True)\n",
    "        self.dummy_inputs = dict(input_ids=self.example_input_array) # for opendelta and huggingface\n",
    "        # self.dummy_inputs_is_correct = True # Used for boguan_yuequ (博观约取) 's auto opendelta \n",
    "        # 最后是训练策略\n",
    "        # self.softmax = nn.Softmax(dim=1)    \n",
    "        self.softmax = nn.Identity()\n",
    "        self.loss = nn.CrossEntropyLoss(label_smoothing=config.label_smoothing)\n",
    "        # nn.LogSoftmax(dim=1)\n",
    "        # https://blog.csdn.net/qq_43391414/article/details/118421352 logsoftmax+nll的速度快，但是没有label smoothing\n",
    "        \n",
    "        # 评价策略\n",
    "        self.evaluation_steps_outputs = dict()\n",
    "        \n",
    "        # self.automatic_optimization = False\n",
    "        self.automatic_optimization = True\n",
    "        \n",
    "        # 上面初始化后config有变化，所以需要重新保存一下。\n",
    "        self.save_hyperparameters(config.model_dump())\n",
    "        \n",
    "        # 之前的loss\n",
    "        self.previous_loss:Optional[float] = None\n",
    "    \n",
    "    # @override\n",
    "    # def on_train_start(self) -> None:\n",
    "    #     # 更新一下最终的超参数\n",
    "    #     # self.save_hyperparameters(self.hparams)\n",
    "    #     # self.lit_data.save_hyperparameters(self.lit_data.hparams)\n",
    "    #     return super().on_train_start()\n",
    "    \n",
    "    def compute_model_logits(self, image_tensor:torch.Tensor)-> torch.Tensor:\n",
    "        return self.cls_model(image_tensor)\n",
    "    \n",
    "    @override\n",
    "    def forward(self, image_tensor:torch.Tensor, *args, **kwargs)-> torch.Tensor:\n",
    "        return self.softmax(self.compute_model_logits(image_tensor))\n",
    "\n",
    "    def forward_loss(self, image_tensor: torch.Tensor, label_tensor:torch.Tensor)->torch.Tensor:\n",
    "        probs = self(image_tensor)\n",
    "        # return F.nll_loss(logits, label_tensor)\n",
    "        return self.loss(probs, label_tensor)\n",
    "\n",
    "    @override\n",
    "    def training_step(self, batch, batch_idx=None, *args, **kwargs)-> STEP_OUTPUT:\n",
    "        # self.train() # 不必要\n",
    "        # opt = self.optimizers(use_pl_optimizer=False)\n",
    "        # opt = self.optimizers(use_pl_optimizer=True)\n",
    "        # opt.zero_grad()\n",
    "        \n",
    "        loss = self.forward_loss(*batch)\n",
    "        self.log(\"train_loss\", loss, prog_bar=True)\n",
    "        if self.previous_loss is not None:\n",
    "            self.log(\"train_loss_delta\", float(loss) - self.previous_loss, prog_bar=True)\n",
    "        self.previous_loss = float(loss)\n",
    "        # print(\"Loss:\", loss.item())\n",
    "        # self.manual_backward(loss)\n",
    "        # loss.backward()\n",
    "        # self.log(\"grad_norm\", self.see_grad_norm(), prog_bar=True)\n",
    "        # old_params_norm = self.see_params_norm()\n",
    "        \n",
    "        # self.log(\"params_norm\", old_params_norm, prog_bar=True)\n",
    "        \n",
    "        # # print(\"Grad Norm:\", self.see_grad_norm())\n",
    "        # # print(\"Params Norm before step:\", self.see_params_norm())\n",
    "        # # print(\"Params of cls_model Norm before step:\", self.cls_model.see_params_norm())\n",
    "        # opt.step()\n",
    "        # # print(\"Params Norm after step:\", self.see_params_norm())\n",
    "        # # print(\"Params of cls_model Norm after step:\", self.cls_model.see_params_norm())\n",
    "        # params_norm_delta = self.see_params_norm() - old_params_norm\n",
    "        # self.log(\"params_norm_delta\", params_norm_delta, prog_bar=True)\n",
    "        \n",
    "        \n",
    "        \n",
    "        # sch = self.lr_schedulers()\n",
    "        # self.log(\"lr\", sch.get_last_lr()[0], prog_bar=True)\n",
    "        # # https://www.restack.io/p/pytorch-lightning-answer-get-current-training-step-cat-ai\n",
    "        # # https://github.com/Lightning-AI/pytorch-lightning/pull/11599\n",
    "        # sch.step(self.global_step/self.trainer.estimated_stepping_batches/self.trainer.max_epochs)\n",
    "        \n",
    "        # self.log(\"global_step\", self.global_step, prog_bar=True)\n",
    "        # # self.log(\"epoch\", self.current_epoch, prog_bar=True)\n",
    "        # self.log(\"stepping_batches_of_one_epoch\", self.trainer.estimated_stepping_batches/self.trainer.max_epochs, prog_bar=True)\n",
    "        \n",
    "        # print()\n",
    "        # print(loss)\n",
    "        return loss\n",
    "\n",
    "\n",
    "    @override    \n",
    "    def configure_optimizers(self) -> OptimizerLRScheduler:\n",
    "        # return torch.optim.SGD(self.parameters(), lr=self.hparams.learning_rate)\n",
    "        # return torch.optim.SGD(self.cls_model.parameters(), lr=self.hparams.learning_rate)\n",
    "        # print(\"Learning Rate:\", self.hparams.learning_rate)\n",
    "        # return torch.optim.AdamW(self.parameters(), lr=self.hparams.learning_rate)\n",
    "        # return torch.optim.AdamW(self.cls_model.parameters(), lr=self.hparams.learning_rate)\n",
    "        \n",
    "        # optimizer = optim.SGD(self.cls_model.parameters(), lr=self.hparams.learning_rate)\n",
    "        # print(len(list(self.parameters())))\n",
    "        \n",
    "        # optimizer = optim.AdamW(self.parameters(), lr=self.hparams.learning_rate)\n",
    "        # optimizer = FusedLamb(self.parameters(), lr=self.hparams.learning_rate)\n",
    "        optimizer = DeepSpeedCPUAdam(self.parameters(), lr=self.hparams.learning_rate)\n",
    "        # scheduler = torch.optim.lr_scheduler.CyclicLR(optimizer, base_lr=self.hparams.learning_rate/10, \n",
    "        #                                               max_lr=self.hparams.learning_rate)\n",
    "        # https://pytorch.org/docs/stable/generated/torch.optim.lr_scheduler.CosineAnnealingWarmRestarts.html\n",
    "        # https://www.kaggle.com/code/isbhargav/guide-to-pytorch-learning-rate-scheduling#9.CosineAnnealingWarmRestarts\n",
    "        # scheduler = torch.optim.lr_scheduler.CosineAnnealingWarmRestarts(optimizer, T_0=10, T_mult=2)\n",
    "        # return ([optimizer], [scheduler])\n",
    "        return optimizer\n",
    "        # return ([optimizer], [{\"scheduler\": scheduler, \"interval\": \"step\"}])\n",
    "        # return L.AdamW(self.parameters(), lr=self.learning_rate)\n",
    "\n",
    "    # 现在我们已经定义好Training的逻辑了，已经可以跑训练了。然而，除了训练之外，我们需要评测模型的性能。\n",
    "    # @override\n",
    "    # def \n",
    "    def on_evaluation_epoch_start(self, stage:str=\"\"):\n",
    "        self.evaluation_steps_outputs = dict()\n",
    "        self.evaluation_steps_outputs[f'{stage}_batch_probs'] = []\n",
    "        self.evaluation_steps_outputs[f'{stage}_label_tensor'] = []\n",
    "            \n",
    "    def evaluation_step(self, batch, batch_idx=None, stage:str=\"\", *args: Any, **kwargs: Any) -> STEP_OUTPUT:\n",
    "        image_tensor, label_tensor = batch\n",
    "        batch_probs = self(image_tensor)\n",
    "        append_dict_list(self.evaluation_steps_outputs, f'{stage}_batch_probs', ensure_array(batch_probs))\n",
    "        append_dict_list(self.evaluation_steps_outputs, f'{stage}_label_tensor', ensure_array(label_tensor))\n",
    "        batch_loss = self.loss(batch_probs, label_tensor)\n",
    "        self.log(f\"{stage}_loss\", batch_loss, prog_bar=True)\n",
    "        return batch_loss\n",
    "            \n",
    "    def on_evaluation_epoch_end(self, stage:str=\"\"):\n",
    "        # https://github.com/Lightning-AI/pytorch-lightning/discussions/9845\n",
    "        # labels = self.lit_data.classes\n",
    "        labels = list(range(self.lit_data.num_of_classes))\n",
    "        # labels = None\n",
    "        # print(labels)\n",
    "        # stack 是 new axis， concat是existing axis\n",
    "        all_pred_probs = np.concatenate(self.evaluation_steps_outputs[f'{stage}_batch_probs'])\n",
    "        all_label_tensor = np.concatenate(self.evaluation_steps_outputs[f'{stage}_label_tensor'])\n",
    "        # logger.debug(self.evaluation_steps_outputs[f'{stage}_label_tensor'])\n",
    "        # logger.debug(all_label_tensor)\n",
    "        eval_dict = compute_classification_metrics(all_label_tensor, all_pred_probs, \n",
    "                                                #    logits_to_prob=False, \n",
    "                                                   logits_to_prob=True, \n",
    "                                                labels=labels)\n",
    "        eval_dict = {f\"{stage}_{k}\": v for k,v in eval_dict.items()}\n",
    "        self.log_dict(eval_dict)\n",
    "        # tensorboard 可视化\n",
    "        # draw_classification_metrics\n",
    "        figures, figure_names = draw_classification_metrics(all_label_tensor, all_pred_probs, \n",
    "                                              logits_to_prob=True, \n",
    "                                                labels=labels)\n",
    "        # TODO: bug\n",
    "        # tb_logger = self.get_logger_with_type(pl_loggers.TensorBoardLogger).experiment\n",
    "        tb_logger = self.trainer.loggers[0].experiment\n",
    "        for fig, name in zip(figures, figure_names):\n",
    "            tb_logger.add_figure(f\"{stage}/{name}\", fig, self.global_step)\n",
    "        # tb_logger.add_pr_curve(f\"{stage}/pr_curve\", all_label_tensor, all_pred_probs, self.global_step)\n",
    "        \n",
    "        \n",
    "        self.evaluation_steps_outputs.clear()\n",
    "        \n",
    "    def get_logger_with_type(self, t:type = pl_loggers.TensorBoardLogger)->pl_loggers.Logger:\n",
    "        # Get tensorboard logger\n",
    "        target_logger = None\n",
    "        for logger in self.trainer.loggers:\n",
    "            if isinstance(logger, t):\n",
    "                target_logger = logger\n",
    "                break\n",
    "        return target_logger\n",
    "\n",
    "    @override\n",
    "    def on_validation_epoch_start(self):\n",
    "        return self.on_evaluation_epoch_start(stage=\"val\")\n",
    "    \n",
    "    @override\n",
    "    def on_test_epoch_start(self):\n",
    "        return self.on_evaluation_epoch_start(stage=\"test\")\n",
    "\n",
    "    @override\n",
    "    def on_validation_epoch_end(self):\n",
    "        return self.on_evaluation_epoch_end(stage=\"val\")\n",
    "\n",
    "    @override\n",
    "    def on_test_epoch_end(self):\n",
    "        return self.on_evaluation_epoch_end(stage=\"test\")\n",
    "\n",
    "    @override\n",
    "    def validation_step(self, batch, batch_idx=None, *args, **kwargs):\n",
    "        return self.evaluation_step(batch, batch_idx, stage=\"val\")\n",
    "\n",
    "    @override\n",
    "    def test_step(self, batch, batch_idx=None, *args, **kwargs):\n",
    "        return self.evaluation_step(batch, batch_idx, stage=\"test\")\n"
   ]
  },
  {
   "cell_type": "code",
   "execution_count": 9,
   "metadata": {},
   "outputs": [
    {
     "name": "stderr",
     "output_type": "stream",
     "text": [
      "INFO: Seed set to 0\n"
     ]
    },
    {
     "data": {
      "text/html": [
       "<pre style=\"white-space:pre;overflow-x:auto;line-height:normal;font-family:Menlo,'DejaVu Sans Mono',consolas,'Courier New',monospace\"><span style=\"color: #7fbfbf; text-decoration-color: #7fbfbf\">Thu 2024-11-28 17:44:43.671493</span>\n",
       "</pre>\n"
      ],
      "text/plain": [
       "\u001b[2;36mThu 2024-11-28 17:44:43.671493\u001b[0m\n"
      ]
     },
     "metadata": {},
     "output_type": "display_data"
    },
    {
     "data": {
      "text/html": [
       "<pre style=\"white-space:pre;overflow-x:auto;line-height:normal;font-family:Menlo,'DejaVu Sans Mono',consolas,'Courier New',monospace\"><span style=\"color: #000080; text-decoration-color: #000080\">INFO    </span> Seed set to <span style=\"color: #008080; text-decoration-color: #008080; font-weight: bold\">0</span>                                                                                   <a href=\"file:///home/ye_canming/program_files/managers/conda/envs/yuequ/lib/python3.10/site-packages/lightning/fabric/utilities/seed.py\" target=\"_blank\"><span style=\"color: #7f7f7f; text-decoration-color: #7f7f7f\">seed.py</span></a><span style=\"color: #7f7f7f; text-decoration-color: #7f7f7f\">:</span><a href=\"file:///home/ye_canming/program_files/managers/conda/envs/yuequ/lib/python3.10/site-packages/lightning/fabric/utilities/seed.py#57\" target=\"_blank\"><span style=\"color: #7f7f7f; text-decoration-color: #7f7f7f\">57</span></a>\n",
       "</pre>\n"
      ],
      "text/plain": [
       "\u001b[34mINFO    \u001b[0m Seed set to \u001b[1;36m0\u001b[0m                                                                                   \u001b]8;id=32847;file:///home/ye_canming/program_files/managers/conda/envs/yuequ/lib/python3.10/site-packages/lightning/fabric/utilities/seed.py\u001b\\\u001b[2mseed.py\u001b[0m\u001b]8;;\u001b\\\u001b[2m:\u001b[0m\u001b]8;id=585575;file:///home/ye_canming/program_files/managers/conda/envs/yuequ/lib/python3.10/site-packages/lightning/fabric/utilities/seed.py#57\u001b\\\u001b[2m57\u001b[0m\u001b]8;;\u001b\\\n"
      ]
     },
     "metadata": {},
     "output_type": "display_data"
    },
    {
     "name": "stderr",
     "output_type": "stream",
     "text": [
      "Fast image processor class <class 'transformers.models.vit.image_processing_vit_fast.ViTImageProcessorFast'> is available for this model. Using slow image processor class. To use the fast image processor class set `use_fast=True`.\n",
      "/home/ye_canming/program_files/managers/conda/envs/yuequ/lib/python3.10/site-packages/torchvision/transforms/v2/_deprecated.py:42: UserWarning: The transform `ToTensor()` is deprecated and will be removed in a future release. Instead, please use `v2.Compose([v2.ToImage(), v2.ToDtype(torch.float32, scale=True)])`.Output is equivalent up to float precision.\n",
      "  warnings.warn(\n"
     ]
    },
    {
     "data": {
      "text/html": [
       "<pre style=\"white-space:pre;overflow-x:auto;line-height:normal;font-family:Menlo,'DejaVu Sans Mono',consolas,'Courier New',monospace\"><span style=\"color: #7fbfbf; text-decoration-color: #7fbfbf\">Thu 2024-11-28 17:44:45.209294</span>\n",
       "</pre>\n"
      ],
      "text/plain": [
       "\u001b[2;36mThu 2024-11-28 17:44:45.209294\u001b[0m\n"
      ]
     },
     "metadata": {},
     "output_type": "display_data"
    },
    {
     "data": {
      "text/html": [
       "<pre style=\"white-space:pre;overflow-x:auto;line-height:normal;font-family:Menlo,'DejaVu Sans Mono',consolas,'Courier New',monospace\"><span style=\"color: #000080; text-decoration-color: #000080\">INFO    </span> ╭──────────────────────────── Model Tree for ClassificationTask ─────────────────────────────╮ <a href=\"file:///home/ye_canming/repos/novelties/cv/ScholarlyInfrastructure/scholarly_infrastructure/logging/torch.py\" target=\"_blank\"><span style=\"color: #7f7f7f; text-decoration-color: #7f7f7f\">torch.py</span></a><span style=\"color: #7f7f7f; text-decoration-color: #7f7f7f\">:</span><a href=\"file:///home/ye_canming/repos/novelties/cv/ScholarlyInfrastructure/scholarly_infrastructure/logging/torch.py#72\" target=\"_blank\"><span style=\"color: #7f7f7f; text-decoration-color: #7f7f7f\">72</span></a>\n",
       "         │ <span style=\"color: #c0c0c0; text-decoration-color: #c0c0c0\">root</span>                                                                                       │ <span style=\"color: #7f7f7f; text-decoration-color: #7f7f7f\">           </span>\n",
       "         │ └── <span style=\"color: #c0c0c0; text-decoration-color: #c0c0c0\">cls_model </span><span style=\"color: #008000; text-decoration-color: #008000\">(HuggingfaceModel)</span>                                                           │ <span style=\"color: #7f7f7f; text-decoration-color: #7f7f7f\">           </span>\n",
       "         │     ├── <span style=\"color: #c0c0c0; text-decoration-color: #c0c0c0\">backbone </span><span style=\"color: #008000; text-decoration-color: #008000\">(ViTModel)</span>                                                                │ <span style=\"color: #7f7f7f; text-decoration-color: #7f7f7f\">           </span>\n",
       "         │     │   ├── <span style=\"color: #c0c0c0; text-decoration-color: #c0c0c0\">embeddings </span><span style=\"color: #008000; text-decoration-color: #008000\">(ViTEmbeddings) </span><span style=\"color: #008080; text-decoration-color: #008080\">cls_token:[1, 1, 768] position_embeddings:[1, 197, </span> │ <span style=\"color: #7f7f7f; text-decoration-color: #7f7f7f\">           </span>\n",
       "         │     │   │   <span style=\"color: #008080; text-decoration-color: #008080\">768]</span>                                                                           │ <span style=\"color: #7f7f7f; text-decoration-color: #7f7f7f\">           </span>\n",
       "         │     │   │   └── <span style=\"color: #c0c0c0; text-decoration-color: #c0c0c0\">patch_embeddings </span><span style=\"color: #008000; text-decoration-color: #008000\">(ViTPatchEmbeddings)</span>                                      │ <span style=\"color: #7f7f7f; text-decoration-color: #7f7f7f\">           </span>\n",
       "         │     │   │       └── <span style=\"color: #c0c0c0; text-decoration-color: #c0c0c0\">projection </span><span style=\"color: #008000; text-decoration-color: #008000\">(Conv2d) </span><span style=\"color: #008080; text-decoration-color: #008080\">weight:[768, 3, 16, 16] bias:[768]</span>                 │ <span style=\"color: #7f7f7f; text-decoration-color: #7f7f7f\">           </span>\n",
       "         │     │   ├── <span style=\"color: #c0c0c0; text-decoration-color: #c0c0c0\">encoder </span><span style=\"color: #008000; text-decoration-color: #008000\">(ViTEncoder)</span>                                                           │ <span style=\"color: #7f7f7f; text-decoration-color: #7f7f7f\">           </span>\n",
       "         │     │   │   └── <span style=\"color: #c0c0c0; text-decoration-color: #c0c0c0\">layer </span><span style=\"color: #008000; text-decoration-color: #008000\">(ModuleList)</span>                                                         │ <span style=\"color: #7f7f7f; text-decoration-color: #7f7f7f\">           </span>\n",
       "         │     │   │       └── <span style=\"color: #800000; text-decoration-color: #800000\">0-11</span><span style=\"color: #008000; text-decoration-color: #008000\">(ViTLayer)</span>                                                         │ <span style=\"color: #7f7f7f; text-decoration-color: #7f7f7f\">           </span>\n",
       "         │     │   │           ├── <span style=\"color: #c0c0c0; text-decoration-color: #c0c0c0\">attention </span><span style=\"color: #008000; text-decoration-color: #008000\">(ViTSdpaAttention)</span>                                       │ <span style=\"color: #7f7f7f; text-decoration-color: #7f7f7f\">           </span>\n",
       "         │     │   │           │   ├── <span style=\"color: #c0c0c0; text-decoration-color: #c0c0c0\">attention </span><span style=\"color: #008000; text-decoration-color: #008000\">(ViTSdpaSelfAttention)</span>                               │ <span style=\"color: #7f7f7f; text-decoration-color: #7f7f7f\">           </span>\n",
       "         │     │   │           │   │   └── <span style=\"color: #800000; text-decoration-color: #800000\">query,key,value</span><span style=\"color: #008000; text-decoration-color: #008000\">(Linear) </span><span style=\"color: #008080; text-decoration-color: #008080\">weight:[768, 768] bias:[768]</span>       │ <span style=\"color: #7f7f7f; text-decoration-color: #7f7f7f\">           </span>\n",
       "         │     │   │           │   └── <span style=\"color: #c0c0c0; text-decoration-color: #c0c0c0\">output </span><span style=\"color: #008000; text-decoration-color: #008000\">(ViTSelfOutput)</span>                                         │ <span style=\"color: #7f7f7f; text-decoration-color: #7f7f7f\">           </span>\n",
       "         │     │   │           │       └── <span style=\"color: #c0c0c0; text-decoration-color: #c0c0c0\">dense </span><span style=\"color: #008000; text-decoration-color: #008000\">(Linear) </span><span style=\"color: #008080; text-decoration-color: #008080\">weight:[768, 768] bias:[768]</span>                │ <span style=\"color: #7f7f7f; text-decoration-color: #7f7f7f\">           </span>\n",
       "         │     │   │           ├── <span style=\"color: #c0c0c0; text-decoration-color: #c0c0c0\">intermediate </span><span style=\"color: #008000; text-decoration-color: #008000\">(ViTIntermediate)</span>                                     │ <span style=\"color: #7f7f7f; text-decoration-color: #7f7f7f\">           </span>\n",
       "         │     │   │           │   └── <span style=\"color: #c0c0c0; text-decoration-color: #c0c0c0\">dense </span><span style=\"color: #008000; text-decoration-color: #008000\">(Linear) </span><span style=\"color: #008080; text-decoration-color: #008080\">weight:[3072, 768] bias:[3072]</span>                  │ <span style=\"color: #7f7f7f; text-decoration-color: #7f7f7f\">           </span>\n",
       "         │     │   │           ├── <span style=\"color: #c0c0c0; text-decoration-color: #c0c0c0\">output </span><span style=\"color: #008000; text-decoration-color: #008000\">(ViTOutput)</span>                                                 │ <span style=\"color: #7f7f7f; text-decoration-color: #7f7f7f\">           </span>\n",
       "         │     │   │           │   └── <span style=\"color: #c0c0c0; text-decoration-color: #c0c0c0\">dense </span><span style=\"color: #008000; text-decoration-color: #008000\">(Linear) </span><span style=\"color: #008080; text-decoration-color: #008080\">weight:[768, 3072] bias:[768]</span>                   │ <span style=\"color: #7f7f7f; text-decoration-color: #7f7f7f\">           </span>\n",
       "         │     │   │           └── <span style=\"color: #800000; text-decoration-color: #800000\">layernorm_before,layernorm_after</span><span style=\"color: #008000; text-decoration-color: #008000\">(LayerNorm) </span><span style=\"color: #008080; text-decoration-color: #008080\">weight:[768] </span>          │ <span style=\"color: #7f7f7f; text-decoration-color: #7f7f7f\">           </span>\n",
       "         │     │   │               <span style=\"color: #008080; text-decoration-color: #008080\">bias:[768]</span>                                                         │ <span style=\"color: #7f7f7f; text-decoration-color: #7f7f7f\">           </span>\n",
       "         │     │   ├── <span style=\"color: #c0c0c0; text-decoration-color: #c0c0c0\">layernorm </span><span style=\"color: #008000; text-decoration-color: #008000\">(LayerNorm) </span><span style=\"color: #008080; text-decoration-color: #008080\">weight:[768] bias:[768]</span>                                  │ <span style=\"color: #7f7f7f; text-decoration-color: #7f7f7f\">           </span>\n",
       "         │     │   └── <span style=\"color: #c0c0c0; text-decoration-color: #c0c0c0\">pooler </span><span style=\"color: #008000; text-decoration-color: #008000\">(ViTPooler)</span>                                                             │ <span style=\"color: #7f7f7f; text-decoration-color: #7f7f7f\">           </span>\n",
       "         │     │       └── <span style=\"color: #c0c0c0; text-decoration-color: #c0c0c0\">dense </span><span style=\"color: #008000; text-decoration-color: #008000\">(Linear) </span><span style=\"color: #008080; text-decoration-color: #008080\">weight:[768, 768] bias:[768]</span>                                │ <span style=\"color: #7f7f7f; text-decoration-color: #7f7f7f\">           </span>\n",
       "         │     └── <span style=\"color: #c0c0c0; text-decoration-color: #c0c0c0\">head </span><span style=\"color: #008000; text-decoration-color: #008000\">(Linear) </span><span style=\"color: #008080; text-decoration-color: #008080\">weight:[100, 768] bias:[100]</span>                                         │ <span style=\"color: #7f7f7f; text-decoration-color: #7f7f7f\">           </span>\n",
       "         ╰────────────────────────────────────────────────────────────────────────────────────────────╯ <span style=\"color: #7f7f7f; text-decoration-color: #7f7f7f\">           </span>\n",
       "</pre>\n"
      ],
      "text/plain": [
       "\u001b[34mINFO    \u001b[0m ╭──────────────────────────── Model Tree for ClassificationTask ─────────────────────────────╮ \u001b]8;id=271493;file:///home/ye_canming/repos/novelties/cv/ScholarlyInfrastructure/scholarly_infrastructure/logging/torch.py\u001b\\\u001b[2mtorch.py\u001b[0m\u001b]8;;\u001b\\\u001b[2m:\u001b[0m\u001b]8;id=536110;file:///home/ye_canming/repos/novelties/cv/ScholarlyInfrastructure/scholarly_infrastructure/logging/torch.py#72\u001b\\\u001b[2m72\u001b[0m\u001b]8;;\u001b\\\n",
       "         │ \u001b[37mroot\u001b[0m                                                                                       │ \u001b[2m           \u001b[0m\n",
       "         │ └── \u001b[37mcls_model \u001b[0m\u001b[32m(HuggingfaceModel)\u001b[0m                                                           │ \u001b[2m           \u001b[0m\n",
       "         │     ├── \u001b[37mbackbone \u001b[0m\u001b[32m(ViTModel)\u001b[0m                                                                │ \u001b[2m           \u001b[0m\n",
       "         │     │   ├── \u001b[37membeddings \u001b[0m\u001b[32m(ViTEmbeddings) \u001b[0m\u001b[36mcls_token:[1, 1, 768] \u001b[0m\u001b[36mposition_embeddings:[1, 197, \u001b[0m │ \u001b[2m           \u001b[0m\n",
       "         │     │   │   \u001b[36m768]\u001b[0m                                                                           │ \u001b[2m           \u001b[0m\n",
       "         │     │   │   └── \u001b[37mpatch_embeddings \u001b[0m\u001b[32m(ViTPatchEmbeddings)\u001b[0m                                      │ \u001b[2m           \u001b[0m\n",
       "         │     │   │       └── \u001b[37mprojection \u001b[0m\u001b[32m(Conv2d) \u001b[0m\u001b[36mweight:[768, 3, 16, 16] \u001b[0m\u001b[36mbias:[768]\u001b[0m                 │ \u001b[2m           \u001b[0m\n",
       "         │     │   ├── \u001b[37mencoder \u001b[0m\u001b[32m(ViTEncoder)\u001b[0m                                                           │ \u001b[2m           \u001b[0m\n",
       "         │     │   │   └── \u001b[37mlayer \u001b[0m\u001b[32m(ModuleList)\u001b[0m                                                         │ \u001b[2m           \u001b[0m\n",
       "         │     │   │       └── \u001b[31m0-11\u001b[0m\u001b[32m(ViTLayer)\u001b[0m                                                         │ \u001b[2m           \u001b[0m\n",
       "         │     │   │           ├── \u001b[37mattention \u001b[0m\u001b[32m(ViTSdpaAttention)\u001b[0m                                       │ \u001b[2m           \u001b[0m\n",
       "         │     │   │           │   ├── \u001b[37mattention \u001b[0m\u001b[32m(ViTSdpaSelfAttention)\u001b[0m                               │ \u001b[2m           \u001b[0m\n",
       "         │     │   │           │   │   └── \u001b[31mquery,key,value\u001b[0m\u001b[32m(Linear) \u001b[0m\u001b[36mweight:[768, 768] \u001b[0m\u001b[36mbias:[768]\u001b[0m       │ \u001b[2m           \u001b[0m\n",
       "         │     │   │           │   └── \u001b[37moutput \u001b[0m\u001b[32m(ViTSelfOutput)\u001b[0m                                         │ \u001b[2m           \u001b[0m\n",
       "         │     │   │           │       └── \u001b[37mdense \u001b[0m\u001b[32m(Linear) \u001b[0m\u001b[36mweight:[768, 768] \u001b[0m\u001b[36mbias:[768]\u001b[0m                │ \u001b[2m           \u001b[0m\n",
       "         │     │   │           ├── \u001b[37mintermediate \u001b[0m\u001b[32m(ViTIntermediate)\u001b[0m                                     │ \u001b[2m           \u001b[0m\n",
       "         │     │   │           │   └── \u001b[37mdense \u001b[0m\u001b[32m(Linear) \u001b[0m\u001b[36mweight:[3072, 768] \u001b[0m\u001b[36mbias:[3072]\u001b[0m                  │ \u001b[2m           \u001b[0m\n",
       "         │     │   │           ├── \u001b[37moutput \u001b[0m\u001b[32m(ViTOutput)\u001b[0m                                                 │ \u001b[2m           \u001b[0m\n",
       "         │     │   │           │   └── \u001b[37mdense \u001b[0m\u001b[32m(Linear) \u001b[0m\u001b[36mweight:[768, 3072] \u001b[0m\u001b[36mbias:[768]\u001b[0m                   │ \u001b[2m           \u001b[0m\n",
       "         │     │   │           └── \u001b[31mlayernorm_before,layernorm_after\u001b[0m\u001b[32m(LayerNorm) \u001b[0m\u001b[36mweight:[768] \u001b[0m          │ \u001b[2m           \u001b[0m\n",
       "         │     │   │               \u001b[36mbias:[768]\u001b[0m                                                         │ \u001b[2m           \u001b[0m\n",
       "         │     │   ├── \u001b[37mlayernorm \u001b[0m\u001b[32m(LayerNorm) \u001b[0m\u001b[36mweight:[768] \u001b[0m\u001b[36mbias:[768]\u001b[0m                                  │ \u001b[2m           \u001b[0m\n",
       "         │     │   └── \u001b[37mpooler \u001b[0m\u001b[32m(ViTPooler)\u001b[0m                                                             │ \u001b[2m           \u001b[0m\n",
       "         │     │       └── \u001b[37mdense \u001b[0m\u001b[32m(Linear) \u001b[0m\u001b[36mweight:[768, 768] \u001b[0m\u001b[36mbias:[768]\u001b[0m                                │ \u001b[2m           \u001b[0m\n",
       "         │     └── \u001b[37mhead \u001b[0m\u001b[32m(Linear) \u001b[0m\u001b[36mweight:[100, 768] \u001b[0m\u001b[36mbias:[100]\u001b[0m                                         │ \u001b[2m           \u001b[0m\n",
       "         ╰────────────────────────────────────────────────────────────────────────────────────────────╯ \u001b[2m           \u001b[0m\n"
      ]
     },
     "metadata": {},
     "output_type": "display_data"
    },
    {
     "data": {
      "text/html": [
       "<pre style=\"white-space:pre;overflow-x:auto;line-height:normal;font-family:Menlo,'DejaVu Sans Mono',consolas,'Courier New',monospace\"><span style=\"color: #7fbfbf; text-decoration-color: #7fbfbf\">Thu 2024-11-28 17:44:45.342225</span>\n",
       "</pre>\n"
      ],
      "text/plain": [
       "\u001b[2;36mThu 2024-11-28 17:44:45.342225\u001b[0m\n"
      ]
     },
     "metadata": {},
     "output_type": "display_data"
    },
    {
     "data": {
      "text/html": [
       "<pre style=\"white-space:pre;overflow-x:auto;line-height:normal;font-family:Menlo,'DejaVu Sans Mono',consolas,'Courier New',monospace\"><span style=\"color: #000080; text-decoration-color: #000080\">INFO    </span> <span style=\"font-style: italic\">               Model ClassificationTask's Trainable Parameters Inspection               </span>       <a href=\"file:///home/ye_canming/repos/novelties/cv/ScholarlyInfrastructure/scholarly_infrastructure/logging/torch.py\" target=\"_blank\"><span style=\"color: #7f7f7f; text-decoration-color: #7f7f7f\">torch.py</span></a><span style=\"color: #7f7f7f; text-decoration-color: #7f7f7f\">:</span><a href=\"file:///home/ye_canming/repos/novelties/cv/ScholarlyInfrastructure/scholarly_infrastructure/logging/torch.py#55\" target=\"_blank\"><span style=\"color: #7f7f7f; text-decoration-color: #7f7f7f\">55</span></a>\n",
       "         ┏━━━━━━━━━━━━━━━━━━━━━━━━━━━━━━━━┳━━━━━━━━━━━━━━━━━━━━━━━━━━━━━┳━━━━━━━━━━━━━━━━━━━━━━━┓       <span style=\"color: #7f7f7f; text-decoration-color: #7f7f7f\">           </span>\n",
       "         ┃<span style=\"font-weight: bold\"> Number of Trainable Parameters </span>┃<span style=\"font-weight: bold\"> Number of Total Parameters  </span>┃<span style=\"font-weight: bold\"> Trainable Ratio (0-1) </span>┃       <span style=\"color: #7f7f7f; text-decoration-color: #7f7f7f\">           </span>\n",
       "         ┡━━━━━━━━━━━━━━━━━━━━━━━━━━━━━━━━╇━━━━━━━━━━━━━━━━━━━━━━━━━━━━━╇━━━━━━━━━━━━━━━━━━━━━━━┩       <span style=\"color: #7f7f7f; text-decoration-color: #7f7f7f\">           </span>\n",
       "         │<span style=\"color: #008080; text-decoration-color: #008080\">    8.647e+07 (3.459e+08 bytes) </span>│<span style=\"color: #800080; text-decoration-color: #800080\"> 8.647e+07 (3.459e+08 bytes) </span>│<span style=\"color: #008000; text-decoration-color: #008000\">             1.000e+00 </span>│       <span style=\"color: #7f7f7f; text-decoration-color: #7f7f7f\">           </span>\n",
       "         └────────────────────────────────┴─────────────────────────────┴───────────────────────┘       <span style=\"color: #7f7f7f; text-decoration-color: #7f7f7f\">           </span>\n",
       "</pre>\n"
      ],
      "text/plain": [
       "\u001b[34mINFO    \u001b[0m \u001b[3m               Model ClassificationTask's Trainable Parameters Inspection               \u001b[0m       \u001b]8;id=318046;file:///home/ye_canming/repos/novelties/cv/ScholarlyInfrastructure/scholarly_infrastructure/logging/torch.py\u001b\\\u001b[2mtorch.py\u001b[0m\u001b]8;;\u001b\\\u001b[2m:\u001b[0m\u001b]8;id=499748;file:///home/ye_canming/repos/novelties/cv/ScholarlyInfrastructure/scholarly_infrastructure/logging/torch.py#55\u001b\\\u001b[2m55\u001b[0m\u001b]8;;\u001b\\\n",
       "         ┏━━━━━━━━━━━━━━━━━━━━━━━━━━━━━━━━┳━━━━━━━━━━━━━━━━━━━━━━━━━━━━━┳━━━━━━━━━━━━━━━━━━━━━━━┓       \u001b[2m           \u001b[0m\n",
       "         ┃\u001b[1m \u001b[0m\u001b[1mNumber of Trainable Parameters\u001b[0m\u001b[1m \u001b[0m┃\u001b[1m \u001b[0m\u001b[1mNumber of Total Parameters \u001b[0m\u001b[1m \u001b[0m┃\u001b[1m \u001b[0m\u001b[1mTrainable Ratio (0-1)\u001b[0m\u001b[1m \u001b[0m┃       \u001b[2m           \u001b[0m\n",
       "         ┡━━━━━━━━━━━━━━━━━━━━━━━━━━━━━━━━╇━━━━━━━━━━━━━━━━━━━━━━━━━━━━━╇━━━━━━━━━━━━━━━━━━━━━━━┩       \u001b[2m           \u001b[0m\n",
       "         │\u001b[36m \u001b[0m\u001b[36m   8.647e+07 (3.459e+08 bytes)\u001b[0m\u001b[36m \u001b[0m│\u001b[35m \u001b[0m\u001b[35m8.647e+07 (3.459e+08 bytes)\u001b[0m\u001b[35m \u001b[0m│\u001b[32m \u001b[0m\u001b[32m            1.000e+00\u001b[0m\u001b[32m \u001b[0m│       \u001b[2m           \u001b[0m\n",
       "         └────────────────────────────────┴─────────────────────────────┴───────────────────────┘       \u001b[2m           \u001b[0m\n"
      ]
     },
     "metadata": {},
     "output_type": "display_data"
    }
   ],
   "source": [
    "config = ClassificationTaskConfig(\n",
    "    # learning_rate=1e-3,\n",
    "    learning_rate=3e-4,\n",
    "    # learning_rate=1,\n",
    "    # learning_rate=1e9,\n",
    "    label_smoothing=0,\n",
    ")\n",
    "config\n",
    "cls_task = ClassificationTask(config)\n",
    "cls_task.print_model_pretty()\n",
    "cls_task.print_trainable_parameters()"
   ]
  },
  {
   "cell_type": "code",
   "execution_count": 10,
   "metadata": {},
   "outputs": [
    {
     "name": "stderr",
     "output_type": "stream",
     "text": [
      "INFO: Trainer will use only 1 of 8 GPUs because it is running inside an interactive / notebook environment. You may try to set `Trainer(devices=8)` but please note that multi-GPU inside interactive / notebook environments is considered experimental and unstable. Your mileage may vary.\n"
     ]
    },
    {
     "data": {
      "text/html": [
       "<pre style=\"white-space:pre;overflow-x:auto;line-height:normal;font-family:Menlo,'DejaVu Sans Mono',consolas,'Courier New',monospace\"><span style=\"color: #7fbfbf; text-decoration-color: #7fbfbf\">Thu 2024-11-28 17:44:46.357013</span>\n",
       "</pre>\n"
      ],
      "text/plain": [
       "\u001b[2;36mThu 2024-11-28 17:44:46.357013\u001b[0m\n"
      ]
     },
     "metadata": {},
     "output_type": "display_data"
    },
    {
     "data": {
      "text/html": [
       "<pre style=\"white-space:pre;overflow-x:auto;line-height:normal;font-family:Menlo,'DejaVu Sans Mono',consolas,'Courier New',monospace\"><span style=\"color: #000080; text-decoration-color: #000080\">INFO    </span> Trainer will use only <span style=\"color: #008080; text-decoration-color: #008080; font-weight: bold\">1</span> of <span style=\"color: #008080; text-decoration-color: #008080; font-weight: bold\">8</span> GPUs because it is running inside an interactive <span style=\"color: #800080; text-decoration-color: #800080\">/</span> notebook   <a href=\"file:///home/ye_canming/program_files/managers/conda/envs/yuequ/lib/python3.10/site-packages/lightning_utilities/core/rank_zero.py\" target=\"_blank\"><span style=\"color: #7f7f7f; text-decoration-color: #7f7f7f\">rank_zero.py</span></a><span style=\"color: #7f7f7f; text-decoration-color: #7f7f7f\">:</span><a href=\"file:///home/ye_canming/program_files/managers/conda/envs/yuequ/lib/python3.10/site-packages/lightning_utilities/core/rank_zero.py#63\" target=\"_blank\"><span style=\"color: #7f7f7f; text-decoration-color: #7f7f7f\">63</span></a>\n",
       "         environment. You may try to set `<span style=\"color: #800080; text-decoration-color: #800080; font-weight: bold\">Trainer</span><span style=\"font-weight: bold\">(</span><span style=\"color: #808000; text-decoration-color: #808000\">devices</span>=<span style=\"color: #008080; text-decoration-color: #008080; font-weight: bold\">8</span><span style=\"font-weight: bold\">)</span>` but please note that multi-GPU inside <span style=\"color: #7f7f7f; text-decoration-color: #7f7f7f\">               </span>\n",
       "         interactive <span style=\"color: #800080; text-decoration-color: #800080\">/</span> notebook environments is considered experimental and unstable. Your mileage  <span style=\"color: #7f7f7f; text-decoration-color: #7f7f7f\">               </span>\n",
       "         may vary.                                                                                  <span style=\"color: #7f7f7f; text-decoration-color: #7f7f7f\">               </span>\n",
       "</pre>\n"
      ],
      "text/plain": [
       "\u001b[34mINFO    \u001b[0m Trainer will use only \u001b[1;36m1\u001b[0m of \u001b[1;36m8\u001b[0m GPUs because it is running inside an interactive \u001b[35m/\u001b[0m notebook   \u001b]8;id=146039;file:///home/ye_canming/program_files/managers/conda/envs/yuequ/lib/python3.10/site-packages/lightning_utilities/core/rank_zero.py\u001b\\\u001b[2mrank_zero.py\u001b[0m\u001b]8;;\u001b\\\u001b[2m:\u001b[0m\u001b]8;id=295528;file:///home/ye_canming/program_files/managers/conda/envs/yuequ/lib/python3.10/site-packages/lightning_utilities/core/rank_zero.py#63\u001b\\\u001b[2m63\u001b[0m\u001b]8;;\u001b\\\n",
       "         environment. You may try to set `\u001b[1;35mTrainer\u001b[0m\u001b[1m(\u001b[0m\u001b[33mdevices\u001b[0m=\u001b[1;36m8\u001b[0m\u001b[1m)\u001b[0m` but please note that multi-GPU inside \u001b[2m               \u001b[0m\n",
       "         interactive \u001b[35m/\u001b[0m notebook environments is considered experimental and unstable. Your mileage  \u001b[2m               \u001b[0m\n",
       "         may vary.                                                                                  \u001b[2m               \u001b[0m\n"
      ]
     },
     "metadata": {},
     "output_type": "display_data"
    },
    {
     "name": "stderr",
     "output_type": "stream",
     "text": [
      "/home/ye_canming/program_files/managers/conda/envs/yuequ/lib/python3.10/site-packages/lightning/fabric/plugins/environments/slurm.py:204: The `srun` command is available on your system but is not used. HINT: If your intention is to run Lightning on SLURM, prepend your python command with `srun` like so: srun python /home/ye_canming/program_files/managers/conda/envs/y ...\n",
      "INFO: GPU available: True (cuda), used: True\n"
     ]
    },
    {
     "data": {
      "text/html": [
       "<pre style=\"white-space:pre;overflow-x:auto;line-height:normal;font-family:Menlo,'DejaVu Sans Mono',consolas,'Courier New',monospace\"><span style=\"color: #7fbfbf; text-decoration-color: #7fbfbf\">Thu 2024-11-28 17:44:46.409553</span>\n",
       "</pre>\n"
      ],
      "text/plain": [
       "\u001b[2;36mThu 2024-11-28 17:44:46.409553\u001b[0m\n"
      ]
     },
     "metadata": {},
     "output_type": "display_data"
    },
    {
     "data": {
      "text/html": [
       "<pre style=\"white-space:pre;overflow-x:auto;line-height:normal;font-family:Menlo,'DejaVu Sans Mono',consolas,'Courier New',monospace\"><span style=\"color: #000080; text-decoration-color: #000080\">INFO    </span> GPU available: <span style=\"color: #00ff00; text-decoration-color: #00ff00; font-style: italic\">True</span> <span style=\"font-weight: bold\">(</span>cuda<span style=\"font-weight: bold\">)</span>, used: <span style=\"color: #00ff00; text-decoration-color: #00ff00; font-style: italic\">True</span>                                                     <a href=\"file:///home/ye_canming/program_files/managers/conda/envs/yuequ/lib/python3.10/site-packages/lightning_utilities/core/rank_zero.py\" target=\"_blank\"><span style=\"color: #7f7f7f; text-decoration-color: #7f7f7f\">rank_zero.py</span></a><span style=\"color: #7f7f7f; text-decoration-color: #7f7f7f\">:</span><a href=\"file:///home/ye_canming/program_files/managers/conda/envs/yuequ/lib/python3.10/site-packages/lightning_utilities/core/rank_zero.py#63\" target=\"_blank\"><span style=\"color: #7f7f7f; text-decoration-color: #7f7f7f\">63</span></a>\n",
       "</pre>\n"
      ],
      "text/plain": [
       "\u001b[34mINFO    \u001b[0m GPU available: \u001b[3;92mTrue\u001b[0m \u001b[1m(\u001b[0mcuda\u001b[1m)\u001b[0m, used: \u001b[3;92mTrue\u001b[0m                                                     \u001b]8;id=838234;file:///home/ye_canming/program_files/managers/conda/envs/yuequ/lib/python3.10/site-packages/lightning_utilities/core/rank_zero.py\u001b\\\u001b[2mrank_zero.py\u001b[0m\u001b]8;;\u001b\\\u001b[2m:\u001b[0m\u001b]8;id=262674;file:///home/ye_canming/program_files/managers/conda/envs/yuequ/lib/python3.10/site-packages/lightning_utilities/core/rank_zero.py#63\u001b\\\u001b[2m63\u001b[0m\u001b]8;;\u001b\\\n"
      ]
     },
     "metadata": {},
     "output_type": "display_data"
    },
    {
     "name": "stderr",
     "output_type": "stream",
     "text": [
      "INFO: TPU available: False, using: 0 TPU cores\n"
     ]
    },
    {
     "data": {
      "text/html": [
       "<pre style=\"white-space:pre;overflow-x:auto;line-height:normal;font-family:Menlo,'DejaVu Sans Mono',consolas,'Courier New',monospace\"><span style=\"color: #7fbfbf; text-decoration-color: #7fbfbf\">Thu 2024-11-28 17:44:46.419962</span>\n",
       "</pre>\n"
      ],
      "text/plain": [
       "\u001b[2;36mThu 2024-11-28 17:44:46.419962\u001b[0m\n"
      ]
     },
     "metadata": {},
     "output_type": "display_data"
    },
    {
     "data": {
      "text/html": [
       "<pre style=\"white-space:pre;overflow-x:auto;line-height:normal;font-family:Menlo,'DejaVu Sans Mono',consolas,'Courier New',monospace\"><span style=\"color: #000080; text-decoration-color: #000080\">INFO    </span> TPU available: <span style=\"color: #ff0000; text-decoration-color: #ff0000; font-style: italic\">False</span>, using: <span style=\"color: #008080; text-decoration-color: #008080; font-weight: bold\">0</span> TPU cores                                                   <a href=\"file:///home/ye_canming/program_files/managers/conda/envs/yuequ/lib/python3.10/site-packages/lightning_utilities/core/rank_zero.py\" target=\"_blank\"><span style=\"color: #7f7f7f; text-decoration-color: #7f7f7f\">rank_zero.py</span></a><span style=\"color: #7f7f7f; text-decoration-color: #7f7f7f\">:</span><a href=\"file:///home/ye_canming/program_files/managers/conda/envs/yuequ/lib/python3.10/site-packages/lightning_utilities/core/rank_zero.py#63\" target=\"_blank\"><span style=\"color: #7f7f7f; text-decoration-color: #7f7f7f\">63</span></a>\n",
       "</pre>\n"
      ],
      "text/plain": [
       "\u001b[34mINFO    \u001b[0m TPU available: \u001b[3;91mFalse\u001b[0m, using: \u001b[1;36m0\u001b[0m TPU cores                                                   \u001b]8;id=631140;file:///home/ye_canming/program_files/managers/conda/envs/yuequ/lib/python3.10/site-packages/lightning_utilities/core/rank_zero.py\u001b\\\u001b[2mrank_zero.py\u001b[0m\u001b]8;;\u001b\\\u001b[2m:\u001b[0m\u001b]8;id=945989;file:///home/ye_canming/program_files/managers/conda/envs/yuequ/lib/python3.10/site-packages/lightning_utilities/core/rank_zero.py#63\u001b\\\u001b[2m63\u001b[0m\u001b]8;;\u001b\\\n"
      ]
     },
     "metadata": {},
     "output_type": "display_data"
    },
    {
     "name": "stderr",
     "output_type": "stream",
     "text": [
      "INFO: HPU available: False, using: 0 HPUs\n"
     ]
    },
    {
     "data": {
      "text/html": [
       "<pre style=\"white-space:pre;overflow-x:auto;line-height:normal;font-family:Menlo,'DejaVu Sans Mono',consolas,'Courier New',monospace\"><span style=\"color: #7fbfbf; text-decoration-color: #7fbfbf\">Thu 2024-11-28 17:44:46.426284</span>\n",
       "</pre>\n"
      ],
      "text/plain": [
       "\u001b[2;36mThu 2024-11-28 17:44:46.426284\u001b[0m\n"
      ]
     },
     "metadata": {},
     "output_type": "display_data"
    },
    {
     "data": {
      "text/html": [
       "<pre style=\"white-space:pre;overflow-x:auto;line-height:normal;font-family:Menlo,'DejaVu Sans Mono',consolas,'Courier New',monospace\"><span style=\"color: #000080; text-decoration-color: #000080\">INFO    </span> HPU available: <span style=\"color: #ff0000; text-decoration-color: #ff0000; font-style: italic\">False</span>, using: <span style=\"color: #008080; text-decoration-color: #008080; font-weight: bold\">0</span> HPUs                                                        <a href=\"file:///home/ye_canming/program_files/managers/conda/envs/yuequ/lib/python3.10/site-packages/lightning_utilities/core/rank_zero.py\" target=\"_blank\"><span style=\"color: #7f7f7f; text-decoration-color: #7f7f7f\">rank_zero.py</span></a><span style=\"color: #7f7f7f; text-decoration-color: #7f7f7f\">:</span><a href=\"file:///home/ye_canming/program_files/managers/conda/envs/yuequ/lib/python3.10/site-packages/lightning_utilities/core/rank_zero.py#63\" target=\"_blank\"><span style=\"color: #7f7f7f; text-decoration-color: #7f7f7f\">63</span></a>\n",
       "</pre>\n"
      ],
      "text/plain": [
       "\u001b[34mINFO    \u001b[0m HPU available: \u001b[3;91mFalse\u001b[0m, using: \u001b[1;36m0\u001b[0m HPUs                                                        \u001b]8;id=77324;file:///home/ye_canming/program_files/managers/conda/envs/yuequ/lib/python3.10/site-packages/lightning_utilities/core/rank_zero.py\u001b\\\u001b[2mrank_zero.py\u001b[0m\u001b]8;;\u001b\\\u001b[2m:\u001b[0m\u001b]8;id=942500;file:///home/ye_canming/program_files/managers/conda/envs/yuequ/lib/python3.10/site-packages/lightning_utilities/core/rank_zero.py#63\u001b\\\u001b[2m63\u001b[0m\u001b]8;;\u001b\\\n"
      ]
     },
     "metadata": {},
     "output_type": "display_data"
    },
    {
     "name": "stderr",
     "output_type": "stream",
     "text": [
      "/home/ye_canming/program_files/managers/conda/envs/yuequ/lib/python3.10/site-packages/lightning/pytorch/loops/utilities.py:72: `max_epochs` was not set. Setting it to 1000 epochs. To train without an epoch limit, set `max_epochs=-1`.\n",
      "INFO: You are using a CUDA device ('NVIDIA GeForce RTX 3090') that has Tensor Cores. To properly utilize them, you should set `torch.set_float32_matmul_precision('medium' | 'high')` which will trade-off precision for performance. For more details, read https://pytorch.org/docs/stable/generated/torch.set_float32_matmul_precision.html#torch.set_float32_matmul_precision\n"
     ]
    },
    {
     "data": {
      "text/html": [
       "<pre style=\"white-space:pre;overflow-x:auto;line-height:normal;font-family:Menlo,'DejaVu Sans Mono',consolas,'Courier New',monospace\"><span style=\"color: #7fbfbf; text-decoration-color: #7fbfbf\">Thu 2024-11-28 17:44:46.527179</span>\n",
       "</pre>\n"
      ],
      "text/plain": [
       "\u001b[2;36mThu 2024-11-28 17:44:46.527179\u001b[0m\n"
      ]
     },
     "metadata": {},
     "output_type": "display_data"
    },
    {
     "data": {
      "text/html": [
       "<pre style=\"white-space:pre;overflow-x:auto;line-height:normal;font-family:Menlo,'DejaVu Sans Mono',consolas,'Courier New',monospace\"><span style=\"color: #000080; text-decoration-color: #000080\">INFO    </span> You are using a CUDA device <span style=\"font-weight: bold\">(</span><span style=\"color: #008000; text-decoration-color: #008000\">'NVIDIA GeForce RTX 3090'</span><span style=\"font-weight: bold\">)</span> that has Tensor Cores. To properly <a href=\"file:///home/ye_canming/program_files/managers/conda/envs/yuequ/lib/python3.10/site-packages/lightning_utilities/core/rank_zero.py\" target=\"_blank\"><span style=\"color: #7f7f7f; text-decoration-color: #7f7f7f\">rank_zero.py</span></a><span style=\"color: #7f7f7f; text-decoration-color: #7f7f7f\">:</span><a href=\"file:///home/ye_canming/program_files/managers/conda/envs/yuequ/lib/python3.10/site-packages/lightning_utilities/core/rank_zero.py#63\" target=\"_blank\"><span style=\"color: #7f7f7f; text-decoration-color: #7f7f7f\">63</span></a>\n",
       "         utilize them, you should set `<span style=\"color: #800080; text-decoration-color: #800080; font-weight: bold\">torch.set_float32_matmul_precision</span><span style=\"font-weight: bold\">(</span><span style=\"color: #008000; text-decoration-color: #008000\">'medium'</span> | <span style=\"color: #008000; text-decoration-color: #008000\">'high'</span><span style=\"font-weight: bold\">)</span>` which <span style=\"color: #7f7f7f; text-decoration-color: #7f7f7f\">               </span>\n",
       "         will trade-off precision for performance. For more details, read                           <span style=\"color: #7f7f7f; text-decoration-color: #7f7f7f\">               </span>\n",
       "         <span style=\"color: #0000ff; text-decoration-color: #0000ff; text-decoration: underline\">https://pytorch.org/docs/stable/generated/torch.set_float32_matmul_precision.html#torch.se</span> <span style=\"color: #7f7f7f; text-decoration-color: #7f7f7f\">               </span>\n",
       "         <span style=\"color: #0000ff; text-decoration-color: #0000ff; text-decoration: underline\">t_float32_matmul_precision</span>                                                                 <span style=\"color: #7f7f7f; text-decoration-color: #7f7f7f\">               </span>\n",
       "</pre>\n"
      ],
      "text/plain": [
       "\u001b[34mINFO    \u001b[0m You are using a CUDA device \u001b[1m(\u001b[0m\u001b[32m'NVIDIA GeForce RTX 3090'\u001b[0m\u001b[1m)\u001b[0m that has Tensor Cores. To properly \u001b]8;id=587007;file:///home/ye_canming/program_files/managers/conda/envs/yuequ/lib/python3.10/site-packages/lightning_utilities/core/rank_zero.py\u001b\\\u001b[2mrank_zero.py\u001b[0m\u001b]8;;\u001b\\\u001b[2m:\u001b[0m\u001b]8;id=105592;file:///home/ye_canming/program_files/managers/conda/envs/yuequ/lib/python3.10/site-packages/lightning_utilities/core/rank_zero.py#63\u001b\\\u001b[2m63\u001b[0m\u001b]8;;\u001b\\\n",
       "         utilize them, you should set `\u001b[1;35mtorch.set_float32_matmul_precision\u001b[0m\u001b[1m(\u001b[0m\u001b[32m'medium'\u001b[0m | \u001b[32m'high'\u001b[0m\u001b[1m)\u001b[0m` which \u001b[2m               \u001b[0m\n",
       "         will trade-off precision for performance. For more details, read                           \u001b[2m               \u001b[0m\n",
       "         \u001b[4;94mhttps://pytorch.org/docs/stable/generated/torch.set_float32_matmul_precision.html#torch.se\u001b[0m \u001b[2m               \u001b[0m\n",
       "         \u001b[4;94mt_float32_matmul_precision\u001b[0m                                                                 \u001b[2m               \u001b[0m\n"
      ]
     },
     "metadata": {},
     "output_type": "display_data"
    },
    {
     "name": "stdout",
     "output_type": "stream",
     "text": [
      "Files already downloaded and verified\n",
      "Files already downloaded and verified\n"
     ]
    },
    {
     "name": "stderr",
     "output_type": "stream",
     "text": [
      "INFO: LOCAL_RANK: 0 - CUDA_VISIBLE_DEVICES: [0,1,2,3,4,5,6,7]\n"
     ]
    },
    {
     "data": {
      "text/html": [
       "<pre style=\"white-space:pre;overflow-x:auto;line-height:normal;font-family:Menlo,'DejaVu Sans Mono',consolas,'Courier New',monospace\"><span style=\"color: #7fbfbf; text-decoration-color: #7fbfbf\">Thu 2024-11-28 17:44:53.498680</span>\n",
       "</pre>\n"
      ],
      "text/plain": [
       "\u001b[2;36mThu 2024-11-28 17:44:53.498680\u001b[0m\n"
      ]
     },
     "metadata": {},
     "output_type": "display_data"
    },
    {
     "data": {
      "text/html": [
       "<pre style=\"white-space:pre;overflow-x:auto;line-height:normal;font-family:Menlo,'DejaVu Sans Mono',consolas,'Courier New',monospace\"><span style=\"color: #000080; text-decoration-color: #000080\">INFO    </span> LOCAL_RANK: <span style=\"color: #008080; text-decoration-color: #008080; font-weight: bold\">0</span> - CUDA_VISIBLE_DEVICES: <span style=\"font-weight: bold\">[</span><span style=\"color: #008080; text-decoration-color: #008080; font-weight: bold\">0</span>,<span style=\"color: #008080; text-decoration-color: #008080; font-weight: bold\">1</span>,<span style=\"color: #008080; text-decoration-color: #008080; font-weight: bold\">2</span>,<span style=\"color: #008080; text-decoration-color: #008080; font-weight: bold\">3</span>,<span style=\"color: #008080; text-decoration-color: #008080; font-weight: bold\">4</span>,<span style=\"color: #008080; text-decoration-color: #008080; font-weight: bold\">5</span>,<span style=\"color: #008080; text-decoration-color: #008080; font-weight: bold\">6</span>,<span style=\"color: #008080; text-decoration-color: #008080; font-weight: bold\">7</span><span style=\"font-weight: bold\">]</span>                                         <a href=\"file:///home/ye_canming/program_files/managers/conda/envs/yuequ/lib/python3.10/site-packages/lightning/pytorch/accelerators/cuda.py\" target=\"_blank\"><span style=\"color: #7f7f7f; text-decoration-color: #7f7f7f\">cuda.py</span></a><span style=\"color: #7f7f7f; text-decoration-color: #7f7f7f\">:</span><a href=\"file:///home/ye_canming/program_files/managers/conda/envs/yuequ/lib/python3.10/site-packages/lightning/pytorch/accelerators/cuda.py#61\" target=\"_blank\"><span style=\"color: #7f7f7f; text-decoration-color: #7f7f7f\">61</span></a>\n",
       "</pre>\n"
      ],
      "text/plain": [
       "\u001b[34mINFO    \u001b[0m LOCAL_RANK: \u001b[1;36m0\u001b[0m - CUDA_VISIBLE_DEVICES: \u001b[1m[\u001b[0m\u001b[1;36m0\u001b[0m,\u001b[1;36m1\u001b[0m,\u001b[1;36m2\u001b[0m,\u001b[1;36m3\u001b[0m,\u001b[1;36m4\u001b[0m,\u001b[1;36m5\u001b[0m,\u001b[1;36m6\u001b[0m,\u001b[1;36m7\u001b[0m\u001b[1m]\u001b[0m                                         \u001b]8;id=214410;file:///home/ye_canming/program_files/managers/conda/envs/yuequ/lib/python3.10/site-packages/lightning/pytorch/accelerators/cuda.py\u001b\\\u001b[2mcuda.py\u001b[0m\u001b]8;;\u001b\\\u001b[2m:\u001b[0m\u001b]8;id=579363;file:///home/ye_canming/program_files/managers/conda/envs/yuequ/lib/python3.10/site-packages/lightning/pytorch/accelerators/cuda.py#61\u001b\\\u001b[2m61\u001b[0m\u001b]8;;\u001b\\\n"
      ]
     },
     "metadata": {},
     "output_type": "display_data"
    },
    {
     "name": "stderr",
     "output_type": "stream",
     "text": [
      "INFO: `Trainer.fit` stopped: `max_steps=3` reached.\n"
     ]
    },
    {
     "data": {
      "text/html": [
       "<pre style=\"white-space:pre;overflow-x:auto;line-height:normal;font-family:Menlo,'DejaVu Sans Mono',consolas,'Courier New',monospace\"><span style=\"color: #7fbfbf; text-decoration-color: #7fbfbf\">Thu 2024-11-28 17:45:07.528442</span>\n",
       "</pre>\n"
      ],
      "text/plain": [
       "\u001b[2;36mThu 2024-11-28 17:45:07.528442\u001b[0m\n"
      ]
     },
     "metadata": {},
     "output_type": "display_data"
    },
    {
     "data": {
      "text/html": [
       "<pre style=\"white-space:pre;overflow-x:auto;line-height:normal;font-family:Menlo,'DejaVu Sans Mono',consolas,'Courier New',monospace\"><span style=\"color: #000080; text-decoration-color: #000080\">INFO    </span> `Trainer.fit` stopped: `<span style=\"color: #808000; text-decoration-color: #808000\">max_steps</span>=<span style=\"color: #008080; text-decoration-color: #008080; font-weight: bold\">3</span>` reached.                                              <a href=\"file:///home/ye_canming/program_files/managers/conda/envs/yuequ/lib/python3.10/site-packages/lightning_utilities/core/rank_zero.py\" target=\"_blank\"><span style=\"color: #7f7f7f; text-decoration-color: #7f7f7f\">rank_zero.py</span></a><span style=\"color: #7f7f7f; text-decoration-color: #7f7f7f\">:</span><a href=\"file:///home/ye_canming/program_files/managers/conda/envs/yuequ/lib/python3.10/site-packages/lightning_utilities/core/rank_zero.py#63\" target=\"_blank\"><span style=\"color: #7f7f7f; text-decoration-color: #7f7f7f\">63</span></a>\n",
       "</pre>\n"
      ],
      "text/plain": [
       "\u001b[34mINFO    \u001b[0m `Trainer.fit` stopped: `\u001b[33mmax_steps\u001b[0m=\u001b[1;36m3\u001b[0m` reached.                                              \u001b]8;id=273145;file:///home/ye_canming/program_files/managers/conda/envs/yuequ/lib/python3.10/site-packages/lightning_utilities/core/rank_zero.py\u001b\\\u001b[2mrank_zero.py\u001b[0m\u001b]8;;\u001b\\\u001b[2m:\u001b[0m\u001b]8;id=65304;file:///home/ye_canming/program_files/managers/conda/envs/yuequ/lib/python3.10/site-packages/lightning_utilities/core/rank_zero.py#63\u001b\\\u001b[2m63\u001b[0m\u001b]8;;\u001b\\\n"
      ]
     },
     "metadata": {},
     "output_type": "display_data"
    },
    {
     "name": "stderr",
     "output_type": "stream",
     "text": [
      "INFO: Batch size 64 succeeded, trying batch size 128\n"
     ]
    },
    {
     "data": {
      "text/html": [
       "<pre style=\"white-space:pre;overflow-x:auto;line-height:normal;font-family:Menlo,'DejaVu Sans Mono',consolas,'Courier New',monospace\"><span style=\"color: #7fbfbf; text-decoration-color: #7fbfbf\">Thu 2024-11-28 17:45:07.563661</span>\n",
       "</pre>\n"
      ],
      "text/plain": [
       "\u001b[2;36mThu 2024-11-28 17:45:07.563661\u001b[0m\n"
      ]
     },
     "metadata": {},
     "output_type": "display_data"
    },
    {
     "data": {
      "text/html": [
       "<pre style=\"white-space:pre;overflow-x:auto;line-height:normal;font-family:Menlo,'DejaVu Sans Mono',consolas,'Courier New',monospace\"><span style=\"color: #000080; text-decoration-color: #000080\">INFO    </span> Batch size <span style=\"color: #008080; text-decoration-color: #008080; font-weight: bold\">64</span> succeeded, trying batch size <span style=\"color: #008080; text-decoration-color: #008080; font-weight: bold\">128</span>                                             <a href=\"file:///home/ye_canming/program_files/managers/conda/envs/yuequ/lib/python3.10/site-packages/lightning_utilities/core/rank_zero.py\" target=\"_blank\"><span style=\"color: #7f7f7f; text-decoration-color: #7f7f7f\">rank_zero.py</span></a><span style=\"color: #7f7f7f; text-decoration-color: #7f7f7f\">:</span><a href=\"file:///home/ye_canming/program_files/managers/conda/envs/yuequ/lib/python3.10/site-packages/lightning_utilities/core/rank_zero.py#63\" target=\"_blank\"><span style=\"color: #7f7f7f; text-decoration-color: #7f7f7f\">63</span></a>\n",
       "</pre>\n"
      ],
      "text/plain": [
       "\u001b[34mINFO    \u001b[0m Batch size \u001b[1;36m64\u001b[0m succeeded, trying batch size \u001b[1;36m128\u001b[0m                                             \u001b]8;id=14723;file:///home/ye_canming/program_files/managers/conda/envs/yuequ/lib/python3.10/site-packages/lightning_utilities/core/rank_zero.py\u001b\\\u001b[2mrank_zero.py\u001b[0m\u001b]8;;\u001b\\\u001b[2m:\u001b[0m\u001b]8;id=97802;file:///home/ye_canming/program_files/managers/conda/envs/yuequ/lib/python3.10/site-packages/lightning_utilities/core/rank_zero.py#63\u001b\\\u001b[2m63\u001b[0m\u001b]8;;\u001b\\\n"
      ]
     },
     "metadata": {},
     "output_type": "display_data"
    },
    {
     "name": "stderr",
     "output_type": "stream",
     "text": [
      "INFO: `Trainer.fit` stopped: `max_steps=3` reached.\n"
     ]
    },
    {
     "data": {
      "text/html": [
       "<pre style=\"white-space:pre;overflow-x:auto;line-height:normal;font-family:Menlo,'DejaVu Sans Mono',consolas,'Courier New',monospace\"><span style=\"color: #7fbfbf; text-decoration-color: #7fbfbf\">Thu 2024-11-28 17:45:21.223059</span>\n",
       "</pre>\n"
      ],
      "text/plain": [
       "\u001b[2;36mThu 2024-11-28 17:45:21.223059\u001b[0m\n"
      ]
     },
     "metadata": {},
     "output_type": "display_data"
    },
    {
     "data": {
      "text/html": [
       "<pre style=\"white-space:pre;overflow-x:auto;line-height:normal;font-family:Menlo,'DejaVu Sans Mono',consolas,'Courier New',monospace\"><span style=\"color: #000080; text-decoration-color: #000080\">INFO    </span> `Trainer.fit` stopped: `<span style=\"color: #808000; text-decoration-color: #808000\">max_steps</span>=<span style=\"color: #008080; text-decoration-color: #008080; font-weight: bold\">3</span>` reached.                                              <a href=\"file:///home/ye_canming/program_files/managers/conda/envs/yuequ/lib/python3.10/site-packages/lightning_utilities/core/rank_zero.py\" target=\"_blank\"><span style=\"color: #7f7f7f; text-decoration-color: #7f7f7f\">rank_zero.py</span></a><span style=\"color: #7f7f7f; text-decoration-color: #7f7f7f\">:</span><a href=\"file:///home/ye_canming/program_files/managers/conda/envs/yuequ/lib/python3.10/site-packages/lightning_utilities/core/rank_zero.py#63\" target=\"_blank\"><span style=\"color: #7f7f7f; text-decoration-color: #7f7f7f\">63</span></a>\n",
       "</pre>\n"
      ],
      "text/plain": [
       "\u001b[34mINFO    \u001b[0m `Trainer.fit` stopped: `\u001b[33mmax_steps\u001b[0m=\u001b[1;36m3\u001b[0m` reached.                                              \u001b]8;id=864912;file:///home/ye_canming/program_files/managers/conda/envs/yuequ/lib/python3.10/site-packages/lightning_utilities/core/rank_zero.py\u001b\\\u001b[2mrank_zero.py\u001b[0m\u001b]8;;\u001b\\\u001b[2m:\u001b[0m\u001b]8;id=823182;file:///home/ye_canming/program_files/managers/conda/envs/yuequ/lib/python3.10/site-packages/lightning_utilities/core/rank_zero.py#63\u001b\\\u001b[2m63\u001b[0m\u001b]8;;\u001b\\\n"
      ]
     },
     "metadata": {},
     "output_type": "display_data"
    },
    {
     "name": "stderr",
     "output_type": "stream",
     "text": [
      "INFO: Batch size 128 succeeded, trying batch size 256\n"
     ]
    },
    {
     "data": {
      "text/html": [
       "<pre style=\"white-space:pre;overflow-x:auto;line-height:normal;font-family:Menlo,'DejaVu Sans Mono',consolas,'Courier New',monospace\"><span style=\"color: #7fbfbf; text-decoration-color: #7fbfbf\">Thu 2024-11-28 17:45:21.346267</span>\n",
       "</pre>\n"
      ],
      "text/plain": [
       "\u001b[2;36mThu 2024-11-28 17:45:21.346267\u001b[0m\n"
      ]
     },
     "metadata": {},
     "output_type": "display_data"
    },
    {
     "data": {
      "text/html": [
       "<pre style=\"white-space:pre;overflow-x:auto;line-height:normal;font-family:Menlo,'DejaVu Sans Mono',consolas,'Courier New',monospace\"><span style=\"color: #000080; text-decoration-color: #000080\">INFO    </span> Batch size <span style=\"color: #008080; text-decoration-color: #008080; font-weight: bold\">128</span> succeeded, trying batch size <span style=\"color: #008080; text-decoration-color: #008080; font-weight: bold\">256</span>                                            <a href=\"file:///home/ye_canming/program_files/managers/conda/envs/yuequ/lib/python3.10/site-packages/lightning_utilities/core/rank_zero.py\" target=\"_blank\"><span style=\"color: #7f7f7f; text-decoration-color: #7f7f7f\">rank_zero.py</span></a><span style=\"color: #7f7f7f; text-decoration-color: #7f7f7f\">:</span><a href=\"file:///home/ye_canming/program_files/managers/conda/envs/yuequ/lib/python3.10/site-packages/lightning_utilities/core/rank_zero.py#63\" target=\"_blank\"><span style=\"color: #7f7f7f; text-decoration-color: #7f7f7f\">63</span></a>\n",
       "</pre>\n"
      ],
      "text/plain": [
       "\u001b[34mINFO    \u001b[0m Batch size \u001b[1;36m128\u001b[0m succeeded, trying batch size \u001b[1;36m256\u001b[0m                                            \u001b]8;id=517553;file:///home/ye_canming/program_files/managers/conda/envs/yuequ/lib/python3.10/site-packages/lightning_utilities/core/rank_zero.py\u001b\\\u001b[2mrank_zero.py\u001b[0m\u001b]8;;\u001b\\\u001b[2m:\u001b[0m\u001b]8;id=868287;file:///home/ye_canming/program_files/managers/conda/envs/yuequ/lib/python3.10/site-packages/lightning_utilities/core/rank_zero.py#63\u001b\\\u001b[2m63\u001b[0m\u001b]8;;\u001b\\\n"
      ]
     },
     "metadata": {},
     "output_type": "display_data"
    },
    {
     "name": "stderr",
     "output_type": "stream",
     "text": [
      "INFO: Batch size 256 failed, trying batch size 192\n"
     ]
    },
    {
     "data": {
      "text/html": [
       "<pre style=\"white-space:pre;overflow-x:auto;line-height:normal;font-family:Menlo,'DejaVu Sans Mono',consolas,'Courier New',monospace\"><span style=\"color: #7fbfbf; text-decoration-color: #7fbfbf\">Thu 2024-11-28 17:45:40.855686</span>\n",
       "</pre>\n"
      ],
      "text/plain": [
       "\u001b[2;36mThu 2024-11-28 17:45:40.855686\u001b[0m\n"
      ]
     },
     "metadata": {},
     "output_type": "display_data"
    },
    {
     "data": {
      "text/html": [
       "<pre style=\"white-space:pre;overflow-x:auto;line-height:normal;font-family:Menlo,'DejaVu Sans Mono',consolas,'Courier New',monospace\"><span style=\"color: #000080; text-decoration-color: #000080\">INFO    </span> Batch size <span style=\"color: #008080; text-decoration-color: #008080; font-weight: bold\">256</span> failed, trying batch size <span style=\"color: #008080; text-decoration-color: #008080; font-weight: bold\">192</span>                                               <a href=\"file:///home/ye_canming/program_files/managers/conda/envs/yuequ/lib/python3.10/site-packages/lightning_utilities/core/rank_zero.py\" target=\"_blank\"><span style=\"color: #7f7f7f; text-decoration-color: #7f7f7f\">rank_zero.py</span></a><span style=\"color: #7f7f7f; text-decoration-color: #7f7f7f\">:</span><a href=\"file:///home/ye_canming/program_files/managers/conda/envs/yuequ/lib/python3.10/site-packages/lightning_utilities/core/rank_zero.py#63\" target=\"_blank\"><span style=\"color: #7f7f7f; text-decoration-color: #7f7f7f\">63</span></a>\n",
       "</pre>\n"
      ],
      "text/plain": [
       "\u001b[34mINFO    \u001b[0m Batch size \u001b[1;36m256\u001b[0m failed, trying batch size \u001b[1;36m192\u001b[0m                                               \u001b]8;id=341001;file:///home/ye_canming/program_files/managers/conda/envs/yuequ/lib/python3.10/site-packages/lightning_utilities/core/rank_zero.py\u001b\\\u001b[2mrank_zero.py\u001b[0m\u001b]8;;\u001b\\\u001b[2m:\u001b[0m\u001b]8;id=737822;file:///home/ye_canming/program_files/managers/conda/envs/yuequ/lib/python3.10/site-packages/lightning_utilities/core/rank_zero.py#63\u001b\\\u001b[2m63\u001b[0m\u001b]8;;\u001b\\\n"
      ]
     },
     "metadata": {},
     "output_type": "display_data"
    },
    {
     "name": "stderr",
     "output_type": "stream",
     "text": [
      "INFO: Batch size 192 failed, trying batch size 160\n"
     ]
    },
    {
     "data": {
      "text/html": [
       "<pre style=\"white-space:pre;overflow-x:auto;line-height:normal;font-family:Menlo,'DejaVu Sans Mono',consolas,'Courier New',monospace\"><span style=\"color: #7fbfbf; text-decoration-color: #7fbfbf\">Thu 2024-11-28 17:45:56.386506</span>\n",
       "</pre>\n"
      ],
      "text/plain": [
       "\u001b[2;36mThu 2024-11-28 17:45:56.386506\u001b[0m\n"
      ]
     },
     "metadata": {},
     "output_type": "display_data"
    },
    {
     "data": {
      "text/html": [
       "<pre style=\"white-space:pre;overflow-x:auto;line-height:normal;font-family:Menlo,'DejaVu Sans Mono',consolas,'Courier New',monospace\"><span style=\"color: #000080; text-decoration-color: #000080\">INFO    </span> Batch size <span style=\"color: #008080; text-decoration-color: #008080; font-weight: bold\">192</span> failed, trying batch size <span style=\"color: #008080; text-decoration-color: #008080; font-weight: bold\">160</span>                                               <a href=\"file:///home/ye_canming/program_files/managers/conda/envs/yuequ/lib/python3.10/site-packages/lightning_utilities/core/rank_zero.py\" target=\"_blank\"><span style=\"color: #7f7f7f; text-decoration-color: #7f7f7f\">rank_zero.py</span></a><span style=\"color: #7f7f7f; text-decoration-color: #7f7f7f\">:</span><a href=\"file:///home/ye_canming/program_files/managers/conda/envs/yuequ/lib/python3.10/site-packages/lightning_utilities/core/rank_zero.py#63\" target=\"_blank\"><span style=\"color: #7f7f7f; text-decoration-color: #7f7f7f\">63</span></a>\n",
       "</pre>\n"
      ],
      "text/plain": [
       "\u001b[34mINFO    \u001b[0m Batch size \u001b[1;36m192\u001b[0m failed, trying batch size \u001b[1;36m160\u001b[0m                                               \u001b]8;id=595078;file:///home/ye_canming/program_files/managers/conda/envs/yuequ/lib/python3.10/site-packages/lightning_utilities/core/rank_zero.py\u001b\\\u001b[2mrank_zero.py\u001b[0m\u001b]8;;\u001b\\\u001b[2m:\u001b[0m\u001b]8;id=232473;file:///home/ye_canming/program_files/managers/conda/envs/yuequ/lib/python3.10/site-packages/lightning_utilities/core/rank_zero.py#63\u001b\\\u001b[2m63\u001b[0m\u001b]8;;\u001b\\\n"
      ]
     },
     "metadata": {},
     "output_type": "display_data"
    },
    {
     "name": "stderr",
     "output_type": "stream",
     "text": [
      "INFO: `Trainer.fit` stopped: `max_steps=3` reached.\n"
     ]
    },
    {
     "data": {
      "text/html": [
       "<pre style=\"white-space:pre;overflow-x:auto;line-height:normal;font-family:Menlo,'DejaVu Sans Mono',consolas,'Courier New',monospace\"><span style=\"color: #7fbfbf; text-decoration-color: #7fbfbf\">Thu 2024-11-28 17:46:11.407479</span>\n",
       "</pre>\n"
      ],
      "text/plain": [
       "\u001b[2;36mThu 2024-11-28 17:46:11.407479\u001b[0m\n"
      ]
     },
     "metadata": {},
     "output_type": "display_data"
    },
    {
     "data": {
      "text/html": [
       "<pre style=\"white-space:pre;overflow-x:auto;line-height:normal;font-family:Menlo,'DejaVu Sans Mono',consolas,'Courier New',monospace\"><span style=\"color: #000080; text-decoration-color: #000080\">INFO    </span> `Trainer.fit` stopped: `<span style=\"color: #808000; text-decoration-color: #808000\">max_steps</span>=<span style=\"color: #008080; text-decoration-color: #008080; font-weight: bold\">3</span>` reached.                                              <a href=\"file:///home/ye_canming/program_files/managers/conda/envs/yuequ/lib/python3.10/site-packages/lightning_utilities/core/rank_zero.py\" target=\"_blank\"><span style=\"color: #7f7f7f; text-decoration-color: #7f7f7f\">rank_zero.py</span></a><span style=\"color: #7f7f7f; text-decoration-color: #7f7f7f\">:</span><a href=\"file:///home/ye_canming/program_files/managers/conda/envs/yuequ/lib/python3.10/site-packages/lightning_utilities/core/rank_zero.py#63\" target=\"_blank\"><span style=\"color: #7f7f7f; text-decoration-color: #7f7f7f\">63</span></a>\n",
       "</pre>\n"
      ],
      "text/plain": [
       "\u001b[34mINFO    \u001b[0m `Trainer.fit` stopped: `\u001b[33mmax_steps\u001b[0m=\u001b[1;36m3\u001b[0m` reached.                                              \u001b]8;id=569366;file:///home/ye_canming/program_files/managers/conda/envs/yuequ/lib/python3.10/site-packages/lightning_utilities/core/rank_zero.py\u001b\\\u001b[2mrank_zero.py\u001b[0m\u001b]8;;\u001b\\\u001b[2m:\u001b[0m\u001b]8;id=469730;file:///home/ye_canming/program_files/managers/conda/envs/yuequ/lib/python3.10/site-packages/lightning_utilities/core/rank_zero.py#63\u001b\\\u001b[2m63\u001b[0m\u001b]8;;\u001b\\\n"
      ]
     },
     "metadata": {},
     "output_type": "display_data"
    },
    {
     "name": "stderr",
     "output_type": "stream",
     "text": [
      "INFO: Batch size 160 succeeded, trying batch size 176\n"
     ]
    },
    {
     "data": {
      "text/html": [
       "<pre style=\"white-space:pre;overflow-x:auto;line-height:normal;font-family:Menlo,'DejaVu Sans Mono',consolas,'Courier New',monospace\"><span style=\"color: #7fbfbf; text-decoration-color: #7fbfbf\">Thu 2024-11-28 17:46:11.609535</span>\n",
       "</pre>\n"
      ],
      "text/plain": [
       "\u001b[2;36mThu 2024-11-28 17:46:11.609535\u001b[0m\n"
      ]
     },
     "metadata": {},
     "output_type": "display_data"
    },
    {
     "data": {
      "text/html": [
       "<pre style=\"white-space:pre;overflow-x:auto;line-height:normal;font-family:Menlo,'DejaVu Sans Mono',consolas,'Courier New',monospace\"><span style=\"color: #000080; text-decoration-color: #000080\">INFO    </span> Batch size <span style=\"color: #008080; text-decoration-color: #008080; font-weight: bold\">160</span> succeeded, trying batch size <span style=\"color: #008080; text-decoration-color: #008080; font-weight: bold\">176</span>                                            <a href=\"file:///home/ye_canming/program_files/managers/conda/envs/yuequ/lib/python3.10/site-packages/lightning_utilities/core/rank_zero.py\" target=\"_blank\"><span style=\"color: #7f7f7f; text-decoration-color: #7f7f7f\">rank_zero.py</span></a><span style=\"color: #7f7f7f; text-decoration-color: #7f7f7f\">:</span><a href=\"file:///home/ye_canming/program_files/managers/conda/envs/yuequ/lib/python3.10/site-packages/lightning_utilities/core/rank_zero.py#63\" target=\"_blank\"><span style=\"color: #7f7f7f; text-decoration-color: #7f7f7f\">63</span></a>\n",
       "</pre>\n"
      ],
      "text/plain": [
       "\u001b[34mINFO    \u001b[0m Batch size \u001b[1;36m160\u001b[0m succeeded, trying batch size \u001b[1;36m176\u001b[0m                                            \u001b]8;id=532614;file:///home/ye_canming/program_files/managers/conda/envs/yuequ/lib/python3.10/site-packages/lightning_utilities/core/rank_zero.py\u001b\\\u001b[2mrank_zero.py\u001b[0m\u001b]8;;\u001b\\\u001b[2m:\u001b[0m\u001b]8;id=978147;file:///home/ye_canming/program_files/managers/conda/envs/yuequ/lib/python3.10/site-packages/lightning_utilities/core/rank_zero.py#63\u001b\\\u001b[2m63\u001b[0m\u001b]8;;\u001b\\\n"
      ]
     },
     "metadata": {},
     "output_type": "display_data"
    },
    {
     "name": "stderr",
     "output_type": "stream",
     "text": [
      "INFO: Batch size 176 failed, trying batch size 168\n"
     ]
    },
    {
     "data": {
      "text/html": [
       "<pre style=\"white-space:pre;overflow-x:auto;line-height:normal;font-family:Menlo,'DejaVu Sans Mono',consolas,'Courier New',monospace\"><span style=\"color: #7fbfbf; text-decoration-color: #7fbfbf\">Thu 2024-11-28 17:46:30.712174</span>\n",
       "</pre>\n"
      ],
      "text/plain": [
       "\u001b[2;36mThu 2024-11-28 17:46:30.712174\u001b[0m\n"
      ]
     },
     "metadata": {},
     "output_type": "display_data"
    },
    {
     "data": {
      "text/html": [
       "<pre style=\"white-space:pre;overflow-x:auto;line-height:normal;font-family:Menlo,'DejaVu Sans Mono',consolas,'Courier New',monospace\"><span style=\"color: #000080; text-decoration-color: #000080\">INFO    </span> Batch size <span style=\"color: #008080; text-decoration-color: #008080; font-weight: bold\">176</span> failed, trying batch size <span style=\"color: #008080; text-decoration-color: #008080; font-weight: bold\">168</span>                                               <a href=\"file:///home/ye_canming/program_files/managers/conda/envs/yuequ/lib/python3.10/site-packages/lightning_utilities/core/rank_zero.py\" target=\"_blank\"><span style=\"color: #7f7f7f; text-decoration-color: #7f7f7f\">rank_zero.py</span></a><span style=\"color: #7f7f7f; text-decoration-color: #7f7f7f\">:</span><a href=\"file:///home/ye_canming/program_files/managers/conda/envs/yuequ/lib/python3.10/site-packages/lightning_utilities/core/rank_zero.py#63\" target=\"_blank\"><span style=\"color: #7f7f7f; text-decoration-color: #7f7f7f\">63</span></a>\n",
       "</pre>\n"
      ],
      "text/plain": [
       "\u001b[34mINFO    \u001b[0m Batch size \u001b[1;36m176\u001b[0m failed, trying batch size \u001b[1;36m168\u001b[0m                                               \u001b]8;id=305230;file:///home/ye_canming/program_files/managers/conda/envs/yuequ/lib/python3.10/site-packages/lightning_utilities/core/rank_zero.py\u001b\\\u001b[2mrank_zero.py\u001b[0m\u001b]8;;\u001b\\\u001b[2m:\u001b[0m\u001b]8;id=740883;file:///home/ye_canming/program_files/managers/conda/envs/yuequ/lib/python3.10/site-packages/lightning_utilities/core/rank_zero.py#63\u001b\\\u001b[2m63\u001b[0m\u001b]8;;\u001b\\\n"
      ]
     },
     "metadata": {},
     "output_type": "display_data"
    },
    {
     "name": "stderr",
     "output_type": "stream",
     "text": [
      "INFO: Batch size 168 failed, trying batch size 164\n"
     ]
    },
    {
     "data": {
      "text/html": [
       "<pre style=\"white-space:pre;overflow-x:auto;line-height:normal;font-family:Menlo,'DejaVu Sans Mono',consolas,'Courier New',monospace\"><span style=\"color: #7fbfbf; text-decoration-color: #7fbfbf\">Thu 2024-11-28 17:46:42.152552</span>\n",
       "</pre>\n"
      ],
      "text/plain": [
       "\u001b[2;36mThu 2024-11-28 17:46:42.152552\u001b[0m\n"
      ]
     },
     "metadata": {},
     "output_type": "display_data"
    },
    {
     "data": {
      "text/html": [
       "<pre style=\"white-space:pre;overflow-x:auto;line-height:normal;font-family:Menlo,'DejaVu Sans Mono',consolas,'Courier New',monospace\"><span style=\"color: #000080; text-decoration-color: #000080\">INFO    </span> Batch size <span style=\"color: #008080; text-decoration-color: #008080; font-weight: bold\">168</span> failed, trying batch size <span style=\"color: #008080; text-decoration-color: #008080; font-weight: bold\">164</span>                                               <a href=\"file:///home/ye_canming/program_files/managers/conda/envs/yuequ/lib/python3.10/site-packages/lightning_utilities/core/rank_zero.py\" target=\"_blank\"><span style=\"color: #7f7f7f; text-decoration-color: #7f7f7f\">rank_zero.py</span></a><span style=\"color: #7f7f7f; text-decoration-color: #7f7f7f\">:</span><a href=\"file:///home/ye_canming/program_files/managers/conda/envs/yuequ/lib/python3.10/site-packages/lightning_utilities/core/rank_zero.py#63\" target=\"_blank\"><span style=\"color: #7f7f7f; text-decoration-color: #7f7f7f\">63</span></a>\n",
       "</pre>\n"
      ],
      "text/plain": [
       "\u001b[34mINFO    \u001b[0m Batch size \u001b[1;36m168\u001b[0m failed, trying batch size \u001b[1;36m164\u001b[0m                                               \u001b]8;id=967048;file:///home/ye_canming/program_files/managers/conda/envs/yuequ/lib/python3.10/site-packages/lightning_utilities/core/rank_zero.py\u001b\\\u001b[2mrank_zero.py\u001b[0m\u001b]8;;\u001b\\\u001b[2m:\u001b[0m\u001b]8;id=566528;file:///home/ye_canming/program_files/managers/conda/envs/yuequ/lib/python3.10/site-packages/lightning_utilities/core/rank_zero.py#63\u001b\\\u001b[2m63\u001b[0m\u001b]8;;\u001b\\\n"
      ]
     },
     "metadata": {},
     "output_type": "display_data"
    },
    {
     "name": "stderr",
     "output_type": "stream",
     "text": [
      "INFO: Batch size 164 failed, trying batch size 162\n"
     ]
    },
    {
     "data": {
      "text/html": [
       "<pre style=\"white-space:pre;overflow-x:auto;line-height:normal;font-family:Menlo,'DejaVu Sans Mono',consolas,'Courier New',monospace\"><span style=\"color: #7fbfbf; text-decoration-color: #7fbfbf\">Thu 2024-11-28 17:46:58.342155</span>\n",
       "</pre>\n"
      ],
      "text/plain": [
       "\u001b[2;36mThu 2024-11-28 17:46:58.342155\u001b[0m\n"
      ]
     },
     "metadata": {},
     "output_type": "display_data"
    },
    {
     "data": {
      "text/html": [
       "<pre style=\"white-space:pre;overflow-x:auto;line-height:normal;font-family:Menlo,'DejaVu Sans Mono',consolas,'Courier New',monospace\"><span style=\"color: #000080; text-decoration-color: #000080\">INFO    </span> Batch size <span style=\"color: #008080; text-decoration-color: #008080; font-weight: bold\">164</span> failed, trying batch size <span style=\"color: #008080; text-decoration-color: #008080; font-weight: bold\">162</span>                                               <a href=\"file:///home/ye_canming/program_files/managers/conda/envs/yuequ/lib/python3.10/site-packages/lightning_utilities/core/rank_zero.py\" target=\"_blank\"><span style=\"color: #7f7f7f; text-decoration-color: #7f7f7f\">rank_zero.py</span></a><span style=\"color: #7f7f7f; text-decoration-color: #7f7f7f\">:</span><a href=\"file:///home/ye_canming/program_files/managers/conda/envs/yuequ/lib/python3.10/site-packages/lightning_utilities/core/rank_zero.py#63\" target=\"_blank\"><span style=\"color: #7f7f7f; text-decoration-color: #7f7f7f\">63</span></a>\n",
       "</pre>\n"
      ],
      "text/plain": [
       "\u001b[34mINFO    \u001b[0m Batch size \u001b[1;36m164\u001b[0m failed, trying batch size \u001b[1;36m162\u001b[0m                                               \u001b]8;id=616161;file:///home/ye_canming/program_files/managers/conda/envs/yuequ/lib/python3.10/site-packages/lightning_utilities/core/rank_zero.py\u001b\\\u001b[2mrank_zero.py\u001b[0m\u001b]8;;\u001b\\\u001b[2m:\u001b[0m\u001b]8;id=301630;file:///home/ye_canming/program_files/managers/conda/envs/yuequ/lib/python3.10/site-packages/lightning_utilities/core/rank_zero.py#63\u001b\\\u001b[2m63\u001b[0m\u001b]8;;\u001b\\\n"
      ]
     },
     "metadata": {},
     "output_type": "display_data"
    },
    {
     "name": "stderr",
     "output_type": "stream",
     "text": [
      "INFO: Batch size 162 failed, trying batch size 161\n"
     ]
    },
    {
     "data": {
      "text/html": [
       "<pre style=\"white-space:pre;overflow-x:auto;line-height:normal;font-family:Menlo,'DejaVu Sans Mono',consolas,'Courier New',monospace\"><span style=\"color: #7fbfbf; text-decoration-color: #7fbfbf\">Thu 2024-11-28 17:47:14.497863</span>\n",
       "</pre>\n"
      ],
      "text/plain": [
       "\u001b[2;36mThu 2024-11-28 17:47:14.497863\u001b[0m\n"
      ]
     },
     "metadata": {},
     "output_type": "display_data"
    },
    {
     "data": {
      "text/html": [
       "<pre style=\"white-space:pre;overflow-x:auto;line-height:normal;font-family:Menlo,'DejaVu Sans Mono',consolas,'Courier New',monospace\"><span style=\"color: #000080; text-decoration-color: #000080\">INFO    </span> Batch size <span style=\"color: #008080; text-decoration-color: #008080; font-weight: bold\">162</span> failed, trying batch size <span style=\"color: #008080; text-decoration-color: #008080; font-weight: bold\">161</span>                                               <a href=\"file:///home/ye_canming/program_files/managers/conda/envs/yuequ/lib/python3.10/site-packages/lightning_utilities/core/rank_zero.py\" target=\"_blank\"><span style=\"color: #7f7f7f; text-decoration-color: #7f7f7f\">rank_zero.py</span></a><span style=\"color: #7f7f7f; text-decoration-color: #7f7f7f\">:</span><a href=\"file:///home/ye_canming/program_files/managers/conda/envs/yuequ/lib/python3.10/site-packages/lightning_utilities/core/rank_zero.py#63\" target=\"_blank\"><span style=\"color: #7f7f7f; text-decoration-color: #7f7f7f\">63</span></a>\n",
       "</pre>\n"
      ],
      "text/plain": [
       "\u001b[34mINFO    \u001b[0m Batch size \u001b[1;36m162\u001b[0m failed, trying batch size \u001b[1;36m161\u001b[0m                                               \u001b]8;id=403598;file:///home/ye_canming/program_files/managers/conda/envs/yuequ/lib/python3.10/site-packages/lightning_utilities/core/rank_zero.py\u001b\\\u001b[2mrank_zero.py\u001b[0m\u001b]8;;\u001b\\\u001b[2m:\u001b[0m\u001b]8;id=332447;file:///home/ye_canming/program_files/managers/conda/envs/yuequ/lib/python3.10/site-packages/lightning_utilities/core/rank_zero.py#63\u001b\\\u001b[2m63\u001b[0m\u001b]8;;\u001b\\\n"
      ]
     },
     "metadata": {},
     "output_type": "display_data"
    },
    {
     "name": "stderr",
     "output_type": "stream",
     "text": [
      "INFO: `Trainer.fit` stopped: `max_steps=3` reached.\n"
     ]
    },
    {
     "data": {
      "text/html": [
       "<pre style=\"white-space:pre;overflow-x:auto;line-height:normal;font-family:Menlo,'DejaVu Sans Mono',consolas,'Courier New',monospace\"><span style=\"color: #7fbfbf; text-decoration-color: #7fbfbf\">Thu 2024-11-28 17:47:29.387652</span>\n",
       "</pre>\n"
      ],
      "text/plain": [
       "\u001b[2;36mThu 2024-11-28 17:47:29.387652\u001b[0m\n"
      ]
     },
     "metadata": {},
     "output_type": "display_data"
    },
    {
     "data": {
      "text/html": [
       "<pre style=\"white-space:pre;overflow-x:auto;line-height:normal;font-family:Menlo,'DejaVu Sans Mono',consolas,'Courier New',monospace\"><span style=\"color: #000080; text-decoration-color: #000080\">INFO    </span> `Trainer.fit` stopped: `<span style=\"color: #808000; text-decoration-color: #808000\">max_steps</span>=<span style=\"color: #008080; text-decoration-color: #008080; font-weight: bold\">3</span>` reached.                                              <a href=\"file:///home/ye_canming/program_files/managers/conda/envs/yuequ/lib/python3.10/site-packages/lightning_utilities/core/rank_zero.py\" target=\"_blank\"><span style=\"color: #7f7f7f; text-decoration-color: #7f7f7f\">rank_zero.py</span></a><span style=\"color: #7f7f7f; text-decoration-color: #7f7f7f\">:</span><a href=\"file:///home/ye_canming/program_files/managers/conda/envs/yuequ/lib/python3.10/site-packages/lightning_utilities/core/rank_zero.py#63\" target=\"_blank\"><span style=\"color: #7f7f7f; text-decoration-color: #7f7f7f\">63</span></a>\n",
       "</pre>\n"
      ],
      "text/plain": [
       "\u001b[34mINFO    \u001b[0m `Trainer.fit` stopped: `\u001b[33mmax_steps\u001b[0m=\u001b[1;36m3\u001b[0m` reached.                                              \u001b]8;id=198591;file:///home/ye_canming/program_files/managers/conda/envs/yuequ/lib/python3.10/site-packages/lightning_utilities/core/rank_zero.py\u001b\\\u001b[2mrank_zero.py\u001b[0m\u001b]8;;\u001b\\\u001b[2m:\u001b[0m\u001b]8;id=861370;file:///home/ye_canming/program_files/managers/conda/envs/yuequ/lib/python3.10/site-packages/lightning_utilities/core/rank_zero.py#63\u001b\\\u001b[2m63\u001b[0m\u001b]8;;\u001b\\\n"
      ]
     },
     "metadata": {},
     "output_type": "display_data"
    },
    {
     "name": "stderr",
     "output_type": "stream",
     "text": [
      "INFO: Finished batch size finder, will continue with full run using batch size 161\n"
     ]
    },
    {
     "data": {
      "text/html": [
       "<pre style=\"white-space:pre;overflow-x:auto;line-height:normal;font-family:Menlo,'DejaVu Sans Mono',consolas,'Courier New',monospace\"><span style=\"color: #7fbfbf; text-decoration-color: #7fbfbf\">Thu 2024-11-28 17:47:33.895973</span>\n",
       "</pre>\n"
      ],
      "text/plain": [
       "\u001b[2;36mThu 2024-11-28 17:47:33.895973\u001b[0m\n"
      ]
     },
     "metadata": {},
     "output_type": "display_data"
    },
    {
     "data": {
      "text/html": [
       "<pre style=\"white-space:pre;overflow-x:auto;line-height:normal;font-family:Menlo,'DejaVu Sans Mono',consolas,'Courier New',monospace\"><span style=\"color: #000080; text-decoration-color: #000080\">INFO    </span> Finished batch size finder, will continue with full run using batch size <span style=\"color: #008080; text-decoration-color: #008080; font-weight: bold\">161</span>      <a href=\"file:///home/ye_canming/program_files/managers/conda/envs/yuequ/lib/python3.10/site-packages/lightning/pytorch/tuner/batch_size_scaling.py\" target=\"_blank\"><span style=\"color: #7f7f7f; text-decoration-color: #7f7f7f\">batch_size_scaling.py</span></a><span style=\"color: #7f7f7f; text-decoration-color: #7f7f7f\">:</span><a href=\"file:///home/ye_canming/program_files/managers/conda/envs/yuequ/lib/python3.10/site-packages/lightning/pytorch/tuner/batch_size_scaling.py#88\" target=\"_blank\"><span style=\"color: #7f7f7f; text-decoration-color: #7f7f7f\">88</span></a>\n",
       "</pre>\n"
      ],
      "text/plain": [
       "\u001b[34mINFO    \u001b[0m Finished batch size finder, will continue with full run using batch size \u001b[1;36m161\u001b[0m      \u001b]8;id=72441;file:///home/ye_canming/program_files/managers/conda/envs/yuequ/lib/python3.10/site-packages/lightning/pytorch/tuner/batch_size_scaling.py\u001b\\\u001b[2mbatch_size_scaling.py\u001b[0m\u001b]8;;\u001b\\\u001b[2m:\u001b[0m\u001b]8;id=94187;file:///home/ye_canming/program_files/managers/conda/envs/yuequ/lib/python3.10/site-packages/lightning/pytorch/tuner/batch_size_scaling.py#88\u001b\\\u001b[2m88\u001b[0m\u001b]8;;\u001b\\\n"
      ]
     },
     "metadata": {},
     "output_type": "display_data"
    },
    {
     "name": "stderr",
     "output_type": "stream",
     "text": [
      "INFO: Restoring states from the checkpoint path at /home/ye_canming/repos/novelties/cv/cls/NamableClassify/nbs/.scale_batch_size_22687bb7-c0d9-4b7f-8bf1-b3df08f5e9e3.ckpt\n"
     ]
    },
    {
     "data": {
      "text/html": [
       "<pre style=\"white-space:pre;overflow-x:auto;line-height:normal;font-family:Menlo,'DejaVu Sans Mono',consolas,'Courier New',monospace\"><span style=\"color: #7fbfbf; text-decoration-color: #7fbfbf\">Thu 2024-11-28 17:47:35.763894</span>\n",
       "</pre>\n"
      ],
      "text/plain": [
       "\u001b[2;36mThu 2024-11-28 17:47:35.763894\u001b[0m\n"
      ]
     },
     "metadata": {},
     "output_type": "display_data"
    },
    {
     "data": {
      "text/html": [
       "<pre style=\"white-space:pre;overflow-x:auto;line-height:normal;font-family:Menlo,'DejaVu Sans Mono',consolas,'Courier New',monospace\"><span style=\"color: #000080; text-decoration-color: #000080\">INFO    </span> Restoring states from the checkpoint path at                                               <a href=\"file:///home/ye_canming/program_files/managers/conda/envs/yuequ/lib/python3.10/site-packages/lightning_utilities/core/rank_zero.py\" target=\"_blank\"><span style=\"color: #7f7f7f; text-decoration-color: #7f7f7f\">rank_zero.py</span></a><span style=\"color: #7f7f7f; text-decoration-color: #7f7f7f\">:</span><a href=\"file:///home/ye_canming/program_files/managers/conda/envs/yuequ/lib/python3.10/site-packages/lightning_utilities/core/rank_zero.py#63\" target=\"_blank\"><span style=\"color: #7f7f7f; text-decoration-color: #7f7f7f\">63</span></a>\n",
       "         <span style=\"color: #800080; text-decoration-color: #800080\">/home/ye_canming/repos/novelties/cv/cls/NamableClassify/nbs/</span><span style=\"color: #ff00ff; text-decoration-color: #ff00ff\">.scale_batch_size_22687bb7-c0d</span> <span style=\"color: #7f7f7f; text-decoration-color: #7f7f7f\">               </span>\n",
       "         <span style=\"color: #ff00ff; text-decoration-color: #ff00ff\">9-4b7f-8bf1-b3df08f5e9e3.ckpt</span>                                                              <span style=\"color: #7f7f7f; text-decoration-color: #7f7f7f\">               </span>\n",
       "</pre>\n"
      ],
      "text/plain": [
       "\u001b[34mINFO    \u001b[0m Restoring states from the checkpoint path at                                               \u001b]8;id=156814;file:///home/ye_canming/program_files/managers/conda/envs/yuequ/lib/python3.10/site-packages/lightning_utilities/core/rank_zero.py\u001b\\\u001b[2mrank_zero.py\u001b[0m\u001b]8;;\u001b\\\u001b[2m:\u001b[0m\u001b]8;id=968235;file:///home/ye_canming/program_files/managers/conda/envs/yuequ/lib/python3.10/site-packages/lightning_utilities/core/rank_zero.py#63\u001b\\\u001b[2m63\u001b[0m\u001b]8;;\u001b\\\n",
       "         \u001b[35m/home/ye_canming/repos/novelties/cv/cls/NamableClassify/nbs/\u001b[0m\u001b[95m.scale_batch_size_22687bb7-c0d\u001b[0m \u001b[2m               \u001b[0m\n",
       "         \u001b[95m9-4b7f-8bf1-b3df08f5e9e3.ckpt\u001b[0m                                                              \u001b[2m               \u001b[0m\n"
      ]
     },
     "metadata": {},
     "output_type": "display_data"
    },
    {
     "name": "stderr",
     "output_type": "stream",
     "text": [
      "INFO: Restored all states from the checkpoint at /home/ye_canming/repos/novelties/cv/cls/NamableClassify/nbs/.scale_batch_size_22687bb7-c0d9-4b7f-8bf1-b3df08f5e9e3.ckpt\n"
     ]
    },
    {
     "data": {
      "text/html": [
       "<pre style=\"white-space:pre;overflow-x:auto;line-height:normal;font-family:Menlo,'DejaVu Sans Mono',consolas,'Courier New',monospace\"><span style=\"color: #7fbfbf; text-decoration-color: #7fbfbf\">Thu 2024-11-28 17:47:37.985051</span>\n",
       "</pre>\n"
      ],
      "text/plain": [
       "\u001b[2;36mThu 2024-11-28 17:47:37.985051\u001b[0m\n"
      ]
     },
     "metadata": {},
     "output_type": "display_data"
    },
    {
     "data": {
      "text/html": [
       "<pre style=\"white-space:pre;overflow-x:auto;line-height:normal;font-family:Menlo,'DejaVu Sans Mono',consolas,'Courier New',monospace\"><span style=\"color: #000080; text-decoration-color: #000080\">INFO    </span> Restored all states from the checkpoint at                                                 <a href=\"file:///home/ye_canming/program_files/managers/conda/envs/yuequ/lib/python3.10/site-packages/lightning_utilities/core/rank_zero.py\" target=\"_blank\"><span style=\"color: #7f7f7f; text-decoration-color: #7f7f7f\">rank_zero.py</span></a><span style=\"color: #7f7f7f; text-decoration-color: #7f7f7f\">:</span><a href=\"file:///home/ye_canming/program_files/managers/conda/envs/yuequ/lib/python3.10/site-packages/lightning_utilities/core/rank_zero.py#63\" target=\"_blank\"><span style=\"color: #7f7f7f; text-decoration-color: #7f7f7f\">63</span></a>\n",
       "         <span style=\"color: #800080; text-decoration-color: #800080\">/home/ye_canming/repos/novelties/cv/cls/NamableClassify/nbs/</span><span style=\"color: #ff00ff; text-decoration-color: #ff00ff\">.scale_batch_size_22687bb7-c0d</span> <span style=\"color: #7f7f7f; text-decoration-color: #7f7f7f\">               </span>\n",
       "         <span style=\"color: #ff00ff; text-decoration-color: #ff00ff\">9-4b7f-8bf1-b3df08f5e9e3.ckpt</span>                                                              <span style=\"color: #7f7f7f; text-decoration-color: #7f7f7f\">               </span>\n",
       "</pre>\n"
      ],
      "text/plain": [
       "\u001b[34mINFO    \u001b[0m Restored all states from the checkpoint at                                                 \u001b]8;id=733293;file:///home/ye_canming/program_files/managers/conda/envs/yuequ/lib/python3.10/site-packages/lightning_utilities/core/rank_zero.py\u001b\\\u001b[2mrank_zero.py\u001b[0m\u001b]8;;\u001b\\\u001b[2m:\u001b[0m\u001b]8;id=967922;file:///home/ye_canming/program_files/managers/conda/envs/yuequ/lib/python3.10/site-packages/lightning_utilities/core/rank_zero.py#63\u001b\\\u001b[2m63\u001b[0m\u001b]8;;\u001b\\\n",
       "         \u001b[35m/home/ye_canming/repos/novelties/cv/cls/NamableClassify/nbs/\u001b[0m\u001b[95m.scale_batch_size_22687bb7-c0d\u001b[0m \u001b[2m               \u001b[0m\n",
       "         \u001b[95m9-4b7f-8bf1-b3df08f5e9e3.ckpt\u001b[0m                                                              \u001b[2m               \u001b[0m\n"
      ]
     },
     "metadata": {},
     "output_type": "display_data"
    },
    {
     "data": {
      "text/html": [
       "<pre style=\"white-space:pre;overflow-x:auto;line-height:normal;font-family:Menlo,'DejaVu Sans Mono',consolas,'Courier New',monospace\"></pre>\n"
      ],
      "text/plain": []
     },
     "metadata": {},
     "output_type": "display_data"
    },
    {
     "data": {
      "text/plain": [
       "\u001b[1m(\u001b[0m\u001b[1;36m161\u001b[0m, \u001b[1;36m161\u001b[0m\u001b[1m)\u001b[0m"
      ]
     },
     "execution_count": 10,
     "metadata": {},
     "output_type": "execute_result"
    }
   ],
   "source": [
    "#| eval: false\n",
    "trainer = L.Trainer()\n",
    "from lightning.pytorch.tuner import Tuner\n",
    "tuner = Tuner(trainer)\n",
    "found_batch_size = tuner.scale_batch_size(cls_task, datamodule=cls_task.lit_data, \n",
    "                                          mode='binsearch', \n",
    "                                          init_val=64)\n",
    "found_batch_size, cls_task.lit_data.hparams.batch_size"
   ]
  },
  {
   "cell_type": "code",
   "execution_count": 11,
   "metadata": {},
   "outputs": [
    {
     "name": "stdout",
     "output_type": "stream",
     "text": [
      "Files already downloaded and verified\n",
      "Files already downloaded and verified\n"
     ]
    },
    {
     "name": "stderr",
     "output_type": "stream",
     "text": [
      "INFO: LOCAL_RANK: 0 - CUDA_VISIBLE_DEVICES: [0,1,2,3,4,5,6,7]\n"
     ]
    },
    {
     "name": "stdout",
     "output_type": "stream",
     "text": [
      "Validation loader has been setup before. \n"
     ]
    },
    {
     "data": {
      "text/html": [
       "<pre style=\"white-space:pre;overflow-x:auto;line-height:normal;font-family:Menlo,'DejaVu Sans Mono',consolas,'Courier New',monospace\"><span style=\"color: #7fbfbf; text-decoration-color: #7fbfbf\">Thu 2024-11-28 17:47:49.571534</span>\n",
       "</pre>\n"
      ],
      "text/plain": [
       "\u001b[2;36mThu 2024-11-28 17:47:49.571534\u001b[0m\n"
      ]
     },
     "metadata": {},
     "output_type": "display_data"
    },
    {
     "data": {
      "text/html": [
       "<pre style=\"white-space:pre;overflow-x:auto;line-height:normal;font-family:Menlo,'DejaVu Sans Mono',consolas,'Courier New',monospace\"><span style=\"color: #000080; text-decoration-color: #000080\">INFO    </span> LOCAL_RANK: <span style=\"color: #008080; text-decoration-color: #008080; font-weight: bold\">0</span> - CUDA_VISIBLE_DEVICES: <span style=\"font-weight: bold\">[</span><span style=\"color: #008080; text-decoration-color: #008080; font-weight: bold\">0</span>,<span style=\"color: #008080; text-decoration-color: #008080; font-weight: bold\">1</span>,<span style=\"color: #008080; text-decoration-color: #008080; font-weight: bold\">2</span>,<span style=\"color: #008080; text-decoration-color: #008080; font-weight: bold\">3</span>,<span style=\"color: #008080; text-decoration-color: #008080; font-weight: bold\">4</span>,<span style=\"color: #008080; text-decoration-color: #008080; font-weight: bold\">5</span>,<span style=\"color: #008080; text-decoration-color: #008080; font-weight: bold\">6</span>,<span style=\"color: #008080; text-decoration-color: #008080; font-weight: bold\">7</span><span style=\"font-weight: bold\">]</span>                                         <a href=\"file:///home/ye_canming/program_files/managers/conda/envs/yuequ/lib/python3.10/site-packages/lightning/pytorch/accelerators/cuda.py\" target=\"_blank\"><span style=\"color: #7f7f7f; text-decoration-color: #7f7f7f\">cuda.py</span></a><span style=\"color: #7f7f7f; text-decoration-color: #7f7f7f\">:</span><a href=\"file:///home/ye_canming/program_files/managers/conda/envs/yuequ/lib/python3.10/site-packages/lightning/pytorch/accelerators/cuda.py#61\" target=\"_blank\"><span style=\"color: #7f7f7f; text-decoration-color: #7f7f7f\">61</span></a>\n",
       "</pre>\n"
      ],
      "text/plain": [
       "\u001b[34mINFO    \u001b[0m LOCAL_RANK: \u001b[1;36m0\u001b[0m - CUDA_VISIBLE_DEVICES: \u001b[1m[\u001b[0m\u001b[1;36m0\u001b[0m,\u001b[1;36m1\u001b[0m,\u001b[1;36m2\u001b[0m,\u001b[1;36m3\u001b[0m,\u001b[1;36m4\u001b[0m,\u001b[1;36m5\u001b[0m,\u001b[1;36m6\u001b[0m,\u001b[1;36m7\u001b[0m\u001b[1m]\u001b[0m                                         \u001b]8;id=878565;file:///home/ye_canming/program_files/managers/conda/envs/yuequ/lib/python3.10/site-packages/lightning/pytorch/accelerators/cuda.py\u001b\\\u001b[2mcuda.py\u001b[0m\u001b]8;;\u001b\\\u001b[2m:\u001b[0m\u001b]8;id=739543;file:///home/ye_canming/program_files/managers/conda/envs/yuequ/lib/python3.10/site-packages/lightning/pytorch/accelerators/cuda.py#61\u001b\\\u001b[2m61\u001b[0m\u001b]8;;\u001b\\\n"
      ]
     },
     "metadata": {},
     "output_type": "display_data"
    },
    {
     "data": {
      "application/vnd.jupyter.widget-view+json": {
       "model_id": "c4b816b3fc5840f48b98ace9d6fc1666",
       "version_major": 2,
       "version_minor": 0
      },
      "text/plain": [
       "Finding best initial lr:   0%|          | 0/100 [00:00<?, ?it/s]"
      ]
     },
     "metadata": {},
     "output_type": "display_data"
    },
    {
     "name": "stderr",
     "output_type": "stream",
     "text": [
      "INFO: `Trainer.fit` stopped: `max_steps=100` reached.\n"
     ]
    },
    {
     "data": {
      "text/html": [
       "<pre style=\"white-space:pre;overflow-x:auto;line-height:normal;font-family:Menlo,'DejaVu Sans Mono',consolas,'Courier New',monospace\"><span style=\"color: #7fbfbf; text-decoration-color: #7fbfbf\">Thu 2024-11-28 17:50:14.108916</span>\n",
       "</pre>\n"
      ],
      "text/plain": [
       "\u001b[2;36mThu 2024-11-28 17:50:14.108916\u001b[0m\n"
      ]
     },
     "metadata": {},
     "output_type": "display_data"
    },
    {
     "data": {
      "text/html": [
       "<pre style=\"white-space:pre;overflow-x:auto;line-height:normal;font-family:Menlo,'DejaVu Sans Mono',consolas,'Courier New',monospace\"><span style=\"color: #000080; text-decoration-color: #000080\">INFO    </span> `Trainer.fit` stopped: `<span style=\"color: #808000; text-decoration-color: #808000\">max_steps</span>=<span style=\"color: #008080; text-decoration-color: #008080; font-weight: bold\">100</span>` reached.                                            <a href=\"file:///home/ye_canming/program_files/managers/conda/envs/yuequ/lib/python3.10/site-packages/lightning_utilities/core/rank_zero.py\" target=\"_blank\"><span style=\"color: #7f7f7f; text-decoration-color: #7f7f7f\">rank_zero.py</span></a><span style=\"color: #7f7f7f; text-decoration-color: #7f7f7f\">:</span><a href=\"file:///home/ye_canming/program_files/managers/conda/envs/yuequ/lib/python3.10/site-packages/lightning_utilities/core/rank_zero.py#63\" target=\"_blank\"><span style=\"color: #7f7f7f; text-decoration-color: #7f7f7f\">63</span></a>\n",
       "</pre>\n"
      ],
      "text/plain": [
       "\u001b[34mINFO    \u001b[0m `Trainer.fit` stopped: `\u001b[33mmax_steps\u001b[0m=\u001b[1;36m100\u001b[0m` reached.                                            \u001b]8;id=246941;file:///home/ye_canming/program_files/managers/conda/envs/yuequ/lib/python3.10/site-packages/lightning_utilities/core/rank_zero.py\u001b\\\u001b[2mrank_zero.py\u001b[0m\u001b]8;;\u001b\\\u001b[2m:\u001b[0m\u001b]8;id=890750;file:///home/ye_canming/program_files/managers/conda/envs/yuequ/lib/python3.10/site-packages/lightning_utilities/core/rank_zero.py#63\u001b\\\u001b[2m63\u001b[0m\u001b]8;;\u001b\\\n"
      ]
     },
     "metadata": {},
     "output_type": "display_data"
    },
    {
     "name": "stderr",
     "output_type": "stream",
     "text": [
      "INFO: Learning rate set to 0.0009549925860214355\n"
     ]
    },
    {
     "data": {
      "text/html": [
       "<pre style=\"white-space:pre;overflow-x:auto;line-height:normal;font-family:Menlo,'DejaVu Sans Mono',consolas,'Courier New',monospace\"><span style=\"color: #7fbfbf; text-decoration-color: #7fbfbf\">Thu 2024-11-28 17:50:14.214412</span>\n",
       "</pre>\n"
      ],
      "text/plain": [
       "\u001b[2;36mThu 2024-11-28 17:50:14.214412\u001b[0m\n"
      ]
     },
     "metadata": {},
     "output_type": "display_data"
    },
    {
     "data": {
      "text/html": [
       "<pre style=\"white-space:pre;overflow-x:auto;line-height:normal;font-family:Menlo,'DejaVu Sans Mono',consolas,'Courier New',monospace\"><span style=\"color: #000080; text-decoration-color: #000080\">INFO    </span> Learning rate set to <span style=\"color: #008080; text-decoration-color: #008080; font-weight: bold\">0.0009549925860214355</span>                                                <a href=\"file:///home/ye_canming/program_files/managers/conda/envs/yuequ/lib/python3.10/site-packages/lightning/pytorch/tuner/lr_finder.py\" target=\"_blank\"><span style=\"color: #7f7f7f; text-decoration-color: #7f7f7f\">lr_finder.py</span></a><span style=\"color: #7f7f7f; text-decoration-color: #7f7f7f\">:</span><a href=\"file:///home/ye_canming/program_files/managers/conda/envs/yuequ/lib/python3.10/site-packages/lightning/pytorch/tuner/lr_finder.py#301\" target=\"_blank\"><span style=\"color: #7f7f7f; text-decoration-color: #7f7f7f\">301</span></a>\n",
       "</pre>\n"
      ],
      "text/plain": [
       "\u001b[34mINFO    \u001b[0m Learning rate set to \u001b[1;36m0.0009549925860214355\u001b[0m                                                \u001b]8;id=439797;file:///home/ye_canming/program_files/managers/conda/envs/yuequ/lib/python3.10/site-packages/lightning/pytorch/tuner/lr_finder.py\u001b\\\u001b[2mlr_finder.py\u001b[0m\u001b]8;;\u001b\\\u001b[2m:\u001b[0m\u001b]8;id=607854;file:///home/ye_canming/program_files/managers/conda/envs/yuequ/lib/python3.10/site-packages/lightning/pytorch/tuner/lr_finder.py#301\u001b\\\u001b[2m301\u001b[0m\u001b]8;;\u001b\\\n"
      ]
     },
     "metadata": {},
     "output_type": "display_data"
    },
    {
     "name": "stderr",
     "output_type": "stream",
     "text": [
      "INFO: Restoring states from the checkpoint path at /home/ye_canming/repos/novelties/cv/cls/NamableClassify/nbs/.lr_find_38356de9-b4a7-45be-9491-2e14eeea3613.ckpt\n"
     ]
    },
    {
     "data": {
      "text/html": [
       "<pre style=\"white-space:pre;overflow-x:auto;line-height:normal;font-family:Menlo,'DejaVu Sans Mono',consolas,'Courier New',monospace\"><span style=\"color: #7fbfbf; text-decoration-color: #7fbfbf\">Thu 2024-11-28 17:50:14.268744</span>\n",
       "</pre>\n"
      ],
      "text/plain": [
       "\u001b[2;36mThu 2024-11-28 17:50:14.268744\u001b[0m\n"
      ]
     },
     "metadata": {},
     "output_type": "display_data"
    },
    {
     "data": {
      "text/html": [
       "<pre style=\"white-space:pre;overflow-x:auto;line-height:normal;font-family:Menlo,'DejaVu Sans Mono',consolas,'Courier New',monospace\"><span style=\"color: #000080; text-decoration-color: #000080\">INFO    </span> Restoring states from the checkpoint path at                                               <a href=\"file:///home/ye_canming/program_files/managers/conda/envs/yuequ/lib/python3.10/site-packages/lightning_utilities/core/rank_zero.py\" target=\"_blank\"><span style=\"color: #7f7f7f; text-decoration-color: #7f7f7f\">rank_zero.py</span></a><span style=\"color: #7f7f7f; text-decoration-color: #7f7f7f\">:</span><a href=\"file:///home/ye_canming/program_files/managers/conda/envs/yuequ/lib/python3.10/site-packages/lightning_utilities/core/rank_zero.py#63\" target=\"_blank\"><span style=\"color: #7f7f7f; text-decoration-color: #7f7f7f\">63</span></a>\n",
       "         <span style=\"color: #800080; text-decoration-color: #800080\">/home/ye_canming/repos/novelties/cv/cls/NamableClassify/nbs/</span><span style=\"color: #ff00ff; text-decoration-color: #ff00ff\">.lr_find_38356de9-b4a7-45be-94</span> <span style=\"color: #7f7f7f; text-decoration-color: #7f7f7f\">               </span>\n",
       "         <span style=\"color: #ff00ff; text-decoration-color: #ff00ff\">91-2e14eeea3613.ckpt</span>                                                                       <span style=\"color: #7f7f7f; text-decoration-color: #7f7f7f\">               </span>\n",
       "</pre>\n"
      ],
      "text/plain": [
       "\u001b[34mINFO    \u001b[0m Restoring states from the checkpoint path at                                               \u001b]8;id=672343;file:///home/ye_canming/program_files/managers/conda/envs/yuequ/lib/python3.10/site-packages/lightning_utilities/core/rank_zero.py\u001b\\\u001b[2mrank_zero.py\u001b[0m\u001b]8;;\u001b\\\u001b[2m:\u001b[0m\u001b]8;id=734239;file:///home/ye_canming/program_files/managers/conda/envs/yuequ/lib/python3.10/site-packages/lightning_utilities/core/rank_zero.py#63\u001b\\\u001b[2m63\u001b[0m\u001b]8;;\u001b\\\n",
       "         \u001b[35m/home/ye_canming/repos/novelties/cv/cls/NamableClassify/nbs/\u001b[0m\u001b[95m.lr_find_38356de9-b4a7-45be-94\u001b[0m \u001b[2m               \u001b[0m\n",
       "         \u001b[95m91-2e14eeea3613.ckpt\u001b[0m                                                                       \u001b[2m               \u001b[0m\n"
      ]
     },
     "metadata": {},
     "output_type": "display_data"
    },
    {
     "name": "stderr",
     "output_type": "stream",
     "text": [
      "INFO: Restored all states from the checkpoint at /home/ye_canming/repos/novelties/cv/cls/NamableClassify/nbs/.lr_find_38356de9-b4a7-45be-9491-2e14eeea3613.ckpt\n"
     ]
    },
    {
     "data": {
      "text/html": [
       "<pre style=\"white-space:pre;overflow-x:auto;line-height:normal;font-family:Menlo,'DejaVu Sans Mono',consolas,'Courier New',monospace\"><span style=\"color: #7fbfbf; text-decoration-color: #7fbfbf\">Thu 2024-11-28 17:50:17.144520</span>\n",
       "</pre>\n"
      ],
      "text/plain": [
       "\u001b[2;36mThu 2024-11-28 17:50:17.144520\u001b[0m\n"
      ]
     },
     "metadata": {},
     "output_type": "display_data"
    },
    {
     "data": {
      "text/html": [
       "<pre style=\"white-space:pre;overflow-x:auto;line-height:normal;font-family:Menlo,'DejaVu Sans Mono',consolas,'Courier New',monospace\"><span style=\"color: #000080; text-decoration-color: #000080\">INFO    </span> Restored all states from the checkpoint at                                                 <a href=\"file:///home/ye_canming/program_files/managers/conda/envs/yuequ/lib/python3.10/site-packages/lightning_utilities/core/rank_zero.py\" target=\"_blank\"><span style=\"color: #7f7f7f; text-decoration-color: #7f7f7f\">rank_zero.py</span></a><span style=\"color: #7f7f7f; text-decoration-color: #7f7f7f\">:</span><a href=\"file:///home/ye_canming/program_files/managers/conda/envs/yuequ/lib/python3.10/site-packages/lightning_utilities/core/rank_zero.py#63\" target=\"_blank\"><span style=\"color: #7f7f7f; text-decoration-color: #7f7f7f\">63</span></a>\n",
       "         <span style=\"color: #800080; text-decoration-color: #800080\">/home/ye_canming/repos/novelties/cv/cls/NamableClassify/nbs/</span><span style=\"color: #ff00ff; text-decoration-color: #ff00ff\">.lr_find_38356de9-b4a7-45be-94</span> <span style=\"color: #7f7f7f; text-decoration-color: #7f7f7f\">               </span>\n",
       "         <span style=\"color: #ff00ff; text-decoration-color: #ff00ff\">91-2e14eeea3613.ckpt</span>                                                                       <span style=\"color: #7f7f7f; text-decoration-color: #7f7f7f\">               </span>\n",
       "</pre>\n"
      ],
      "text/plain": [
       "\u001b[34mINFO    \u001b[0m Restored all states from the checkpoint at                                                 \u001b]8;id=340079;file:///home/ye_canming/program_files/managers/conda/envs/yuequ/lib/python3.10/site-packages/lightning_utilities/core/rank_zero.py\u001b\\\u001b[2mrank_zero.py\u001b[0m\u001b]8;;\u001b\\\u001b[2m:\u001b[0m\u001b]8;id=642549;file:///home/ye_canming/program_files/managers/conda/envs/yuequ/lib/python3.10/site-packages/lightning_utilities/core/rank_zero.py#63\u001b\\\u001b[2m63\u001b[0m\u001b]8;;\u001b\\\n",
       "         \u001b[35m/home/ye_canming/repos/novelties/cv/cls/NamableClassify/nbs/\u001b[0m\u001b[95m.lr_find_38356de9-b4a7-45be-94\u001b[0m \u001b[2m               \u001b[0m\n",
       "         \u001b[95m91-2e14eeea3613.ckpt\u001b[0m                                                                       \u001b[2m               \u001b[0m\n"
      ]
     },
     "metadata": {},
     "output_type": "display_data"
    },
    {
     "name": "stdout",
     "output_type": "stream",
     "text": [
      "{'lr': [1e-08, 1.3182567385564071e-08, 1.5135612484362082e-08, 1.7378008287493757e-08, 1.9952623149688796e-08, 2.2908676527677733e-08, 2.630267991895382e-08, 3.019951720402016e-08, 3.4673685045253164e-08, 3.981071705534973e-08, 4.570881896148751e-08, 5.248074602497726e-08, 6.025595860743578e-08, 6.918309709189366e-08, 7.943282347242814e-08, 9.120108393559099e-08, 1.0471285480508999e-07, 1.2022644346174127e-07, 1.380384264602885e-07, 1.5848931924611136e-07, 1.8197008586099835e-07, 2.0892961308540398e-07, 2.398832919019491e-07, 2.7542287033381663e-07, 3.162277660168379e-07, 3.630780547701014e-07, 4.1686938347033557e-07, 4.786300923226385e-07, 5.495408738576244e-07, 6.309573444801932e-07, 7.244359600749902e-07, 8.317637711026711e-07, 9.549925860214362e-07, 1.0964781961431853e-06, 1.2589254117941667e-06, 1.4454397707459273e-06, 1.6595869074375605e-06, 1.9054607179632473e-06, 2.187761623949553e-06, 2.511886431509581e-06, 2.884031503126605e-06, 3.3113112148259103e-06, 3.801893963205612e-06, 4.36515832240166e-06, 5.011872336272723e-06, 5.754399373371571e-06, 6.606934480075958e-06, 7.585775750291836e-06, 8.709635899560806e-06, 1e-05, 1.1481536214968829e-05, 1.3182567385564076e-05, 1.5135612484362087e-05, 1.7378008287493764e-05, 1.995262314968881e-05, 2.290867652767775e-05, 2.63026799189538e-05, 3.0199517204020145e-05, 3.4673685045253154e-05, 3.9810717055349715e-05, 4.5708818961487496e-05, 5.248074602497725e-05, 6.025595860743578e-05, 6.918309709189367e-05, 7.943282347242818e-05, 9.120108393559102e-05, 0.00010471285480509002, 0.00012022644346174137, 0.00013803842646028838, 0.00015848931924611126, 0.00018197008586099826, 0.00020892961308540387, 0.000239883291901949, 0.0002754228703338166, 0.00031622776601683794, 0.0003630780547701014, 0.00041686938347033556, 0.00047863009232263854, 0.0005495408738576249, 0.0006309573444801936, 0.0007244359600749906, 0.0008317637711026704, 0.0009549925860214355, 0.0010964781961431847, 0.0012589254117941668, 0.0014454397707459273, 0.0016595869074375604, 0.0019054607179632475, 0.002187761623949553, 0.0025118864315095807, 0.0028840315031266072, 0.0033113112148259126, 0.003801893963205615, 0.004365158322401657, 0.005011872336272719, 0.005754399373371567, 0.006606934480075957, 0.007585775750291835, 0.008709635899560806, 0.01], 'loss': [2.348286214500964, 3.1250551239582407, 3.50657015563297, 3.7408336763677306, 3.89699326438709, 4.009737353355418, 4.090229267768272, 4.152736314511325, 4.199647808009075, 4.2395573027368645, 4.273819237694369, 4.299051960504908, 4.325026922262193, 4.348222805896344, 4.3679398716208295, 4.38483521841283, 4.400482922124153, 4.415102661193533, 4.427005818459606, 4.436781093333581, 4.447043993076243, 4.457920773649729, 4.468483169846882, 4.475734263936215, 4.485034863828736, 4.491985445908726, 4.498589160206757, 4.5034393321503225, 4.5097639616988285, 4.5152925429097674, 4.521972517777308, 4.526269946689844, 4.530032280552181, 4.533478801412316, 4.535731708729713, 4.538649773313461, 4.542307762425109, 4.545288520208278, 4.5473551731728765, 4.550600618551926, 4.553930650923877, 4.555799740869844, 4.558210411031055, 4.560471896438521, 4.563183124044783, 4.565007019658381, 4.566638618536021, 4.568151263159013, 4.568854972280482, 4.57018091843802, 4.570683808330674, 4.571520047209811, 4.573138584291118, 4.573293505977969, 4.573829686697613, 4.574233800180899, 4.574500738568827, 4.574405745972813, 4.5750424527359215, 4.5756397202262695, 4.575063440554243, 4.574949263239475, 4.574372205671889, 4.573415018622465, 4.571932237020268, 4.5707189278631954, 4.568524452848103, 4.566362005203229, 4.56335027243977, 4.558639764143673, 4.553453757363216, 4.54747011437125, 4.541168806474398, 4.532130356227301, 4.521921382163843, 4.51131447829306, 4.49779010343061, 4.481810755183452, 4.463561792945367, 4.441482110562502, 4.416031651997836, 4.390164077101841, 4.36179649512798, 4.331215289800188, 4.318145393412657, 4.305003648448282, 4.279999431061358, 4.278985811330117, 4.280969248383425, 4.297869512068389, 4.310787685756959, 4.324670295713943, 4.335444902719909, 4.344520167037403, 4.354412391034504, 4.364920202494178, 4.374506179980756, 4.388798288230886, 4.396911441358948, 4.403709889260803]}\n"
     ]
    },
    {
     "data": {
      "text/html": [
       "<pre style=\"white-space:pre;overflow-x:auto;line-height:normal;font-family:Menlo,'DejaVu Sans Mono',consolas,'Courier New',monospace\"></pre>\n"
      ],
      "text/plain": []
     },
     "metadata": {},
     "output_type": "display_data"
    },
    {
     "data": {
      "text/plain": [
       "\u001b[1m(\u001b[0m\u001b[1;36m0.0009549925860214355\u001b[0m, \u001b[1;36m0.0009549925860214355\u001b[0m\u001b[1m)\u001b[0m"
      ]
     },
     "execution_count": 11,
     "metadata": {},
     "output_type": "execute_result"
    },
    {
     "data": {
      "text/html": [
       "<pre style=\"white-space:pre;overflow-x:auto;line-height:normal;font-family:Menlo,'DejaVu Sans Mono',consolas,'Courier New',monospace\"></pre>\n"
      ],
      "text/plain": []
     },
     "metadata": {},
     "output_type": "display_data"
    },
    {
     "data": {
      "image/png": "[encoded data removed]",
      "text/plain": [
       "\u001b[1m<\u001b[0m\u001b[1;95mFigure\u001b[0m\u001b[39m size 64\u001b[0m\u001b[1;36m0x480\u001b[0m\u001b[39m with \u001b[0m\u001b[1;36m1\u001b[0m\u001b[39m Axes\u001b[0m\u001b[1m>\u001b[0m"
      ]
     },
     "metadata": {},
     "output_type": "display_data"
    }
   ],
   "source": [
    "#| eval: false\n",
    "lr_finder = tuner.lr_find(cls_task, datamodule=cls_task.lit_data, max_lr=1e-2)\n",
    "print(lr_finder.results)\n",
    "fig = lr_finder.plot(suggest=True)\n",
    "fig.show()\n",
    "new_lr = lr_finder.suggestion()\n",
    "new_lr, cls_task.hparams.learning_rate"
   ]
  },
  {
   "cell_type": "code",
   "execution_count": 12,
   "metadata": {},
   "outputs": [],
   "source": [
    "# @patch\n",
    "# def get_early_stop_callback(self: ClassificationTask, monitor='valid_loss', min_delta=0, patience=1, mode='min'):"
   ]
  },
  {
   "cell_type": "code",
   "execution_count": 13,
   "metadata": {},
   "outputs": [
    {
     "data": {
      "text/html": [
       "<pre style=\"white-space:pre;overflow-x:auto;line-height:normal;font-family:Menlo,'DejaVu Sans Mono',consolas,'Courier New',monospace\"></pre>\n"
      ],
      "text/plain": []
     },
     "metadata": {},
     "output_type": "display_data"
    },
    {
     "data": {
      "text/plain": [
       "\u001b[1;35mtorch.Size\u001b[0m\u001b[1m(\u001b[0m\u001b[1m[\u001b[0m\u001b[1;36m1\u001b[0m, \u001b[1;36m3\u001b[0m, \u001b[1;36m224\u001b[0m, \u001b[1;36m224\u001b[0m\u001b[1m]\u001b[0m\u001b[1m)\u001b[0m"
      ]
     },
     "execution_count": 13,
     "metadata": {},
     "output_type": "execute_result"
    }
   ],
   "source": [
    "#| eval: false\n",
    "# size = cls_task.cls_model.image_preprocessor.size['height']\n",
    "# cls_task.example_input_array = torch.Tensor(1, cls_task.cls_model.backbone.config.num_channels, size, size)\n",
    "cls_task.example_input_array.shape"
   ]
  },
  {
   "cell_type": "code",
   "execution_count": null,
   "metadata": {},
   "outputs": [
    {
     "ename": "ModuleNotFoundError",
     "evalue": "No module named 'namable_classify.utils'",
     "output_type": "error",
     "traceback": [
      "\u001b[0;31m---------------------------------------------------------------------------\u001b[0m",
      "\u001b[0;31mModuleNotFoundError\u001b[0m                       Traceback (most recent call last)",
      "Cell \u001b[0;32mIn[14], line 2\u001b[0m\n\u001b[1;32m      1\u001b[0m \u001b[38;5;66;03m#| eval: false\u001b[39;00m\n\u001b[0;32m----> 2\u001b[0m \u001b[38;5;28;01mfrom\u001b[39;00m \u001b[38;5;21;01mnamable_classify\u001b[39;00m\u001b[38;5;21;01m.\u001b[39;00m\u001b[38;5;21;01mutils\u001b[39;00m \u001b[38;5;28;01mimport\u001b[39;00m runs_path\n\u001b[1;32m      3\u001b[0m \u001b[38;5;28;01mfrom\u001b[39;00m \u001b[38;5;21;01mlightning\u001b[39;00m\u001b[38;5;21;01m.\u001b[39;00m\u001b[38;5;21;01mpytorch\u001b[39;00m\u001b[38;5;21;01m.\u001b[39;00m\u001b[38;5;21;01mcallbacks\u001b[39;00m\u001b[38;5;21;01m.\u001b[39;00m\u001b[38;5;21;01mearly_stopping\u001b[39;00m \u001b[38;5;28;01mimport\u001b[39;00m EarlyStopping\n\u001b[1;32m      4\u001b[0m \u001b[38;5;28;01mfrom\u001b[39;00m \u001b[38;5;21;01mlightning\u001b[39;00m\u001b[38;5;21;01m.\u001b[39;00m\u001b[38;5;21;01mpytorch\u001b[39;00m\u001b[38;5;21;01m.\u001b[39;00m\u001b[38;5;21;01mcallbacks\u001b[39;00m \u001b[38;5;28;01mimport\u001b[39;00m ModelSummary\n",
      "\u001b[0;31mModuleNotFoundError\u001b[0m: No module named 'namable_classify.utils'"
     ]
    }
   ],
   "source": [
    "#| eval: false\n",
    "from namable_classify.infra import runs_path\n",
    "from lightning.pytorch.callbacks.early_stopping import EarlyStopping\n",
    "from lightning.pytorch.callbacks import ModelSummary\n",
    "trainer = L.Trainer(default_root_dir=runs_path, enable_checkpointing=True, \n",
    "                    enable_model_summary=True, \n",
    "                    # num_sanity_val_steps=2, # 防止 val 在训了好久train才发现崩溃\n",
    "                    num_sanity_val_steps=0, # 防止 val 在训了好久train才发现崩溃\n",
    "                    callbacks=[\n",
    "                        # EarlyStopping(monitor=\"val_loss\", mode=\"min\")\n",
    "                        EarlyStopping(monitor=\"val_acc1\", mode=\"max\", check_finite=True, \n",
    "                                      patience=5, \n",
    "                                      check_on_train_epoch_end=False,  # check on validation end\n",
    "                                      verbose=True),\n",
    "                        ModelSummary(max_depth=3),\n",
    "                               ]\n",
    "                    # , fast_dev_run=True\n",
    "                    # , limit_train_batches=10, \n",
    "                    # limit_val_batches=5\n",
    "                    )\n",
    "trainer.fit(cls_task, datamodule=cls_task.lit_data)"
   ]
  },
  {
   "cell_type": "code",
   "execution_count": null,
   "metadata": {},
   "outputs": [
    {
     "data": {
      "text/html": [
       "<pre style=\"white-space:pre;overflow-x:auto;line-height:normal;font-family:Menlo,'DejaVu Sans Mono',consolas,'Courier New',monospace\"><span style=\"color: #c0c0c0; text-decoration-color: #c0c0c0\">root</span>\n",
       "├── <span style=\"color: #c0c0c0; text-decoration-color: #c0c0c0\">embeddings </span><span style=\"color: #008000; text-decoration-color: #008000\">(ViTEmbeddings) </span><span style=\"color: #008080; text-decoration-color: #008080\">cls_token:[1, 1, 768] position_embeddings:[1, 197, 768]</span>\n",
       "│   └── <span style=\"color: #c0c0c0; text-decoration-color: #c0c0c0\">patch_embeddings </span><span style=\"color: #008000; text-decoration-color: #008000\">(ViTPatchEmbeddings)</span>\n",
       "│       └── <span style=\"color: #c0c0c0; text-decoration-color: #c0c0c0\">projection </span><span style=\"color: #008000; text-decoration-color: #008000\">(Conv2d) </span><span style=\"color: #008080; text-decoration-color: #008080\">weight:[768, 3, 16, 16] bias:[768]</span>\n",
       "├── <span style=\"color: #c0c0c0; text-decoration-color: #c0c0c0\">encoder </span><span style=\"color: #008000; text-decoration-color: #008000\">(ViTEncoder)</span>\n",
       "│   └── <span style=\"color: #c0c0c0; text-decoration-color: #c0c0c0\">layer </span><span style=\"color: #008000; text-decoration-color: #008000\">(ModuleList)</span>\n",
       "│       └── <span style=\"color: #800000; text-decoration-color: #800000\">0-11</span><span style=\"color: #008000; text-decoration-color: #008000\">(ViTLayer)</span>\n",
       "│           ├── <span style=\"color: #c0c0c0; text-decoration-color: #c0c0c0\">attention </span><span style=\"color: #008000; text-decoration-color: #008000\">(ViTAttention)</span>\n",
       "│           │   ├── <span style=\"color: #c0c0c0; text-decoration-color: #c0c0c0\">attention </span><span style=\"color: #008000; text-decoration-color: #008000\">(ViTSelfAttention)</span>\n",
       "│           │   │   └── <span style=\"color: #800000; text-decoration-color: #800000\">query,key,value</span><span style=\"color: #008000; text-decoration-color: #008000\">(Linear) </span><span style=\"color: #008080; text-decoration-color: #008080\">weight:[768, 768] bias:[768]</span>\n",
       "│           │   └── <span style=\"color: #c0c0c0; text-decoration-color: #c0c0c0\">output </span><span style=\"color: #008000; text-decoration-color: #008000\">(ViTSelfOutput)</span>\n",
       "│           │       └── <span style=\"color: #c0c0c0; text-decoration-color: #c0c0c0\">dense </span><span style=\"color: #008000; text-decoration-color: #008000\">(Linear) </span><span style=\"color: #008080; text-decoration-color: #008080\">weight:[768, 768] bias:[768]</span>\n",
       "│           ├── <span style=\"color: #c0c0c0; text-decoration-color: #c0c0c0\">intermediate </span><span style=\"color: #008000; text-decoration-color: #008000\">(ViTIntermediate)</span>\n",
       "│           │   └── <span style=\"color: #c0c0c0; text-decoration-color: #c0c0c0\">dense </span><span style=\"color: #008000; text-decoration-color: #008000\">(Linear) </span><span style=\"color: #008080; text-decoration-color: #008080\">weight:[3072, 768] bias:[3072]</span>\n",
       "│           ├── <span style=\"color: #c0c0c0; text-decoration-color: #c0c0c0\">output </span><span style=\"color: #008000; text-decoration-color: #008000\">(ViTOutput)</span>\n",
       "│           │   └── <span style=\"color: #c0c0c0; text-decoration-color: #c0c0c0\">dense </span><span style=\"color: #008000; text-decoration-color: #008000\">(Linear) </span><span style=\"color: #008080; text-decoration-color: #008080\">weight:[768, 3072] bias:[768]</span>\n",
       "│           └── <span style=\"color: #800000; text-decoration-color: #800000\">layernorm_before,layernorm_after</span><span style=\"color: #008000; text-decoration-color: #008000\">(LayerNorm) </span><span style=\"color: #008080; text-decoration-color: #008080\">weight:[768] bias:[768]</span>\n",
       "├── <span style=\"color: #c0c0c0; text-decoration-color: #c0c0c0\">layernorm </span><span style=\"color: #008000; text-decoration-color: #008000\">(LayerNorm) </span><span style=\"color: #008080; text-decoration-color: #008080\">weight:[768] bias:[768]</span>\n",
       "└── <span style=\"color: #c0c0c0; text-decoration-color: #c0c0c0\">pooler </span><span style=\"color: #008000; text-decoration-color: #008000\">(ViTPooler)</span>\n",
       "    └── <span style=\"color: #c0c0c0; text-decoration-color: #c0c0c0\">dense </span><span style=\"color: #008000; text-decoration-color: #008000\">(Linear) </span><span style=\"color: #008080; text-decoration-color: #008080\">weight:[768, 768] bias:[768]</span>\n",
       "</pre>\n"
      ],
      "text/plain": [
       "\u001b[37mroot\u001b[0m\n",
       "├── \u001b[37membeddings \u001b[0m\u001b[32m(ViTEmbeddings) \u001b[0m\u001b[36mcls_token:[1, 1, 768] \u001b[0m\u001b[36mposition_embeddings:[1, 197, 768]\u001b[0m\n",
       "│   └── \u001b[37mpatch_embeddings \u001b[0m\u001b[32m(ViTPatchEmbeddings)\u001b[0m\n",
       "│       └── \u001b[37mprojection \u001b[0m\u001b[32m(Conv2d) \u001b[0m\u001b[36mweight:[768, 3, 16, 16] \u001b[0m\u001b[36mbias:[768]\u001b[0m\n",
       "├── \u001b[37mencoder \u001b[0m\u001b[32m(ViTEncoder)\u001b[0m\n",
       "│   └── \u001b[37mlayer \u001b[0m\u001b[32m(ModuleList)\u001b[0m\n",
       "│       └── \u001b[31m0-11\u001b[0m\u001b[32m(ViTLayer)\u001b[0m\n",
       "│           ├── \u001b[37mattention \u001b[0m\u001b[32m(ViTAttention)\u001b[0m\n",
       "│           │   ├── \u001b[37mattention \u001b[0m\u001b[32m(ViTSelfAttention)\u001b[0m\n",
       "│           │   │   └── \u001b[31mquery,key,value\u001b[0m\u001b[32m(Linear) \u001b[0m\u001b[36mweight:[768, 768] \u001b[0m\u001b[36mbias:[768]\u001b[0m\n",
       "│           │   └── \u001b[37moutput \u001b[0m\u001b[32m(ViTSelfOutput)\u001b[0m\n",
       "│           │       └── \u001b[37mdense \u001b[0m\u001b[32m(Linear) \u001b[0m\u001b[36mweight:[768, 768] \u001b[0m\u001b[36mbias:[768]\u001b[0m\n",
       "│           ├── \u001b[37mintermediate \u001b[0m\u001b[32m(ViTIntermediate)\u001b[0m\n",
       "│           │   └── \u001b[37mdense \u001b[0m\u001b[32m(Linear) \u001b[0m\u001b[36mweight:[3072, 768] \u001b[0m\u001b[36mbias:[3072]\u001b[0m\n",
       "│           ├── \u001b[37moutput \u001b[0m\u001b[32m(ViTOutput)\u001b[0m\n",
       "│           │   └── \u001b[37mdense \u001b[0m\u001b[32m(Linear) \u001b[0m\u001b[36mweight:[768, 3072] \u001b[0m\u001b[36mbias:[768]\u001b[0m\n",
       "│           └── \u001b[31mlayernorm_before,layernorm_after\u001b[0m\u001b[32m(LayerNorm) \u001b[0m\u001b[36mweight:[768] \u001b[0m\u001b[36mbias:[768]\u001b[0m\n",
       "├── \u001b[37mlayernorm \u001b[0m\u001b[32m(LayerNorm) \u001b[0m\u001b[36mweight:[768] \u001b[0m\u001b[36mbias:[768]\u001b[0m\n",
       "└── \u001b[37mpooler \u001b[0m\u001b[32m(ViTPooler)\u001b[0m\n",
       "    └── \u001b[37mdense \u001b[0m\u001b[32m(Linear) \u001b[0m\u001b[36mweight:[768, 768] \u001b[0m\u001b[36mbias:[768]\u001b[0m\n"
      ]
     },
     "metadata": {},
     "output_type": "display_data"
    },
    {
     "data": {
      "text/plain": [
       "False"
      ]
     },
     "execution_count": null,
     "metadata": {},
     "output_type": "execute_result"
    }
   ],
   "source": [
    "#| eval: false\n",
    "cls_task.cls_model.backbone.print_model_pretty()\n",
    "cls_task.cls_model.backbone.training"
   ]
  },
  {
   "cell_type": "code",
   "execution_count": null,
   "metadata": {},
   "outputs": [],
   "source": [
    "#| hide\n",
    "import nbdev; nbdev.nbdev_export()"
   ]
  }
 ],
 "metadata": {
  "kernelspec": {
   "display_name": "yuequ",
   "language": "python",
   "name": "python3"
  },
  "language_info": {
   "codemirror_mode": {
    "name": "ipython",
    "version": 3
   },
   "file_extension": ".py",
   "mimetype": "text/x-python",
   "name": "python",
   "nbconvert_exporter": "python",
   "pygments_lexer": "ipython3",
   "version": "3.10.12"
  }
 },
 "nbformat": 4,
 "nbformat_minor": 4
}
