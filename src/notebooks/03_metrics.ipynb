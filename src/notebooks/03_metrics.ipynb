{
 "cells": [
  {
   "cell_type": "markdown",
   "metadata": {},
   "source": [
    "# Metrics\n",
    "\n",
    "> "
   ]
  },
  {
   "cell_type": "markdown",
   "metadata": {},
   "source": [
    "Start with a brief description of the technical component, and an overview that links to the main symbols in the page (you might want to use doclinks)"
   ]
  },
  {
   "cell_type": "code",
   "execution_count": 2,
   "metadata": {},
   "outputs": [],
   "source": [
    "#| default_exp metrics"
   ]
  },
  {
   "cell_type": "code",
   "execution_count": 3,
   "metadata": {},
   "outputs": [],
   "source": [
    "#| hide\n",
    "%load_ext autoreload\n",
    "%autoreload 2\n",
    "from nbdev.showdoc import *"
   ]
  },
  {
   "cell_type": "code",
   "execution_count": 4,
   "metadata": {},
   "outputs": [
    {
     "name": "stdout",
     "output_type": "stream",
     "text": [
      "\u001b[0;31mSignature:\u001b[0m\n",
      "\u001b[0mwarnings\u001b[0m\u001b[0;34m.\u001b[0m\u001b[0mfilterwarnings\u001b[0m\u001b[0;34m(\u001b[0m\u001b[0;34m\u001b[0m\n",
      "\u001b[0;34m\u001b[0m    \u001b[0maction\u001b[0m\u001b[0;34m,\u001b[0m\u001b[0;34m\u001b[0m\n",
      "\u001b[0;34m\u001b[0m    \u001b[0mmessage\u001b[0m\u001b[0;34m=\u001b[0m\u001b[0;34m''\u001b[0m\u001b[0;34m,\u001b[0m\u001b[0;34m\u001b[0m\n",
      "\u001b[0;34m\u001b[0m    \u001b[0mcategory\u001b[0m\u001b[0;34m=\u001b[0m\u001b[0;34m<\u001b[0m\u001b[0;32mclass\u001b[0m \u001b[0;34m'Warning'\u001b[0m\u001b[0;34m>\u001b[0m\u001b[0;34m,\u001b[0m\u001b[0;34m\u001b[0m\n",
      "\u001b[0;34m\u001b[0m    \u001b[0mmodule\u001b[0m\u001b[0;34m=\u001b[0m\u001b[0;34m''\u001b[0m\u001b[0;34m,\u001b[0m\u001b[0;34m\u001b[0m\n",
      "\u001b[0;34m\u001b[0m    \u001b[0mlineno\u001b[0m\u001b[0;34m=\u001b[0m\u001b[0;36m0\u001b[0m\u001b[0;34m,\u001b[0m\u001b[0;34m\u001b[0m\n",
      "\u001b[0;34m\u001b[0m    \u001b[0mappend\u001b[0m\u001b[0;34m=\u001b[0m\u001b[0;32mFalse\u001b[0m\u001b[0;34m,\u001b[0m\u001b[0;34m\u001b[0m\n",
      "\u001b[0;34m\u001b[0m\u001b[0;34m)\u001b[0m\u001b[0;34m\u001b[0m\u001b[0;34m\u001b[0m\u001b[0m\n",
      "\u001b[0;31mDocstring:\u001b[0m\n",
      "Insert an entry into the list of warnings filters (at the front).\n",
      "\n",
      "'action' -- one of \"error\", \"ignore\", \"always\", \"default\", \"module\",\n",
      "            or \"once\"\n",
      "'message' -- a regex that the warning message must match\n",
      "'category' -- a class that the warning must be a subclass of\n",
      "'module' -- a regex that the module name must match\n",
      "'lineno' -- an integer line number, 0 matches all warnings\n",
      "'append' -- if true, append to the list of filters\n",
      "\u001b[0;31mFile:\u001b[0m      ~/program_files/managers/conda/envs/yuequ/lib/python3.10/warnings.py\n",
      "\u001b[0;31mType:\u001b[0m      function"
     ]
    }
   ],
   "source": [
    "import warnings\n",
    "warnings.filterwarnings?"
   ]
  },
  {
   "cell_type": "code",
   "execution_count": 5,
   "metadata": {},
   "outputs": [],
   "source": [
    "#| export\n",
    "from namable_classify.infra import default_on_exception, ensure_array\n",
    "import torch.nn.functional as F\n",
    "import numpy as np\n",
    "import torch\n",
    "from sklearn.metrics import roc_auc_score, top_k_accuracy_score, matthews_corrcoef, f1_score, precision_score, recall_score, log_loss, balanced_accuracy_score, cohen_kappa_score, hinge_loss, accuracy_score\n",
    "\n",
    "from namable_classify.infra import MuteWarnings\n",
    "import warnings\n",
    "except_roc_auc_score = default_on_exception(default_value=-1)(roc_auc_score)\n",
    "\n",
    "def compute_classification_metrics(\n",
    "    y_true: np.ndarray,  # 1d array-like, or label indicator array / sparse matrix\n",
    "    y_pred_logits: np.ndarray = None,  # label indicator array / sparse matrix\n",
    "    logits_to_prob: bool = False,  # function to convert logits to probabilities\n",
    "    y_pred: np.ndarray = None,  # predicted labels, if None, will be computed from logits\n",
    "    labels:list[int|str]|None = None,  # list of labels\n",
    "    supress_warnings: bool = True,  # whether to suppress warnings\n",
    "    y_pred_metrics_only: bool = False,  # whether to compute only y_pred related metrics\n",
    "):\n",
    "        \n",
    "    if supress_warnings:\n",
    "        mute = MuteWarnings()\n",
    "        mute.mute()\n",
    "    if y_pred_logits is None:\n",
    "        assert y_pred_metrics_only == True, \"y_pred_logits is None, we can only compute y_pred related metrics! \"\n",
    "        assert y_pred is not None, \"y_pred_logits is None, y_pred should be specified! \"\n",
    "        # warnings.warn(\"y_pred_logits is None, will compute y_pred related metrics only! \")\n",
    "    y_true = ensure_array(y_true)\n",
    "    if not y_pred_metrics_only:\n",
    "        y_pred_logits = ensure_array(y_pred_logits)\n",
    "        # print(type(y_pred_logits)) # <class 'numpy.ndarray'>\n",
    "        # y_pred_probs = softmax(y_pred_logits)# label indicator array / sparse matrix\n",
    "        y_pred_probs = (\n",
    "            np.array(F.softmax(torch.Tensor(y_pred_logits), dim=1))\n",
    "            if logits_to_prob\n",
    "            else y_pred_logits\n",
    "        )  # label indicator array / sparse matrix\n",
    "    other_res = {}\n",
    "    if y_pred is None:\n",
    "        # 必然有 y_pred_logits\n",
    "        assert y_pred_logits is not None, \"y_pred_logits is None, cannot derive y_pred! \"\n",
    "        y_pred = np.argmax(y_pred_logits, axis=1)\n",
    "    else:\n",
    "        # 额外计算一个acc\n",
    "        if not y_pred_metrics_only:\n",
    "            warnings.warn(\"y_pred is specified since it may be different from argmax(y_pred_logits), this may happen to prob SVM. \")\n",
    "        other_res[\"acc1_pred\"] = accuracy_score(y_true, y_pred)\n",
    "        \n",
    "        \n",
    "    # target_names = labels # dataset['train'].features[label_column_name].names\n",
    "    # report_dict = classification_report(y_true, y_pred_probs, target_names=target_names, output_dict=True)\n",
    "    \n",
    "    if not y_pred_metrics_only:\n",
    "        top_k_res = {\n",
    "            f\"acc{k}\": top_k_accuracy_score(y_true, y_pred_probs, k=k, labels=labels)\n",
    "            for k in [1, 2, 3, 5, 10, 20]\n",
    "        }\n",
    "        prob_res = dict(\n",
    "            # roc_auc=roc_auc_score(\n",
    "            roc_auc=except_roc_auc_score(\n",
    "                y_true, y_pred_probs, average=\"macro\", multi_class=\"ovr\", labels=labels\n",
    "            ),  # ovr更难一些，会不平衡\n",
    "            hinge_loss=hinge_loss(y_true, y_pred_probs, labels=labels),\n",
    "            log_loss=log_loss(\n",
    "                y_true,\n",
    "                y_pred_probs,\n",
    "                labels=labels\n",
    "                ),\n",
    "            )\n",
    "    else: \n",
    "        top_k_res = {}\n",
    "        prob_res = {}\n",
    "\n",
    "    pred_res = dict(\n",
    "        matthews_corrcoef=matthews_corrcoef(y_true, y_pred),\n",
    "        f1=f1_score(y_true, y_pred, average=\"macro\", labels=labels),\n",
    "        precision=precision_score(y_true, y_pred, average=\"macro\", labels=labels),\n",
    "        recall=recall_score(y_true, y_pred, average=\"macro\", labels=labels),\n",
    "        balanced_accuracy=balanced_accuracy_score(y_true, y_pred),\n",
    "        cohen_kappa=cohen_kappa_score(y_true, y_pred, labels=labels),\n",
    "    )\n",
    "    if supress_warnings:\n",
    "        mute.resume()\n",
    "    \n",
    "    # return top_k_res| balance_res| report_dict\n",
    "    return top_k_res | pred_res | prob_res | other_res"
   ]
  },
  {
   "cell_type": "code",
   "execution_count": 6,
   "metadata": {},
   "outputs": [
    {
     "data": {
      "text/html": [
       "<pre style=\"white-space:pre;overflow-x:auto;line-height:normal;font-family:Menlo,'DejaVu Sans Mono',consolas,'Courier New',monospace\"></pre>\n"
      ],
      "text/plain": []
     },
     "metadata": {},
     "output_type": "display_data"
    },
    {
     "data": {
      "text/plain": [
       "\n",
       "\u001b[1m{\u001b[0m\n",
       "    \u001b[32m'acc1'\u001b[0m: \u001b[1;36m0.02\u001b[0m,\n",
       "    \u001b[32m'acc2'\u001b[0m: \u001b[1;36m0.06\u001b[0m,\n",
       "    \u001b[32m'acc3'\u001b[0m: \u001b[1;36m0.12\u001b[0m,\n",
       "    \u001b[32m'acc5'\u001b[0m: \u001b[1;36m0.24\u001b[0m,\n",
       "    \u001b[32m'acc10'\u001b[0m: \u001b[1;36m0.47\u001b[0m,\n",
       "    \u001b[32m'acc20'\u001b[0m: \u001b[1;36m1.0\u001b[0m,\n",
       "    \u001b[32m'matthews_corrcoef'\u001b[0m: \u001b[1;36m-0.029249687981809908\u001b[0m,\n",
       "    \u001b[32m'f1'\u001b[0m: \u001b[1;36m0.017424242424242425\u001b[0m,\n",
       "    \u001b[32m'precision'\u001b[0m: \u001b[1;36m0.015476190476190477\u001b[0m,\n",
       "    \u001b[32m'recall'\u001b[0m: \u001b[1;36m0.02\u001b[0m,\n",
       "    \u001b[32m'balanced_accuracy'\u001b[0m: \u001b[1;36m0.02\u001b[0m,\n",
       "    \u001b[32m'cohen_kappa'\u001b[0m: \u001b[1;36m-0.028979420411591628\u001b[0m,\n",
       "    \u001b[32m'roc_auc'\u001b[0m: \u001b[1;36m0.46511878670112183\u001b[0m,\n",
       "    \u001b[32m'hinge_loss'\u001b[0m: \u001b[1;36m1.1702374\u001b[0m,\n",
       "    \u001b[32m'log_loss'\u001b[0m: \u001b[1;36m3.5816344923884653\u001b[0m\n",
       "\u001b[1m}\u001b[0m"
      ]
     },
     "execution_count": 6,
     "metadata": {},
     "output_type": "execute_result"
    }
   ],
   "source": [
    "compute_classification_metrics(torch.randint(0, 20, size=(100,)), \n",
    "                               torch.softmax(torch.randn(100, 20), dim=1), \n",
    "                               logits_to_prob=False, \n",
    "                               labels=list(range(20)), \n",
    "                               )"
   ]
  },
  {
   "cell_type": "code",
   "execution_count": 19,
   "metadata": {},
   "outputs": [],
   "source": [
    "#| export\n",
    "import numpy as np\n",
    "from sklearn.metrics import accuracy_score\n",
    "\n",
    "def per_class_accuracy(y_true, y_pred, labels=None):\n",
    "    # 如果未提供 labels，则从 y_true 中获取\n",
    "    if labels is None:\n",
    "        labels = np.unique(y_true)\n",
    "    \n",
    "    # 计算每个类别的准确率\n",
    "    per_class_acc = {}\n",
    "    for cls in labels:\n",
    "        idx = y_true == cls\n",
    "        acc = accuracy_score(y_true[idx], y_pred[idx])\n",
    "        per_class_acc[cls] = acc\n",
    "    \n",
    "    return per_class_acc\n",
    "def get_top_bottom_k_classes(per_class_acc, k):\n",
    "    # 将字典按准确率排序（从高到低）\n",
    "    sorted_acc = sorted(per_class_acc.items(), key=lambda item: item[1], reverse=True)\n",
    "    \n",
    "    # 获取准确率最高的前 k 个类别\n",
    "    top_k = sorted_acc[:k]\n",
    "    \n",
    "    # 获取准确率最低的前 k 个类别\n",
    "    bottom_k = sorted_acc[-k:]\n",
    "    \n",
    "    return top_k, bottom_k\n",
    "\n",
    "def list_i_terms(lst, i=0):\n",
    "    return [item[i] for item in lst]"
   ]
  },
  {
   "cell_type": "code",
   "execution_count": 21,
   "metadata": {},
   "outputs": [
    {
     "name": "stdout",
     "output_type": "stream",
     "text": [
      "类别 0 的准确率：0.67\n",
      "类别 1 的准确率：0.33\n",
      "类别 2 的准确率：0.67\n"
     ]
    },
    {
     "data": {
      "text/html": [
       "<pre style=\"white-space:pre;overflow-x:auto;line-height:normal;font-family:Menlo,'DejaVu Sans Mono',consolas,'Courier New',monospace\"></pre>\n"
      ],
      "text/plain": []
     },
     "metadata": {},
     "output_type": "display_data"
    },
    {
     "data": {
      "text/plain": [
       "\u001b[1m(\u001b[0m\u001b[1m[\u001b[0m\u001b[1;36m0\u001b[0m\u001b[1m]\u001b[0m, \u001b[1m[\u001b[0m\u001b[1;36m1\u001b[0m\u001b[1m]\u001b[0m\u001b[1m)\u001b[0m"
      ]
     },
     "execution_count": 21,
     "metadata": {},
     "output_type": "execute_result"
    }
   ],
   "source": [
    "# 真实标签\n",
    "y_true = np.array([0, 1, 2, 0, 1, 2, 0, 1, 2])\n",
    "\n",
    "# 预测标签（包含一些错误预测）\n",
    "y_pred = np.array([0, 2, 1, 0, 1, 2, 1, 0, 2])\n",
    "\n",
    "# 调用函数\n",
    "per_class_acc = per_class_accuracy(y_true, y_pred)\n",
    "\n",
    "# 输出每个类别的准确率\n",
    "for cls, acc in per_class_acc.items():\n",
    "    print(f\"类别 {cls} 的准确率：{acc:.2f}\")\n",
    "\n",
    "top_k, bottom_k = get_top_bottom_k_classes(per_class_acc, 1)\n",
    "list_i_terms(top_k), list_i_terms(bottom_k)"
   ]
  },
  {
   "cell_type": "code",
   "execution_count": 42,
   "metadata": {},
   "outputs": [],
   "source": [
    "#| export\n",
    "import scikitplot as skplt\n",
    "import matplotlib.pyplot as plt\n",
    "\n",
    "def draw_classification_metrics(\n",
    "    y_true: np.ndarray,  # 1d array-like, or label indicator array / sparse matrix\n",
    "    y_pred_logits: np.ndarray = None,  # label indicator array / sparse matrix\n",
    "    logits_to_prob: bool = False,  # function to convert logits to probabilities\n",
    "    y_pred: np.ndarray = None,  # predicted labels, if None, will be computed from logits\n",
    "    labels:list[int|str]|None = None,  # list of labels\n",
    "    supress_warnings: bool = True,  # whether to suppress warnings\n",
    "    y_pred_metrics_only: bool = False,  # whether to compute only y_pred related metrics\n",
    "    max_classes_to_plot: int = 6,  # maximum number of classes to plot, to avoid overplotting\n",
    "):\n",
    "    # 鲁棒性处理\n",
    "    if supress_warnings:\n",
    "        mute = MuteWarnings()\n",
    "        mute.mute()\n",
    "    if y_pred_logits is None:\n",
    "        assert y_pred_metrics_only == True, \"y_pred_logits is None, we can only compute y_pred related metrics! \"\n",
    "        assert y_pred is not None, \"y_pred_logits is None, y_pred should be specified! \"\n",
    "        # warnings.warn(\"y_pred_logits is None, will compute y_pred related metrics only! \")\n",
    "    y_true = ensure_array(y_true)\n",
    "    if not y_pred_metrics_only:\n",
    "        y_pred_logits = ensure_array(y_pred_logits)\n",
    "        # print(type(y_pred_logits)) # <class 'numpy.ndarray'>\n",
    "        # y_pred_probs = softmax(y_pred_logits)# label indicator array / sparse matrix\n",
    "        y_pred_probs = (\n",
    "            np.array(F.softmax(torch.Tensor(y_pred_logits), dim=1))\n",
    "            if logits_to_prob\n",
    "            else y_pred_logits\n",
    "        )  # label indicator array / sparse matrix\n",
    "    \n",
    "    # TODO 图片收集不是很优雅\n",
    "    figures = []\n",
    "    figure_names = []\n",
    "    if y_pred is None:\n",
    "        # 必然有 y_pred_logits\n",
    "        assert y_pred_logits is not None, \"y_pred_logits is None, cannot derive y_pred! \"\n",
    "        y_pred = np.argmax(y_pred_logits, axis=1)\n",
    "    else:\n",
    "        # 额外计算一个acc\n",
    "        if not y_pred_metrics_only:\n",
    "            warnings.warn(\"y_pred is specified since it may be different from argmax(y_pred_logits), this may happen to prob SVM. \")\n",
    "            \n",
    "    \n",
    "    # 核心功能\n",
    "\n",
    "    # print(y_true.shape, y_pred_probs.shape, y_pred.shape)\n",
    "    if not y_pred_metrics_only:\n",
    "        # if len(labels) <= max_classes_to_plot:\n",
    "        #     classes_to_plot = labels\n",
    "        # else:\n",
    "        #     k = max_classes_to_plot // 2\n",
    "        #     per_class_acc = per_class_accuracy(y_true, y_pred, labels)\n",
    "        #     top_k, bottom_k = get_top_bottom_k_classes(per_class_acc, k)\n",
    "        #     classes_to_plot = list_i_terms(top_k) + list_i_terms(bottom_k)\n",
    "            \n",
    "        \n",
    "        # fig = plt.figure()\n",
    "        # skplt.metrics.plot_roc(y_true, y_pred_probs, plot_micro=True, plot_macro=True, \n",
    "        #                        classes_to_plot=classes_to_plot)\n",
    "        # figures.append(fig)\n",
    "        # figure_names.append(\"roc_curve\")\n",
    "        \n",
    "        # fig = plt.figure()\n",
    "        # skplt.metrics.plot_precision_recall(y_true, y_pred_probs, plot_micro=True, \n",
    "        #                                     classes_to_plot=classes_to_plot)\n",
    "        # figures.append(fig)\n",
    "        # figure_names.append(\"precision_recall_curve\")\n",
    "        \n",
    "\n",
    "    \n",
    "        if len(labels) == 2:\n",
    "            fig = plt.figure()\n",
    "            skplt.metrics.plot_ks_statistic(y_true, y_pred_probs)\n",
    "            figures.append(fig)\n",
    "            figure_names.append(\"ks_statistic\")\n",
    "            fig = plt.figure()\n",
    "            skplt.metrics.plot_cumulative_gain(y_true, y_pred_probs)\n",
    "            figures.append(fig)\n",
    "            figure_names.append(\"cumulative_gain\")\n",
    "            fig = plt.figure()\n",
    "            skplt.metrics.plot_lift_curve(y_true, y_pred_probs)\n",
    "            figures.append(fig)\n",
    "            figure_names.append(\"lift_curve\")\n",
    "    fig = plt.figure()\n",
    "    skplt.metrics.plot_confusion_matrix(y_true, y_pred)\n",
    "    figures.append(fig)\n",
    "    figure_names.append(\"confusion_matrix\")\n",
    "    \n",
    "    if supress_warnings:\n",
    "        mute.resume()\n",
    "\n",
    "    return figures, figure_names"
   ]
  },
  {
   "cell_type": "code",
   "execution_count": null,
   "metadata": {},
   "outputs": [
    {
     "data": {
      "text/html": [
       "<pre style=\"white-space:pre;overflow-x:auto;line-height:normal;font-family:Menlo,'DejaVu Sans Mono',consolas,'Courier New',monospace\"></pre>\n"
      ],
      "text/plain": []
     },
     "metadata": {},
     "output_type": "display_data"
    },
    {
     "data": {
      "text/plain": [
       "\u001b[1m<\u001b[0m\u001b[1;95mFigure\u001b[0m\u001b[39m size 64\u001b[0m\u001b[1;36m0x480\u001b[0m\u001b[39m with \u001b[0m\u001b[1;36m0\u001b[0m\u001b[39m Axes\u001b[0m\u001b[1m>\u001b[0m"
      ]
     },
     "metadata": {},
     "output_type": "display_data"
    },
    {
     "data": {
      "text/html": [
       "<pre style=\"white-space:pre;overflow-x:auto;line-height:normal;font-family:Menlo,'DejaVu Sans Mono',consolas,'Courier New',monospace\"></pre>\n"
      ],
      "text/plain": []
     },
     "metadata": {},
     "output_type": "display_data"
    },
    {
     "data": {
      "image/png": "[encoded data removed]",
      "text/plain": [
       "\u001b[1m<\u001b[0m\u001b[1;95mFigure\u001b[0m\u001b[39m size 64\u001b[0m\u001b[1;36m0x480\u001b[0m\u001b[39m with \u001b[0m\u001b[1;36m2\u001b[0m\u001b[39m Axes\u001b[0m\u001b[1m>\u001b[0m"
      ]
     },
     "metadata": {},
     "output_type": "display_data"
    }
   ],
   "source": [
    "# num_of_classes = 2\n",
    "# num_of_classes = 3\n",
    "# num_of_classes = 20\n",
    "num_of_classes = 100 # TODO bug\n",
    "num_of_samples = 102\n",
    "# num_of_samples = 1000\n",
    "y_true = torch.randint(0, num_of_classes, size=(num_of_samples,))\n",
    "y_pred_logits = torch.softmax(torch.randn(num_of_samples, num_of_classes), dim=1)\n",
    "figures, figure_names = draw_classification_metrics(y_true, \n",
    "                               y_pred_logits, \n",
    "                               logits_to_prob=False, \n",
    "                               labels=list(range(num_of_classes)), \n",
    "                               )"
   ]
  },
  {
   "cell_type": "code",
   "execution_count": null,
   "metadata": {},
   "outputs": [
    {
     "name": "stderr",
     "output_type": "stream",
     "text": [
      "/tmp/ipykernel_1542695/3728250618.py:2: UserWarning: This is a warning\n",
      "  warnings.warn(\"This is a warning\")\n"
     ]
    }
   ],
   "source": [
    "[1,2,3].pop(0)\n",
    "warnings.warn(\"This is a warning\")"
   ]
  },
  {
   "cell_type": "code",
   "execution_count": null,
   "metadata": {},
   "outputs": [],
   "source": [
    "#| hide\n",
    "import nbdev; nbdev.nbdev_export()"
   ]
  }
 ],
 "metadata": {
  "kernelspec": {
   "display_name": "yuequ",
   "language": "python",
   "name": "python3"
  },
  "language_info": {
   "codemirror_mode": {
    "name": "ipython",
    "version": 3
   },
   "file_extension": ".py",
   "mimetype": "text/x-python",
   "name": "python",
   "nbconvert_exporter": "python",
   "pygments_lexer": "ipython3",
   "version": "3.10.12"
  }
 },
 "nbformat": 4,
 "nbformat_minor": 4
}
