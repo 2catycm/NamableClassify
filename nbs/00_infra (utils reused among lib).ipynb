{
 "cells": [
  {
   "cell_type": "markdown",
   "metadata": {},
   "source": [
    "# Utility Functions\n",
    "\n",
    "> 通用工具函数和路径设置\n",
    ">\n",
    "> General utility functions and path settings"
   ]
  },
  {
   "cell_type": "markdown",
   "metadata": {},
   "source": [
    "## 简介/Description:\n",
    "\n",
    "utils 模块包含通用工具函数和项目中的关键路径设置，如 data_path。这些工具函数与项目的各个模块没有直接耦合，提供了项目中可复用的常用功能。\n",
    "\n",
    "The utils module contains general utility functions and key path settings for the project, such as data_path. These utility functions are decoupled from the project’s main modules and provide commonly used reusable functionality across the project."
   ]
  },
  {
   "cell_type": "markdown",
   "metadata": {},
   "source": [
    "## 主要符号/Main symbols:\n",
    "\n",
    "- data_path: 数据存储路径的设置，用于配置数据集的根目录。\n",
    "\n",
    "  data_path: Defines the data storage path, used for setting the dataset root directory.\n",
    "\n",
    "\n",
    "- other_util_function: 其他工具函数，未来可以扩展。\n",
    "\n",
    "  other_util_function: Placeholder for other utility functions, expandable for future needs."
   ]
  },
  {
   "cell_type": "code",
   "execution_count": null,
   "metadata": {},
   "outputs": [],
   "source": [
    "#| default_exp infra"
   ]
  },
  {
   "cell_type": "code",
   "execution_count": 31,
   "metadata": {},
   "outputs": [
    {
     "name": "stdout",
     "output_type": "stream",
     "text": [
      "The autoreload extension is already loaded. To reload it, use:\n",
      "  %reload_ext autoreload\n"
     ]
    }
   ],
   "source": [
    "#| hide\n",
    "%load_ext autoreload\n",
    "%autoreload 2\n",
    "from nbdev.showdoc import *"
   ]
  },
  {
   "cell_type": "markdown",
   "metadata": {},
   "source": [
    "## 本库有关一些信息"
   ]
  },
  {
   "cell_type": "code",
   "execution_count": null,
   "metadata": {},
   "outputs": [],
   "source": [
    "#| export\n",
    "from namable_classify.help import *"
   ]
  },
  {
   "cell_type": "code",
   "execution_count": 33,
   "metadata": {},
   "outputs": [
    {
     "data": {
      "text/html": [
       "<pre style=\"white-space:pre;overflow-x:auto;line-height:normal;font-family:Menlo,'DejaVu Sans Mono',consolas,'Courier New',monospace\"></pre>\n"
      ],
      "text/plain": []
     },
     "metadata": {},
     "output_type": "display_data"
    },
    {
     "data": {
      "text/plain": [
       "\u001b[1;35mPath\u001b[0m\u001b[1m(\u001b[0m\u001b[32m'/home/ye_canming/repos/novelties/cv/cls/NamableClassify/runs'\u001b[0m\u001b[1m)\u001b[0m"
      ]
     },
     "execution_count": 33,
     "metadata": {},
     "output_type": "execute_result"
    }
   ],
   "source": [
    "lib_paths.runs_path"
   ]
  },
  {
   "cell_type": "code",
   "execution_count": 34,
   "metadata": {},
   "outputs": [],
   "source": [
    "#| export\n",
    "import joblib\n",
    "memory = joblib.Memory(location=runs_path/\"joblib_cache\", verbose=0)"
   ]
  },
  {
   "cell_type": "markdown",
   "metadata": {},
   "source": [
    "## 日志模块 / Logging Module\n",
    "\n",
    "我们结合loguru和rich的最佳实践，利用richuru库。"
   ]
  },
  {
   "cell_type": "code",
   "execution_count": 35,
   "metadata": {},
   "outputs": [],
   "source": [
    "#| export\n",
    "from scholarly_infrastructure.logging.nucleus import original_print, print, logger, Markdown"
   ]
  },
  {
   "cell_type": "code",
   "execution_count": 36,
   "metadata": {},
   "outputs": [
    {
     "name": "stdout",
     "output_type": "stream",
     "text": [
      "\u001b[2;36mSat 2024-11-16 16:53:27.273178\u001b[0m\n",
      "\u001b[34mINFO    \u001b[0m \u001b[1;34mThis is a info statement                               \u001b[0m \u001b]8;id=532316;file:///tmp/ipykernel_2291627/2417338832.py\u001b\\\u001b[2m2417338832.py\u001b[0m\u001b]8;;\u001b\\\u001b[2m:\u001b[0m\u001b]8;id=457395;file:///tmp/ipykernel_2291627/2417338832.py#2\u001b\\\u001b[2m2\u001b[0m\u001b]8;;\u001b\\\n",
      "\u001b[34mINFO    \u001b[0m \u001b[1;34mThis is a info statement                               \u001b[0m \u001b]8;id=532316;file:///tmp/ipykernel_2291627/2417338832.py\u001b\\\u001b[2m2417338832.py\u001b[0m\u001b]8;;\u001b\\\u001b[2m:\u001b[0m\u001b]8;id=457395;file:///tmp/ipykernel_2291627/2417338832.py#2\u001b\\\u001b[2m2\u001b[0m\u001b]8;;\u001b\\\n"
     ]
    }
   ],
   "source": [
    "logger.debug(\"This is a info statement\")\n",
    "logger.info(\"This is a info statement\", style=\"bold blue\")"
   ]
  },
  {
   "cell_type": "code",
   "execution_count": 37,
   "metadata": {},
   "outputs": [
    {
     "name": "stdout",
     "output_type": "stream",
     "text": [
      "\u001b[2;36mSat 2024-11-16 16:53:27.421074\u001b[0m\n",
      "\u001b[34mINFO    \u001b[0m \u001b[33m────────────────────────────────────────────────────────\u001b[0m \u001b]8;id=22498;file:///tmp/ipykernel_2291627/501508743.py\u001b\\\u001b[2m501508743.py\u001b[0m\u001b]8;;\u001b\\\u001b[2m:\u001b[0m\u001b]8;id=46931;file:///tmp/ipykernel_2291627/501508743.py#1\u001b\\\u001b[2m1\u001b[0m\u001b]8;;\u001b\\\n",
      "\u001b[34mINFO    \u001b[0m \u001b[33m────────────────────────────────────────────────────────\u001b[0m \u001b]8;id=22498;file:///tmp/ipykernel_2291627/501508743.py\u001b\\\u001b[2m501508743.py\u001b[0m\u001b]8;;\u001b\\\u001b[2m:\u001b[0m\u001b]8;id=46931;file:///tmp/ipykernel_2291627/501508743.py#1\u001b\\\u001b[2m1\u001b[0m\u001b]8;;\u001b\\\n"
     ]
    }
   ],
   "source": [
    "logger.info(\"\", rich=Markdown(\"---\"))"
   ]
  },
  {
   "cell_type": "markdown",
   "metadata": {},
   "source": [
    "## 检查PyTorch模型是否符合预期，是否为要训练的模型"
   ]
  },
  {
   "cell_type": "code",
   "execution_count": 38,
   "metadata": {},
   "outputs": [],
   "source": [
    "#| export\n",
    "from scholarly_infrastructure.logging.torch import inspect_model_parameters, num_of_total_parameters, num_of_trainable_parameters, print_trainable_parameters"
   ]
  },
  {
   "cell_type": "code",
   "execution_count": 39,
   "metadata": {},
   "outputs": [],
   "source": [
    "from transformers import AutoModel, AutoConfig\n",
    "test_model = AutoModel.from_config(AutoConfig.from_pretrained(\"google/vit-base-patch16-224-in21k\"))"
   ]
  },
  {
   "cell_type": "code",
   "execution_count": 40,
   "metadata": {},
   "outputs": [
    {
     "name": "stdout",
     "output_type": "stream",
     "text": [
      "\u001b[2;36mSat 2024-11-16 16:53:43.504169\u001b[0m\n",
      "\u001b[34mINFO    \u001b[0m \u001b[3m     Model ViTModel's Trainable Parameters Inspection      \u001b[0m \u001b]8;id=495518;file:///home/ye_canming/repos/novelties/cv/ScholarlyInfrastructure/scholarly_infrastructure/logging/torch.py\u001b\\\u001b[2mtorch.py\u001b[0m\u001b]8;;\u001b\\\u001b[2m:\u001b[0m\u001b]8;id=628144;file:///home/ye_canming/repos/novelties/cv/ScholarlyInfrastructure/scholarly_infrastructure/logging/torch.py#55\u001b\\\u001b[2m55\u001b[0m\u001b]8;;\u001b\\\n",
      "         ┏━━━━━━━━━━━━━━━━━━━━━━━━━━━━━━━━┳━━━━━━━━━━━┳━━━━━━━━━━━━┓ \u001b[2m           \u001b[0m\n",
      "         ┃\u001b[1m                                \u001b[0m┃\u001b[1m \u001b[0m\u001b[1mNumber of\u001b[0m\u001b[1m \u001b[0m┃\u001b[1m \u001b[0m\u001b[1m Trainable\u001b[0m\u001b[1m \u001b[0m┃ \u001b[2m           \u001b[0m\n",
      "         ┃\u001b[1m                                \u001b[0m┃\u001b[1m \u001b[0m\u001b[1mTotal    \u001b[0m\u001b[1m \u001b[0m┃\u001b[1m \u001b[0m\u001b[1m     Ratio\u001b[0m\u001b[1m \u001b[0m┃ \u001b[2m           \u001b[0m\n",
      "         ┃\u001b[1m \u001b[0m\u001b[1mNumber of Trainable Parameters\u001b[0m\u001b[1m \u001b[0m┃\u001b[1m \u001b[0m\u001b[1mParamete…\u001b[0m\u001b[1m \u001b[0m┃\u001b[1m \u001b[0m\u001b[1m     (0-1)\u001b[0m\u001b[1m \u001b[0m┃ \u001b[2m           \u001b[0m\n",
      "         ┡━━━━━━━━━━━━━━━━━━━━━━━━━━━━━━━━╇━━━━━━━━━━━╇━━━━━━━━━━━━┩ \u001b[2m           \u001b[0m\n",
      "         │\u001b[36m \u001b[0m\u001b[36m   8.639e+07 (3.456e+08 bytes)\u001b[0m\u001b[36m \u001b[0m│\u001b[35m \u001b[0m\u001b[35m8.639e+07\u001b[0m\u001b[35m \u001b[0m│\u001b[32m \u001b[0m\u001b[32m 1.000e+00\u001b[0m\u001b[32m \u001b[0m│ \u001b[2m           \u001b[0m\n",
      "         │\u001b[36m                                \u001b[0m│\u001b[35m \u001b[0m\u001b[35m(3.456e+…\u001b[0m\u001b[35m \u001b[0m│\u001b[32m            \u001b[0m│ \u001b[2m           \u001b[0m\n",
      "         │\u001b[36m                                \u001b[0m│\u001b[35m \u001b[0m\u001b[35mbytes)   \u001b[0m\u001b[35m \u001b[0m│\u001b[32m            \u001b[0m│ \u001b[2m           \u001b[0m\n",
      "         └────────────────────────────────┴───────────┴────────────┘ \u001b[2m           \u001b[0m\n",
      "\u001b[34mINFO    \u001b[0m \u001b[3m     Model ViTModel's Trainable Parameters Inspection      \u001b[0m \u001b]8;id=495518;file:///home/ye_canming/repos/novelties/cv/ScholarlyInfrastructure/scholarly_infrastructure/logging/torch.py\u001b\\\u001b[2mtorch.py\u001b[0m\u001b]8;;\u001b\\\u001b[2m:\u001b[0m\u001b]8;id=628144;file:///home/ye_canming/repos/novelties/cv/ScholarlyInfrastructure/scholarly_infrastructure/logging/torch.py#55\u001b\\\u001b[2m55\u001b[0m\u001b]8;;\u001b\\\n",
      "         ┏━━━━━━━━━━━━━━━━━━━━━━━━━━━━━━━━┳━━━━━━━━━━━┳━━━━━━━━━━━━┓ \u001b[2m           \u001b[0m\n",
      "         ┃\u001b[1m                                \u001b[0m┃\u001b[1m \u001b[0m\u001b[1mNumber of\u001b[0m\u001b[1m \u001b[0m┃\u001b[1m \u001b[0m\u001b[1m Trainable\u001b[0m\u001b[1m \u001b[0m┃ \u001b[2m           \u001b[0m\n",
      "         ┃\u001b[1m                                \u001b[0m┃\u001b[1m \u001b[0m\u001b[1mTotal    \u001b[0m\u001b[1m \u001b[0m┃\u001b[1m \u001b[0m\u001b[1m     Ratio\u001b[0m\u001b[1m \u001b[0m┃ \u001b[2m           \u001b[0m\n",
      "         ┃\u001b[1m \u001b[0m\u001b[1mNumber of Trainable Parameters\u001b[0m\u001b[1m \u001b[0m┃\u001b[1m \u001b[0m\u001b[1mParamete…\u001b[0m\u001b[1m \u001b[0m┃\u001b[1m \u001b[0m\u001b[1m     (0-1)\u001b[0m\u001b[1m \u001b[0m┃ \u001b[2m           \u001b[0m\n",
      "         ┡━━━━━━━━━━━━━━━━━━━━━━━━━━━━━━━━╇━━━━━━━━━━━╇━━━━━━━━━━━━┩ \u001b[2m           \u001b[0m\n",
      "         │\u001b[36m \u001b[0m\u001b[36m   8.639e+07 (3.456e+08 bytes)\u001b[0m\u001b[36m \u001b[0m│\u001b[35m \u001b[0m\u001b[35m8.639e+07\u001b[0m\u001b[35m \u001b[0m│\u001b[32m \u001b[0m\u001b[32m 1.000e+00\u001b[0m\u001b[32m \u001b[0m│ \u001b[2m           \u001b[0m\n",
      "         │\u001b[36m                                \u001b[0m│\u001b[35m \u001b[0m\u001b[35m(3.456e+…\u001b[0m\u001b[35m \u001b[0m│\u001b[32m            \u001b[0m│ \u001b[2m           \u001b[0m\n",
      "         │\u001b[36m                                \u001b[0m│\u001b[35m \u001b[0m\u001b[35mbytes)   \u001b[0m\u001b[35m \u001b[0m│\u001b[32m            \u001b[0m│ \u001b[2m           \u001b[0m\n",
      "         └────────────────────────────────┴───────────┴────────────┘ \u001b[2m           \u001b[0m\n"
     ]
    }
   ],
   "source": [
    "test_model.print_trainable_parameters()"
   ]
  },
  {
   "cell_type": "code",
   "execution_count": 41,
   "metadata": {},
   "outputs": [],
   "source": [
    "#| export\n",
    "from scholarly_infrastructure.logging.torch import model_rich_tree, print_model_pretty"
   ]
  },
  {
   "cell_type": "code",
   "execution_count": 42,
   "metadata": {},
   "outputs": [
    {
     "name": "stdout",
     "output_type": "stream",
     "text": [
      "\u001b[2;36mSat 2024-11-16 16:53:43.839477\u001b[0m\n",
      "\u001b[34mINFO    \u001b[0m ╭──────────────── Model Tree for ViTModel ────────────────╮ \u001b]8;id=254185;file:///home/ye_canming/repos/novelties/cv/ScholarlyInfrastructure/scholarly_infrastructure/logging/torch.py\u001b\\\u001b[2mtorch.py\u001b[0m\u001b]8;;\u001b\\\u001b[2m:\u001b[0m\u001b]8;id=181565;file:///home/ye_canming/repos/novelties/cv/ScholarlyInfrastructure/scholarly_infrastructure/logging/torch.py#72\u001b\\\u001b[2m72\u001b[0m\u001b]8;;\u001b\\\n",
      "         │ \u001b[37mroot\u001b[0m                                                    │ \u001b[2m           \u001b[0m\n",
      "         │ ├── \u001b[37membeddings \u001b[0m\u001b[32m(ViTEmbeddings) \u001b[0m\u001b[36mcls_token:[1, 1, 768] \u001b[0m   │ \u001b[2m           \u001b[0m\n",
      "         │ │   \u001b[36mposition_embeddings:[1, 197, 768]\u001b[0m                   │ \u001b[2m           \u001b[0m\n",
      "         │ │   └── \u001b[37mpatch_embeddings \u001b[0m\u001b[32m(ViTPatchEmbeddings)\u001b[0m           │ \u001b[2m           \u001b[0m\n",
      "         │ │       └── \u001b[37mprojection \u001b[0m\u001b[32m(Conv2d) \u001b[0m\u001b[36mweight:[768, 3, 16, 16]\u001b[0m │ \u001b[2m           \u001b[0m\n",
      "         │ │           \u001b[36mbias:[768]\u001b[0m                                  │ \u001b[2m           \u001b[0m\n",
      "         │ ├── \u001b[37mencoder \u001b[0m\u001b[32m(ViTEncoder)\u001b[0m                                │ \u001b[2m           \u001b[0m\n",
      "         │ │   └── \u001b[37mlayer \u001b[0m\u001b[32m(ModuleList)\u001b[0m                              │ \u001b[2m           \u001b[0m\n",
      "         │ │       └── \u001b[31m0-11\u001b[0m\u001b[32m(ViTLayer)\u001b[0m                              │ \u001b[2m           \u001b[0m\n",
      "         │ │           ├── \u001b[37mattention \u001b[0m\u001b[32m(ViTSdpaAttention)\u001b[0m            │ \u001b[2m           \u001b[0m\n",
      "         │ │           │   ├── \u001b[37mattention \u001b[0m\u001b[32m(ViTSdpaSelfAttention)\u001b[0m    │ \u001b[2m           \u001b[0m\n",
      "         │ │           │   │   └── \u001b[31mquery,key,value\u001b[0m\u001b[32m(Linear) \u001b[0m        │ \u001b[2m           \u001b[0m\n",
      "         │ │           │   │       \u001b[36mweight:[768, 768] \u001b[0m\u001b[36mbias:[768]\u001b[0m    │ \u001b[2m           \u001b[0m\n",
      "         │ │           │   └── \u001b[37moutput \u001b[0m\u001b[32m(ViTSelfOutput)\u001b[0m              │ \u001b[2m           \u001b[0m\n",
      "         │ │           │       └── \u001b[37mdense \u001b[0m\u001b[32m(Linear) \u001b[0m\u001b[36mweight:[768, \u001b[0m    │ \u001b[2m           \u001b[0m\n",
      "         │ │           │           \u001b[36m768] \u001b[0m\u001b[36mbias:[768]\u001b[0m                 │ \u001b[2m           \u001b[0m\n",
      "         │ │           ├── \u001b[37mintermediate \u001b[0m\u001b[32m(ViTIntermediate)\u001b[0m          │ \u001b[2m           \u001b[0m\n",
      "         │ │           │   └── \u001b[37mdense \u001b[0m\u001b[32m(Linear) \u001b[0m\u001b[36mweight:[3072, 768] \u001b[0m  │ \u001b[2m           \u001b[0m\n",
      "         │ │           │       \u001b[36mbias:[3072]\u001b[0m                         │ \u001b[2m           \u001b[0m\n",
      "         │ │           ├── \u001b[37moutput \u001b[0m\u001b[32m(ViTOutput)\u001b[0m                      │ \u001b[2m           \u001b[0m\n",
      "         │ │           │   └── \u001b[37mdense \u001b[0m\u001b[32m(Linear) \u001b[0m\u001b[36mweight:[768, 3072] \u001b[0m  │ \u001b[2m           \u001b[0m\n",
      "         │ │           │       \u001b[36mbias:[768]\u001b[0m                          │ \u001b[2m           \u001b[0m\n",
      "         │ │           └── \u001b[31mlayernorm_before,layernorm_after\u001b[0m\u001b[32m(LayerN\u001b[0m │ \u001b[2m           \u001b[0m\n",
      "         │ │               \u001b[32morm) \u001b[0m\u001b[36mweight:[768] \u001b[0m\u001b[36mbias:[768]\u001b[0m            │ \u001b[2m           \u001b[0m\n",
      "         │ ├── \u001b[37mlayernorm \u001b[0m\u001b[32m(LayerNorm) \u001b[0m\u001b[36mweight:[768] \u001b[0m\u001b[36mbias:[768]\u001b[0m       │ \u001b[2m           \u001b[0m\n",
      "         │ └── \u001b[37mpooler \u001b[0m\u001b[32m(ViTPooler)\u001b[0m                                  │ \u001b[2m           \u001b[0m\n",
      "         │     └── \u001b[37mdense \u001b[0m\u001b[32m(Linear) \u001b[0m\u001b[36mweight:[768, 768] \u001b[0m\u001b[36mbias:[768]\u001b[0m     │ \u001b[2m           \u001b[0m\n",
      "         ╰─────────────────────────────────────────────────────────╯ \u001b[2m           \u001b[0m\n",
      "\u001b[34mINFO    \u001b[0m ╭──────────────── Model Tree for ViTModel ────────────────╮ \u001b]8;id=254185;file:///home/ye_canming/repos/novelties/cv/ScholarlyInfrastructure/scholarly_infrastructure/logging/torch.py\u001b\\\u001b[2mtorch.py\u001b[0m\u001b]8;;\u001b\\\u001b[2m:\u001b[0m\u001b]8;id=181565;file:///home/ye_canming/repos/novelties/cv/ScholarlyInfrastructure/scholarly_infrastructure/logging/torch.py#72\u001b\\\u001b[2m72\u001b[0m\u001b]8;;\u001b\\\n",
      "         │ \u001b[37mroot\u001b[0m                                                    │ \u001b[2m           \u001b[0m\n",
      "         │ ├── \u001b[37membeddings \u001b[0m\u001b[32m(ViTEmbeddings) \u001b[0m\u001b[36mcls_token:[1, 1, 768] \u001b[0m   │ \u001b[2m           \u001b[0m\n",
      "         │ │   \u001b[36mposition_embeddings:[1, 197, 768]\u001b[0m                   │ \u001b[2m           \u001b[0m\n",
      "         │ │   └── \u001b[37mpatch_embeddings \u001b[0m\u001b[32m(ViTPatchEmbeddings)\u001b[0m           │ \u001b[2m           \u001b[0m\n",
      "         │ │       └── \u001b[37mprojection \u001b[0m\u001b[32m(Conv2d) \u001b[0m\u001b[36mweight:[768, 3, 16, 16]\u001b[0m │ \u001b[2m           \u001b[0m\n",
      "         │ │           \u001b[36mbias:[768]\u001b[0m                                  │ \u001b[2m           \u001b[0m\n",
      "         │ ├── \u001b[37mencoder \u001b[0m\u001b[32m(ViTEncoder)\u001b[0m                                │ \u001b[2m           \u001b[0m\n",
      "         │ │   └── \u001b[37mlayer \u001b[0m\u001b[32m(ModuleList)\u001b[0m                              │ \u001b[2m           \u001b[0m\n",
      "         │ │       └── \u001b[31m0-11\u001b[0m\u001b[32m(ViTLayer)\u001b[0m                              │ \u001b[2m           \u001b[0m\n",
      "         │ │           ├── \u001b[37mattention \u001b[0m\u001b[32m(ViTSdpaAttention)\u001b[0m            │ \u001b[2m           \u001b[0m\n",
      "         │ │           │   ├── \u001b[37mattention \u001b[0m\u001b[32m(ViTSdpaSelfAttention)\u001b[0m    │ \u001b[2m           \u001b[0m\n",
      "         │ │           │   │   └── \u001b[31mquery,key,value\u001b[0m\u001b[32m(Linear) \u001b[0m        │ \u001b[2m           \u001b[0m\n",
      "         │ │           │   │       \u001b[36mweight:[768, 768] \u001b[0m\u001b[36mbias:[768]\u001b[0m    │ \u001b[2m           \u001b[0m\n",
      "         │ │           │   └── \u001b[37moutput \u001b[0m\u001b[32m(ViTSelfOutput)\u001b[0m              │ \u001b[2m           \u001b[0m\n",
      "         │ │           │       └── \u001b[37mdense \u001b[0m\u001b[32m(Linear) \u001b[0m\u001b[36mweight:[768, \u001b[0m    │ \u001b[2m           \u001b[0m\n",
      "         │ │           │           \u001b[36m768] \u001b[0m\u001b[36mbias:[768]\u001b[0m                 │ \u001b[2m           \u001b[0m\n",
      "         │ │           ├── \u001b[37mintermediate \u001b[0m\u001b[32m(ViTIntermediate)\u001b[0m          │ \u001b[2m           \u001b[0m\n",
      "         │ │           │   └── \u001b[37mdense \u001b[0m\u001b[32m(Linear) \u001b[0m\u001b[36mweight:[3072, 768] \u001b[0m  │ \u001b[2m           \u001b[0m\n",
      "         │ │           │       \u001b[36mbias:[3072]\u001b[0m                         │ \u001b[2m           \u001b[0m\n",
      "         │ │           ├── \u001b[37moutput \u001b[0m\u001b[32m(ViTOutput)\u001b[0m                      │ \u001b[2m           \u001b[0m\n",
      "         │ │           │   └── \u001b[37mdense \u001b[0m\u001b[32m(Linear) \u001b[0m\u001b[36mweight:[768, 3072] \u001b[0m  │ \u001b[2m           \u001b[0m\n",
      "         │ │           │       \u001b[36mbias:[768]\u001b[0m                          │ \u001b[2m           \u001b[0m\n",
      "         │ │           └── \u001b[31mlayernorm_before,layernorm_after\u001b[0m\u001b[32m(LayerN\u001b[0m │ \u001b[2m           \u001b[0m\n",
      "         │ │               \u001b[32morm) \u001b[0m\u001b[36mweight:[768] \u001b[0m\u001b[36mbias:[768]\u001b[0m            │ \u001b[2m           \u001b[0m\n",
      "         │ ├── \u001b[37mlayernorm \u001b[0m\u001b[32m(LayerNorm) \u001b[0m\u001b[36mweight:[768] \u001b[0m\u001b[36mbias:[768]\u001b[0m       │ \u001b[2m           \u001b[0m\n",
      "         │ └── \u001b[37mpooler \u001b[0m\u001b[32m(ViTPooler)\u001b[0m                                  │ \u001b[2m           \u001b[0m\n",
      "         │     └── \u001b[37mdense \u001b[0m\u001b[32m(Linear) \u001b[0m\u001b[36mweight:[768, 768] \u001b[0m\u001b[36mbias:[768]\u001b[0m     │ \u001b[2m           \u001b[0m\n",
      "         ╰─────────────────────────────────────────────────────────╯ \u001b[2m           \u001b[0m\n"
     ]
    }
   ],
   "source": [
    "test_model.print_model_pretty()"
   ]
  },
  {
   "cell_type": "markdown",
   "metadata": {},
   "source": [
    "## 其他工具"
   ]
  },
  {
   "cell_type": "code",
   "execution_count": 43,
   "metadata": {},
   "outputs": [],
   "source": [
    "#| export\n",
    "from scholarly_infrastructure.nucleus import MuteWarnings, ensure_array, default_on_exception, append_dict_list"
   ]
  },
  {
   "cell_type": "code",
   "execution_count": 44,
   "metadata": {},
   "outputs": [
    {
     "data": {
      "text/html": [
       "<pre style=\"white-space:pre;overflow-x:auto;line-height:normal;font-family:Menlo,'DejaVu Sans Mono',consolas,'Courier New',monospace\"></pre>\n"
      ],
      "text/plain": []
     },
     "metadata": {},
     "output_type": "display_data"
    },
    {
     "data": {
      "text/plain": [
       "\u001b[1;35marray\u001b[0m\u001b[1m(\u001b[0m\u001b[1m[\u001b[0m\u001b[1;36m1\u001b[0m, \u001b[1;36m2\u001b[0m, \u001b[1;36m3\u001b[0m\u001b[1m]\u001b[0m\u001b[1m)\u001b[0m"
      ]
     },
     "execution_count": 44,
     "metadata": {},
     "output_type": "execute_result"
    }
   ],
   "source": [
    "ensure_array([1, 2, 3])"
   ]
  },
  {
   "cell_type": "code",
   "execution_count": 45,
   "metadata": {},
   "outputs": [
    {
     "ename": "NameError",
     "evalue": "name 'logger' is not defined",
     "output_type": "error",
     "traceback": [
      "\u001b[0;31m---------------------------------------------------------------------------\u001b[0m",
      "\u001b[0;31mZeroDivisionError\u001b[0m                         Traceback (most recent call last)",
      "File \u001b[0;32m~/repos/novelties/cv/ScholarlyInfrastructure/scholarly_infrastructure/nucleus.py:43\u001b[0m, in \u001b[0;36mdefault_on_exception\u001b[0;34m(func, default_value, verbose, *args, **kwargs)\u001b[0m\n\u001b[1;32m     42\u001b[0m \u001b[38;5;28;01mtry\u001b[39;00m:\n\u001b[0;32m---> 43\u001b[0m     result \u001b[38;5;241m=\u001b[39m \u001b[43mfunc\u001b[49m\u001b[43m(\u001b[49m\u001b[38;5;241;43m*\u001b[39;49m\u001b[43margs\u001b[49m\u001b[43m,\u001b[49m\u001b[43m \u001b[49m\u001b[38;5;241;43m*\u001b[39;49m\u001b[38;5;241;43m*\u001b[39;49m\u001b[43mkwargs\u001b[49m\u001b[43m)\u001b[49m\n\u001b[1;32m     44\u001b[0m     \u001b[38;5;28;01mreturn\u001b[39;00m result\n",
      "Cell \u001b[0;32mIn[45], line 3\u001b[0m, in \u001b[0;36mtest_default_on_exception\u001b[0;34m(a)\u001b[0m\n\u001b[1;32m      1\u001b[0m \u001b[38;5;129m@default_on_exception\u001b[39m(default_value\u001b[38;5;241m=\u001b[39m\u001b[38;5;241m999\u001b[39m, verbose\u001b[38;5;241m=\u001b[39m\u001b[38;5;28;01mTrue\u001b[39;00m)\n\u001b[1;32m      2\u001b[0m \u001b[38;5;28;01mdef\u001b[39;00m \u001b[38;5;21mtest_default_on_exception\u001b[39m(a\u001b[38;5;241m=\u001b[39m\u001b[38;5;241m1\u001b[39m):\n\u001b[0;32m----> 3\u001b[0m     \u001b[38;5;241;43m1\u001b[39;49m\u001b[38;5;241;43m/\u001b[39;49m\u001b[38;5;241;43m0\u001b[39;49m\n\u001b[1;32m      4\u001b[0m     \u001b[38;5;28;01mreturn\u001b[39;00m a\n",
      "\u001b[0;31mZeroDivisionError\u001b[0m: division by zero",
      "\nDuring handling of the above exception, another exception occurred:\n",
      "\u001b[0;31mNameError\u001b[0m                                 Traceback (most recent call last)",
      "Cell \u001b[0;32mIn[45], line 5\u001b[0m\n\u001b[1;32m      3\u001b[0m     \u001b[38;5;241m1\u001b[39m\u001b[38;5;241m/\u001b[39m\u001b[38;5;241m0\u001b[39m\n\u001b[1;32m      4\u001b[0m     \u001b[38;5;28;01mreturn\u001b[39;00m a\n\u001b[0;32m----> 5\u001b[0m \u001b[43mtest_default_on_exception\u001b[49m\u001b[43m(\u001b[49m\u001b[43m)\u001b[49m\n",
      "File \u001b[0;32m~/program_files/managers/conda/envs/yuequ/lib/python3.10/site-packages/decorator.py:232\u001b[0m, in \u001b[0;36mdecorate.<locals>.fun\u001b[0;34m(*args, **kw)\u001b[0m\n\u001b[1;32m    230\u001b[0m \u001b[38;5;28;01mif\u001b[39;00m \u001b[38;5;129;01mnot\u001b[39;00m kwsyntax:\n\u001b[1;32m    231\u001b[0m     args, kw \u001b[38;5;241m=\u001b[39m fix(args, kw, sig)\n\u001b[0;32m--> 232\u001b[0m \u001b[38;5;28;01mreturn\u001b[39;00m \u001b[43mcaller\u001b[49m\u001b[43m(\u001b[49m\u001b[43mfunc\u001b[49m\u001b[43m,\u001b[49m\u001b[43m \u001b[49m\u001b[38;5;241;43m*\u001b[39;49m\u001b[43m(\u001b[49m\u001b[43mextras\u001b[49m\u001b[43m \u001b[49m\u001b[38;5;241;43m+\u001b[39;49m\u001b[43m \u001b[49m\u001b[43margs\u001b[49m\u001b[43m)\u001b[49m\u001b[43m,\u001b[49m\u001b[43m \u001b[49m\u001b[38;5;241;43m*\u001b[39;49m\u001b[38;5;241;43m*\u001b[39;49m\u001b[43mkw\u001b[49m\u001b[43m)\u001b[49m\n",
      "File \u001b[0;32m~/repos/novelties/cv/ScholarlyInfrastructure/scholarly_infrastructure/nucleus.py:48\u001b[0m, in \u001b[0;36mdefault_on_exception\u001b[0;34m(func, default_value, verbose, *args, **kwargs)\u001b[0m\n\u001b[1;32m     45\u001b[0m \u001b[38;5;28;01mexcept\u001b[39;00m \u001b[38;5;167;01mException\u001b[39;00m \u001b[38;5;28;01mas\u001b[39;00m e:\n\u001b[1;32m     46\u001b[0m     \u001b[38;5;66;03m# logger.warning(f\"An exception occurred: {e}\")\u001b[39;00m\n\u001b[1;32m     47\u001b[0m     \u001b[38;5;28;01mif\u001b[39;00m verbose:\n\u001b[0;32m---> 48\u001b[0m         \u001b[43mlogger\u001b[49m\u001b[38;5;241m.\u001b[39mexception(e)\n\u001b[1;32m     49\u001b[0m     \u001b[38;5;28;01mreturn\u001b[39;00m default_value\n",
      "\u001b[0;31mNameError\u001b[0m: name 'logger' is not defined"
     ]
    }
   ],
   "source": [
    "@default_on_exception(default_value=999, verbose=True)\n",
    "def test_default_on_exception(a=1):\n",
    "    1/0\n",
    "    return a\n",
    "test_default_on_exception()"
   ]
  },
  {
   "cell_type": "code",
   "execution_count": null,
   "metadata": {},
   "outputs": [],
   "source": [
    "#| hide\n",
    "import nbdev; nbdev.nbdev_export()"
   ]
  }
 ],
 "metadata": {
  "kernelspec": {
   "display_name": "yuequ",
   "language": "python",
   "name": "python3"
  },
  "language_info": {
   "codemirror_mode": {
    "name": "ipython",
    "version": 3
   },
   "file_extension": ".py",
   "mimetype": "text/x-python",
   "name": "python",
   "nbconvert_exporter": "python",
   "pygments_lexer": "ipython3",
   "version": "3.10.12"
  }
 },
 "nbformat": 4,
 "nbformat_minor": 4
}
