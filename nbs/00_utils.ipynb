{
 "cells": [
  {
   "cell_type": "markdown",
   "metadata": {},
   "source": [
    "# Utility Functions\n",
    "\n",
    "> 通用工具函数和路径设置\n",
    ">\n",
    "> General utility functions and path settings"
   ]
  },
  {
   "cell_type": "markdown",
   "metadata": {},
   "source": [
    "## 简介/Description:\n",
    "\n",
    "utils 模块包含通用工具函数和项目中的关键路径设置，如 data_path。这些工具函数与项目的各个模块没有直接耦合，提供了项目中可复用的常用功能。\n",
    "\n",
    "The utils module contains general utility functions and key path settings for the project, such as data_path. These utility functions are decoupled from the project’s main modules and provide commonly used reusable functionality across the project."
   ]
  },
  {
   "cell_type": "markdown",
   "metadata": {},
   "source": [
    "## 主要符号/Main symbols:\n",
    "\n",
    "- data_path: 数据存储路径的设置，用于配置数据集的根目录。\n",
    "\n",
    "  data_path: Defines the data storage path, used for setting the dataset root directory.\n",
    "\n",
    "\n",
    "- other_util_function: 其他工具函数，未来可以扩展。\n",
    "\n",
    "  other_util_function: Placeholder for other utility functions, expandable for future needs."
   ]
  },
  {
   "cell_type": "code",
   "execution_count": null,
   "metadata": {},
   "outputs": [],
   "source": [
    "#| default_exp utils"
   ]
  },
  {
   "cell_type": "code",
   "execution_count": null,
   "metadata": {},
   "outputs": [],
   "source": [
    "#| hide\n",
    "%load_ext autoreload\n",
    "%autoreload 2\n",
    "from nbdev.showdoc import *"
   ]
  },
  {
   "cell_type": "markdown",
   "metadata": {},
   "source": [
    "## 本库有关一些信息"
   ]
  },
  {
   "cell_type": "code",
   "execution_count": null,
   "metadata": {},
   "outputs": [],
   "source": [
    "#| export\n",
    "from pathlib import Path\n",
    "import inspect\n",
    "import namable_classify\n",
    "lib_init_path = Path(inspect.getfile(namable_classify))\n",
    "lib_directory_path = lib_init_path.parent\n",
    "lib_repo_path = lib_directory_path.parent\n",
    "runs_path = lib_repo_path/'runs'\n",
    "runs_path.mkdir(exist_ok=True, parents=True)\n",
    "runs_figs_path = runs_path/'figs'\n",
    "runs_figs_path.mkdir(exist_ok=True, parents=True)\n",
    "data_path = lib_repo_path/'data'\n",
    "data_path.mkdir(exist_ok=True, parents=True)"
   ]
  },
  {
   "cell_type": "code",
   "execution_count": null,
   "metadata": {},
   "outputs": [],
   "source": [
    "#| export\n",
    "with open(lib_repo_path/\"README.md\") as readme:\n",
    "    namable_classify.__doc__ = readme.read()"
   ]
  },
  {
   "cell_type": "code",
   "execution_count": null,
   "metadata": {},
   "outputs": [],
   "source": [
    "# namable_classify?"
   ]
  },
  {
   "cell_type": "markdown",
   "metadata": {},
   "source": [
    "## 日志模块 / Logging Module\n",
    "\n",
    "我们结合loguru和rich的最佳实践，利用richuru库。"
   ]
  },
  {
   "cell_type": "code",
   "execution_count": null,
   "metadata": {},
   "outputs": [],
   "source": [
    "#| export \n",
    "# How to set logger level in loguru?\n",
    "# https://github.com/Delgan/loguru/issues/138\n",
    "# Make faster? picologging\n",
    "# import \n",
    "# def set_logger_level(level):\n",
    "#     os\n",
    "# How to add file handler to loguru logger?\n",
    "# try:\n",
    "import richuru\n",
    "from rich.console import Console\n",
    "from rich.theme import Theme\n",
    "import logging\n",
    "from rich.markdown import Markdown\n",
    "import rich\n",
    "\n",
    "# 如果在python console里面调用，就可以看到好看的东西。\n",
    "from rich import pretty\n",
    "pretty.install()\n",
    "\n",
    "rich_console = Console(\n",
    "    theme=richuru.Theme(  # required, otherwise the color will be incorrect\n",
    "        {\n",
    "            'logging.level.success': 'green',\n",
    "            'logging.level.trace': 'bright_black',\n",
    "        }\n",
    "    ), \n",
    "    markup=True\n",
    ")\n",
    "richuru.install(rich_console=rich_console, \n",
    "                time_format=\"%a %Y-%m-%d %H:%M:%S.%f\", \n",
    "                level = logging.INFO\n",
    ")\n",
    "# except ImportError:\n",
    "#     pass\n"
   ]
  },
  {
   "cell_type": "code",
   "execution_count": null,
   "metadata": {},
   "outputs": [
    {
     "name": "stdout",
     "output_type": "stream",
     "text": [
      "\u001b[0;31mSignature:\u001b[0m\n",
      "\u001b[0mrichuru\u001b[0m\u001b[0;34m.\u001b[0m\u001b[0minstall\u001b[0m\u001b[0;34m(\u001b[0m\u001b[0;34m\u001b[0m\n",
      "\u001b[0;34m\u001b[0m    \u001b[0mrich_console\u001b[0m\u001b[0;34m:\u001b[0m \u001b[0mOptional\u001b[0m\u001b[0;34m[\u001b[0m\u001b[0mrich\u001b[0m\u001b[0;34m.\u001b[0m\u001b[0mconsole\u001b[0m\u001b[0;34m.\u001b[0m\u001b[0mConsole\u001b[0m\u001b[0;34m]\u001b[0m \u001b[0;34m=\u001b[0m \u001b[0;32mNone\u001b[0m\u001b[0;34m,\u001b[0m\u001b[0;34m\u001b[0m\n",
      "\u001b[0;34m\u001b[0m    \u001b[0mexc_hook\u001b[0m\u001b[0;34m:\u001b[0m \u001b[0mOptional\u001b[0m\u001b[0;34m[\u001b[0m\u001b[0mCallable\u001b[0m\u001b[0;34m[\u001b[0m\u001b[0;34m[\u001b[0m\u001b[0mType\u001b[0m\u001b[0;34m[\u001b[0m\u001b[0mBaseException\u001b[0m\u001b[0;34m]\u001b[0m\u001b[0;34m,\u001b[0m \u001b[0mBaseException\u001b[0m\u001b[0;34m,\u001b[0m \u001b[0mOptional\u001b[0m\u001b[0;34m[\u001b[0m\u001b[0mtraceback\u001b[0m\u001b[0;34m]\u001b[0m\u001b[0;34m]\u001b[0m\u001b[0;34m,\u001b[0m \u001b[0mAny\u001b[0m\u001b[0;34m]\u001b[0m\u001b[0;34m]\u001b[0m \u001b[0;34m=\u001b[0m \u001b[0;34m<\u001b[0m\u001b[0mfunction\u001b[0m \u001b[0m_loguru_exc_hook\u001b[0m \u001b[0mat\u001b[0m \u001b[0;36m0x7458661a60e0\u001b[0m\u001b[0;34m>\u001b[0m\u001b[0;34m,\u001b[0m\u001b[0;34m\u001b[0m\n",
      "\u001b[0;34m\u001b[0m    \u001b[0mrich_traceback\u001b[0m\u001b[0;34m:\u001b[0m \u001b[0mbool\u001b[0m \u001b[0;34m=\u001b[0m \u001b[0;32mTrue\u001b[0m\u001b[0;34m,\u001b[0m\u001b[0;34m\u001b[0m\n",
      "\u001b[0;34m\u001b[0m    \u001b[0mtb_ctx_lines\u001b[0m\u001b[0;34m:\u001b[0m \u001b[0mint\u001b[0m \u001b[0;34m=\u001b[0m \u001b[0;36m3\u001b[0m\u001b[0;34m,\u001b[0m\u001b[0;34m\u001b[0m\n",
      "\u001b[0;34m\u001b[0m    \u001b[0mtb_theme\u001b[0m\u001b[0;34m:\u001b[0m \u001b[0mOptional\u001b[0m\u001b[0;34m[\u001b[0m\u001b[0mstr\u001b[0m\u001b[0;34m]\u001b[0m \u001b[0;34m=\u001b[0m \u001b[0;32mNone\u001b[0m\u001b[0;34m,\u001b[0m\u001b[0;34m\u001b[0m\n",
      "\u001b[0;34m\u001b[0m    \u001b[0mtb_suppress\u001b[0m\u001b[0;34m:\u001b[0m \u001b[0mIterable\u001b[0m\u001b[0;34m[\u001b[0m\u001b[0mUnion\u001b[0m\u001b[0;34m[\u001b[0m\u001b[0mstr\u001b[0m\u001b[0;34m,\u001b[0m \u001b[0mmodule\u001b[0m\u001b[0;34m]\u001b[0m\u001b[0;34m]\u001b[0m \u001b[0;34m=\u001b[0m \u001b[0;34m(\u001b[0m\u001b[0;34m)\u001b[0m\u001b[0;34m,\u001b[0m\u001b[0;34m\u001b[0m\n",
      "\u001b[0;34m\u001b[0m    \u001b[0mtime_format\u001b[0m\u001b[0;34m:\u001b[0m \u001b[0mUnion\u001b[0m\u001b[0;34m[\u001b[0m\u001b[0mstr\u001b[0m\u001b[0;34m,\u001b[0m \u001b[0mCallable\u001b[0m\u001b[0;34m[\u001b[0m\u001b[0;34m[\u001b[0m\u001b[0mdatetime\u001b[0m\u001b[0;34m.\u001b[0m\u001b[0mdatetime\u001b[0m\u001b[0;34m]\u001b[0m\u001b[0;34m,\u001b[0m \u001b[0mrich\u001b[0m\u001b[0;34m.\u001b[0m\u001b[0mtext\u001b[0m\u001b[0;34m.\u001b[0m\u001b[0mText\u001b[0m\u001b[0;34m]\u001b[0m\u001b[0;34m]\u001b[0m \u001b[0;34m=\u001b[0m \u001b[0;34m'[%x %X]'\u001b[0m\u001b[0;34m,\u001b[0m\u001b[0;34m\u001b[0m\n",
      "\u001b[0;34m\u001b[0m    \u001b[0mkeywords\u001b[0m\u001b[0;34m:\u001b[0m \u001b[0mOptional\u001b[0m\u001b[0;34m[\u001b[0m\u001b[0mList\u001b[0m\u001b[0;34m[\u001b[0m\u001b[0mstr\u001b[0m\u001b[0;34m]\u001b[0m\u001b[0;34m]\u001b[0m \u001b[0;34m=\u001b[0m \u001b[0;32mNone\u001b[0m\u001b[0;34m,\u001b[0m\u001b[0;34m\u001b[0m\n",
      "\u001b[0;34m\u001b[0m    \u001b[0mlevel\u001b[0m\u001b[0;34m:\u001b[0m \u001b[0mUnion\u001b[0m\u001b[0;34m[\u001b[0m\u001b[0mint\u001b[0m\u001b[0;34m,\u001b[0m \u001b[0mstr\u001b[0m\u001b[0;34m]\u001b[0m \u001b[0;34m=\u001b[0m \u001b[0;36m20\u001b[0m\u001b[0;34m,\u001b[0m\u001b[0;34m\u001b[0m\n",
      "\u001b[0;34m\u001b[0m\u001b[0;34m)\u001b[0m \u001b[0;34m->\u001b[0m \u001b[0;32mNone\u001b[0m\u001b[0;34m\u001b[0m\u001b[0;34m\u001b[0m\u001b[0m\n",
      "\u001b[0;31mDocstring:\u001b[0m Install Rich logging and Loguru exception hook\n",
      "\u001b[0;31mFile:\u001b[0m      ~/program_files/managers/conda/envs/hf_ai/lib/python3.10/site-packages/richuru.py\n",
      "\u001b[0;31mType:\u001b[0m      function"
     ]
    }
   ],
   "source": [
    "Theme?\n",
    "richuru.install?"
   ]
  },
  {
   "cell_type": "code",
   "execution_count": null,
   "metadata": {},
   "outputs": [],
   "source": [
    "# richuru.Theme?\n",
    "# %load_ext rich\n",
    "# [\"Rich and pretty\", True]"
   ]
  },
  {
   "cell_type": "code",
   "execution_count": null,
   "metadata": {},
   "outputs": [],
   "source": [
    "#| export\n",
    "from loguru import logger\n",
    "original_print = print\n",
    "print = lambda *args, **kwargs: logger.info(*args, **kwargs)"
   ]
  },
  {
   "cell_type": "code",
   "execution_count": null,
   "metadata": {},
   "outputs": [
    {
     "name": "stdout",
     "output_type": "stream",
     "text": [
      "The rich extension is already loaded. To reload it, use:\n",
      "  %reload_ext rich\n"
     ]
    },
    {
     "data": {
      "text/html": [
       "<pre style=\"white-space:pre;overflow-x:auto;line-height:normal;font-family:Menlo,'DejaVu Sans Mono',consolas,'Courier New',monospace\"><span style=\"color: #7fbfbf; text-decoration-color: #7fbfbf\">Tue 2024-10-29 16:49:54.122499</span>\n",
       "</pre>\n"
      ],
      "text/plain": [
       "\u001b[2;36mTue 2024-10-29 16:49:54.122499\u001b[0m\n"
      ]
     },
     "metadata": {},
     "output_type": "display_data"
    },
    {
     "data": {
      "text/html": [
       "<pre style=\"white-space:pre;overflow-x:auto;line-height:normal;font-family:Menlo,'DejaVu Sans Mono',consolas,'Courier New',monospace\"><span style=\"color: #000080; text-decoration-color: #000080\">INFO    </span> <span style=\"font-weight: bold\">[</span><span style=\"color: #008000; text-decoration-color: #008000\">'Hello World!'</span>, <span style=\"color: #00ff00; text-decoration-color: #00ff00; font-style: italic\">True</span><span style=\"font-weight: bold\">]</span>                                                                     <a href=\"file:///tmp/ipykernel_1795797/2114298849.py\" target=\"_blank\"><span style=\"color: #7f7f7f; text-decoration-color: #7f7f7f\">2114298849.py</span></a><span style=\"color: #7f7f7f; text-decoration-color: #7f7f7f\">:</span><a href=\"file:///tmp/ipykernel_1795797/2114298849.py#4\" target=\"_blank\"><span style=\"color: #7f7f7f; text-decoration-color: #7f7f7f\">4</span></a>\n",
       "</pre>\n"
      ],
      "text/plain": [
       "\u001b[34mINFO    \u001b[0m \u001b[1m[\u001b[0m\u001b[32m'Hello World!'\u001b[0m, \u001b[3;92mTrue\u001b[0m\u001b[1m]\u001b[0m                                                                     \u001b]8;id=184638;file:///tmp/ipykernel_1795797/2114298849.py\u001b\\\u001b[2m2114298849.py\u001b[0m\u001b]8;;\u001b\\\u001b[2m:\u001b[0m\u001b]8;id=450798;file:///tmp/ipykernel_1795797/2114298849.py#4\u001b\\\u001b[2m4\u001b[0m\u001b]8;;\u001b\\\n"
      ]
     },
     "metadata": {},
     "output_type": "display_data"
    },
    {
     "name": "stdout",
     "output_type": "stream",
     "text": [
      "['Hello World!', True]\n"
     ]
    }
   ],
   "source": [
    "%load_ext rich\n",
    "print([\"Hello World!\", True])\n",
    "original_print([\"Hello World!\", True])"
   ]
  },
  {
   "cell_type": "code",
   "execution_count": null,
   "metadata": {},
   "outputs": [],
   "source": [
    "# from rich.logging import RichHandler\n",
    "# import logging\n",
    "# logger.info(\"setting up logger. \")\n",
    "# logger.configure(handlers=[{\"sink\": RichHandler(markup=True, \n",
    "#                                                 log_time_format = \"%a %Y-%m-%d %H:%M:%S.%f\", \n",
    "#                                                 level=logging.INFO),\n",
    "#                         #  \"format\": \"[red]{function}[/red] {message}\"}]\n",
    "#                         \"format\":\"<cyan>{name}</cyan>: <level>{message}</level>\"\n",
    "#                         }]\n",
    "                #  )\n",
    "# RichHandler?\n"
   ]
  },
  {
   "cell_type": "code",
   "execution_count": null,
   "metadata": {},
   "outputs": [
    {
     "data": {
      "text/html": [
       "<pre style=\"white-space:pre;overflow-x:auto;line-height:normal;font-family:Menlo,'DejaVu Sans Mono',consolas,'Courier New',monospace\"><span style=\"color: #7fbfbf; text-decoration-color: #7fbfbf\">Tue 2024-10-29 16:32:10.656394</span>\n",
       "</pre>\n"
      ],
      "text/plain": [
       "\u001b[2;36mTue 2024-10-29 16:32:10.656394\u001b[0m\n"
      ]
     },
     "metadata": {},
     "output_type": "display_data"
    },
    {
     "data": {
      "text/html": [
       "<pre style=\"white-space:pre;overflow-x:auto;line-height:normal;font-family:Menlo,'DejaVu Sans Mono',consolas,'Courier New',monospace\"><span style=\"color: #000080; text-decoration-color: #000080\">INFO    </span> <span style=\"color: #000080; text-decoration-color: #000080; font-weight: bold\">This is a info statement                                                                  </span> <a href=\"file:///tmp/ipykernel_1795797/2417338832.py\" target=\"_blank\"><span style=\"color: #7f7f7f; text-decoration-color: #7f7f7f\">2417338832.py</span></a><span style=\"color: #7f7f7f; text-decoration-color: #7f7f7f\">:</span><a href=\"file:///tmp/ipykernel_1795797/2417338832.py#2\" target=\"_blank\"><span style=\"color: #7f7f7f; text-decoration-color: #7f7f7f\">2</span></a>\n",
       "</pre>\n"
      ],
      "text/plain": [
       "\u001b[34mINFO    \u001b[0m \u001b[1;34mThis is a info statement                                                                  \u001b[0m \u001b]8;id=289062;file:///tmp/ipykernel_1795797/2417338832.py\u001b\\\u001b[2m2417338832.py\u001b[0m\u001b]8;;\u001b\\\u001b[2m:\u001b[0m\u001b]8;id=59099;file:///tmp/ipykernel_1795797/2417338832.py#2\u001b\\\u001b[2m2\u001b[0m\u001b]8;;\u001b\\\n"
      ]
     },
     "metadata": {},
     "output_type": "display_data"
    }
   ],
   "source": [
    "logger.debug(\"This is a info statement\")\n",
    "logger.info(\"This is a info statement\", style=\"bold blue\")"
   ]
  },
  {
   "cell_type": "code",
   "execution_count": null,
   "metadata": {},
   "outputs": [
    {
     "data": {
      "text/html": [
       "<pre style=\"white-space:pre;overflow-x:auto;line-height:normal;font-family:Menlo,'DejaVu Sans Mono',consolas,'Courier New',monospace\"><span style=\"color: #7fbfbf; text-decoration-color: #7fbfbf\">Tue 2024-10-29 16:37:33.633471</span>\n",
       "</pre>\n"
      ],
      "text/plain": [
       "\u001b[2;36mTue 2024-10-29 16:37:33.633471\u001b[0m\n"
      ]
     },
     "metadata": {},
     "output_type": "display_data"
    },
    {
     "data": {
      "text/html": [
       "<pre style=\"white-space:pre;overflow-x:auto;line-height:normal;font-family:Menlo,'DejaVu Sans Mono',consolas,'Courier New',monospace\"><span style=\"color: #000080; text-decoration-color: #000080\">INFO    </span> <span style=\"color: #808000; text-decoration-color: #808000\">───────────────────────────────────────────────────────────────────────────────────────────</span> <a href=\"file:///tmp/ipykernel_1795797/501508743.py\" target=\"_blank\"><span style=\"color: #7f7f7f; text-decoration-color: #7f7f7f\">501508743.py</span></a><span style=\"color: #7f7f7f; text-decoration-color: #7f7f7f\">:</span><a href=\"file:///tmp/ipykernel_1795797/501508743.py#1\" target=\"_blank\"><span style=\"color: #7f7f7f; text-decoration-color: #7f7f7f\">1</span></a>\n",
       "</pre>\n"
      ],
      "text/plain": [
       "\u001b[34mINFO    \u001b[0m \u001b[33m───────────────────────────────────────────────────────────────────────────────────────────\u001b[0m \u001b]8;id=213965;file:///tmp/ipykernel_1795797/501508743.py\u001b\\\u001b[2m501508743.py\u001b[0m\u001b]8;;\u001b\\\u001b[2m:\u001b[0m\u001b]8;id=786209;file:///tmp/ipykernel_1795797/501508743.py#1\u001b\\\u001b[2m1\u001b[0m\u001b]8;;\u001b\\\n"
      ]
     },
     "metadata": {},
     "output_type": "display_data"
    }
   ],
   "source": [
    "logger.info(\"\", rich=Markdown(\"---\"))"
   ]
  },
  {
   "cell_type": "markdown",
   "metadata": {},
   "source": [
    "## 检查PyTorch模型是否符合预期，是否为要训练的模型"
   ]
  },
  {
   "cell_type": "code",
   "execution_count": null,
   "metadata": {},
   "outputs": [],
   "source": [
    "#| export\n",
    "from fastcore.basics import patch\n",
    "import torch\n",
    "import torch.nn as nn\n",
    "import torch.nn.functional as F\n",
    "import torch.optim as optim\n",
    "from rich.table import Table\n",
    "\n",
    "@patch\n",
    "def inspect_model_parameters(model:nn.Module):\n",
    "    trainable_params = 0\n",
    "    all_param = 0\n",
    "    trainable_bytes = 0\n",
    "    all_bytes = 0\n",
    "    for _, param in model.named_parameters():\n",
    "        param_bytes = param.numel() * param.element_size()\n",
    "        all_param += param.numel()\n",
    "        all_bytes += param_bytes\n",
    "        if param.requires_grad:\n",
    "            trainable_params += param.numel()\n",
    "            trainable_bytes += param_bytes\n",
    "    return trainable_params, all_param, trainable_bytes, all_bytes\n",
    "\n",
    "@patch\n",
    "def num_of_total_parameters(model:nn.Module):\n",
    "    return inspect_model_parameters(model)[1]\n",
    "\n",
    "@patch\n",
    "def num_of_trainable_parameters(model:nn.Module):\n",
    "    return inspect_model_parameters(model)[0]\n",
    "\n",
    "@patch\n",
    "def print_trainable_parameters(model:nn.Module):\n",
    "    \"\"\"\n",
    "    Prints the number of trainable parameters in the model.\n",
    "    \"\"\"\n",
    "    trainable_params, all_param, trainable_bytes, all_bytes = model.inspect_model_parameters()\n",
    "    # print(\n",
    "    table = Table(title=f\"Model {model.__class__.__name__}'s Trainable Parameters Inspection\")\n",
    "    table.add_column(\"Number of Trainable Parameters\", justify=\"right\", style=\"cyan\", no_wrap=True)\n",
    "    table.add_column(\"Number of Total Parameters\", style=\"magenta\")\n",
    "    table.add_column(\"Trainable Ratio (0-1)\", justify=\"right\", style=\"green\")\n",
    "    table.add_row(f\"{trainable_params:.3e} ({trainable_bytes:.3e} bytes)\", f\"{all_param:.3e} ({all_bytes:.3e} bytes)\", f\"{trainable_params / all_param:.3e}\")\n",
    "    \n",
    "    logger.info(\n",
    "        f\"trainable params: {trainable_params} || all params: {all_param} || trainable%: {100 * trainable_params / all_param:.2f}\", \n",
    "        rich=table\n",
    "    )"
   ]
  },
  {
   "cell_type": "code",
   "execution_count": null,
   "metadata": {},
   "outputs": [
    {
     "name": "stderr",
     "output_type": "stream",
     "text": [
      "/home/ycm/program_files/managers/conda/envs/hf_ai/lib/python3.10/site-packages/huggingface_hub/file_download.py:1150: FutureWarning: `resume_download` is deprecated and will be removed in version 1.0.0. Downloads always resume when possible. If you want to force a new download, use `force_download=True`.\n",
      "  warnings.warn(\n"
     ]
    }
   ],
   "source": [
    "from transformers import AutoModel, AutoConfig\n",
    "test_model = AutoModel.from_config(AutoConfig.from_pretrained(\"google/vit-base-patch16-224-in21k\"))"
   ]
  },
  {
   "cell_type": "code",
   "execution_count": null,
   "metadata": {},
   "outputs": [
    {
     "data": {
      "text/html": [
       "<pre style=\"white-space:pre;overflow-x:auto;line-height:normal;font-family:Menlo,'DejaVu Sans Mono',consolas,'Courier New',monospace\"><span style=\"color: #7fbfbf; text-decoration-color: #7fbfbf\">Tue 2024-10-29 17:04:39.408133</span>\n",
       "</pre>\n"
      ],
      "text/plain": [
       "\u001b[2;36mTue 2024-10-29 17:04:39.408133\u001b[0m\n"
      ]
     },
     "metadata": {},
     "output_type": "display_data"
    },
    {
     "data": {
      "text/html": [
       "<pre style=\"white-space:pre;overflow-x:auto;line-height:normal;font-family:Menlo,'DejaVu Sans Mono',consolas,'Courier New',monospace\"><span style=\"color: #000080; text-decoration-color: #000080\">INFO    </span> <span style=\"font-style: italic\">                    Model ViTModel's Trainable Parameters Inspection                    </span>  <a href=\"file:///tmp/ipykernel_1795797/2153449922.py\" target=\"_blank\"><span style=\"color: #7f7f7f; text-decoration-color: #7f7f7f\">2153449922.py</span></a><span style=\"color: #7f7f7f; text-decoration-color: #7f7f7f\">:</span><a href=\"file:///tmp/ipykernel_1795797/2153449922.py#45\" target=\"_blank\"><span style=\"color: #7f7f7f; text-decoration-color: #7f7f7f\">45</span></a>\n",
       "         ┏━━━━━━━━━━━━━━━━━━━━━━━━━━━━━━━━┳━━━━━━━━━━━━━━━━━━━━━━━━━━━━━┳━━━━━━━━━━━━━━━━━━━━━━━┓  <span style=\"color: #7f7f7f; text-decoration-color: #7f7f7f\">                </span>\n",
       "         ┃<span style=\"font-weight: bold\"> Number of Trainable Parameters </span>┃<span style=\"font-weight: bold\"> Number of Total Parameters  </span>┃<span style=\"font-weight: bold\"> Trainable Ratio (0-1) </span>┃  <span style=\"color: #7f7f7f; text-decoration-color: #7f7f7f\">                </span>\n",
       "         ┡━━━━━━━━━━━━━━━━━━━━━━━━━━━━━━━━╇━━━━━━━━━━━━━━━━━━━━━━━━━━━━━╇━━━━━━━━━━━━━━━━━━━━━━━┩  <span style=\"color: #7f7f7f; text-decoration-color: #7f7f7f\">                </span>\n",
       "         │<span style=\"color: #008080; text-decoration-color: #008080\">    8.639e+07 (3.456e+08 bytes) </span>│<span style=\"color: #800080; text-decoration-color: #800080\"> 8.639e+07 (3.456e+08 bytes) </span>│<span style=\"color: #008000; text-decoration-color: #008000\">             1.000e+00 </span>│  <span style=\"color: #7f7f7f; text-decoration-color: #7f7f7f\">                </span>\n",
       "         └────────────────────────────────┴─────────────────────────────┴───────────────────────┘  <span style=\"color: #7f7f7f; text-decoration-color: #7f7f7f\">                </span>\n",
       "</pre>\n"
      ],
      "text/plain": [
       "\u001b[34mINFO    \u001b[0m \u001b[3m                    Model ViTModel's Trainable Parameters Inspection                    \u001b[0m  \u001b]8;id=468092;file:///tmp/ipykernel_1795797/2153449922.py\u001b\\\u001b[2m2153449922.py\u001b[0m\u001b]8;;\u001b\\\u001b[2m:\u001b[0m\u001b]8;id=390693;file:///tmp/ipykernel_1795797/2153449922.py#45\u001b\\\u001b[2m45\u001b[0m\u001b]8;;\u001b\\\n",
       "         ┏━━━━━━━━━━━━━━━━━━━━━━━━━━━━━━━━┳━━━━━━━━━━━━━━━━━━━━━━━━━━━━━┳━━━━━━━━━━━━━━━━━━━━━━━┓  \u001b[2m                \u001b[0m\n",
       "         ┃\u001b[1m \u001b[0m\u001b[1mNumber of Trainable Parameters\u001b[0m\u001b[1m \u001b[0m┃\u001b[1m \u001b[0m\u001b[1mNumber of Total Parameters \u001b[0m\u001b[1m \u001b[0m┃\u001b[1m \u001b[0m\u001b[1mTrainable Ratio (0-1)\u001b[0m\u001b[1m \u001b[0m┃  \u001b[2m                \u001b[0m\n",
       "         ┡━━━━━━━━━━━━━━━━━━━━━━━━━━━━━━━━╇━━━━━━━━━━━━━━━━━━━━━━━━━━━━━╇━━━━━━━━━━━━━━━━━━━━━━━┩  \u001b[2m                \u001b[0m\n",
       "         │\u001b[36m \u001b[0m\u001b[36m   8.639e+07 (3.456e+08 bytes)\u001b[0m\u001b[36m \u001b[0m│\u001b[35m \u001b[0m\u001b[35m8.639e+07 (3.456e+08 bytes)\u001b[0m\u001b[35m \u001b[0m│\u001b[32m \u001b[0m\u001b[32m            1.000e+00\u001b[0m\u001b[32m \u001b[0m│  \u001b[2m                \u001b[0m\n",
       "         └────────────────────────────────┴─────────────────────────────┴───────────────────────┘  \u001b[2m                \u001b[0m\n"
      ]
     },
     "metadata": {},
     "output_type": "display_data"
    }
   ],
   "source": [
    "test_model.print_trainable_parameters()"
   ]
  },
  {
   "cell_type": "code",
   "execution_count": null,
   "metadata": {},
   "outputs": [],
   "source": [
    "# @patch\n",
    "# def print_model_pretty(self:nn.Module):\n",
    "#     with console.capture() as capture:\n",
    "#         module_tree = Visualization(self).structure_graph(printTree=False)\n",
    "#         console.print(module_tree)\n",
    "#     # console.print(capture.get())\n",
    "#     # return capture.get()\n",
    "#     # return module_tree"
   ]
  },
  {
   "cell_type": "code",
   "execution_count": null,
   "metadata": {},
   "outputs": [],
   "source": [
    "#| export\n",
    "from bigmodelvis import Visualization\n",
    "@patch\n",
    "def model_rich_tree(self:nn.Module):\n",
    "    module_tree = Visualization(self).structure_graph(printTree=False)\n",
    "    return module_tree\n",
    "\n",
    "from rich.panel import Panel\n",
    "@patch\n",
    "def print_model_pretty(self:nn.Module):\n",
    "    module_tree = self.model_rich_tree()\n",
    "    panel = Panel(module_tree, title=f\"Model Tree for {self.__class__.__name__}\")\n",
    "    logger.info(str(self), rich=panel)\n",
    "    # return module_tree"
   ]
  },
  {
   "cell_type": "code",
   "execution_count": null,
   "metadata": {},
   "outputs": [
    {
     "data": {
      "text/html": [
       "<pre style=\"white-space:pre;overflow-x:auto;line-height:normal;font-family:Menlo,'DejaVu Sans Mono',consolas,'Courier New',monospace\"><span style=\"color: #7fbfbf; text-decoration-color: #7fbfbf\">Tue 2024-10-29 17:12:46.166360</span>\n",
       "</pre>\n"
      ],
      "text/plain": [
       "\u001b[2;36mTue 2024-10-29 17:12:46.166360\u001b[0m\n"
      ]
     },
     "metadata": {},
     "output_type": "display_data"
    },
    {
     "data": {
      "text/html": [
       "<pre style=\"white-space:pre;overflow-x:auto;line-height:normal;font-family:Menlo,'DejaVu Sans Mono',consolas,'Courier New',monospace\"><span style=\"color: #000080; text-decoration-color: #000080\">INFO    </span> ╭─────────────────────────────── Model Tree for ViTModel ────────────────────────────────╮ <a href=\"file:///tmp/ipykernel_1795797/640056773.py\" target=\"_blank\"><span style=\"color: #7f7f7f; text-decoration-color: #7f7f7f\">640056773.py</span></a><span style=\"color: #7f7f7f; text-decoration-color: #7f7f7f\">:</span><a href=\"file:///tmp/ipykernel_1795797/640056773.py#13\" target=\"_blank\"><span style=\"color: #7f7f7f; text-decoration-color: #7f7f7f\">13</span></a>\n",
       "         │ <span style=\"color: #c0c0c0; text-decoration-color: #c0c0c0\">root</span>                                                                                   │ <span style=\"color: #7f7f7f; text-decoration-color: #7f7f7f\">               </span>\n",
       "         │ ├── <span style=\"color: #c0c0c0; text-decoration-color: #c0c0c0\">embeddings </span><span style=\"color: #008000; text-decoration-color: #008000\">(ViTEmbeddings) </span><span style=\"color: #008080; text-decoration-color: #008080\">cls_token:[1, 1, 768] position_embeddings:[1, 197, 768]</span> │ <span style=\"color: #7f7f7f; text-decoration-color: #7f7f7f\">               </span>\n",
       "         │ │   └── <span style=\"color: #c0c0c0; text-decoration-color: #c0c0c0\">patch_embeddings </span><span style=\"color: #008000; text-decoration-color: #008000\">(ViTPatchEmbeddings)</span>                                          │ <span style=\"color: #7f7f7f; text-decoration-color: #7f7f7f\">               </span>\n",
       "         │ │       └── <span style=\"color: #c0c0c0; text-decoration-color: #c0c0c0\">projection </span><span style=\"color: #008000; text-decoration-color: #008000\">(Conv2d) </span><span style=\"color: #008080; text-decoration-color: #008080\">weight:[768, 3, 16, 16] bias:[768]</span>                     │ <span style=\"color: #7f7f7f; text-decoration-color: #7f7f7f\">               </span>\n",
       "         │ ├── <span style=\"color: #c0c0c0; text-decoration-color: #c0c0c0\">encoder </span><span style=\"color: #008000; text-decoration-color: #008000\">(ViTEncoder)</span>                                                               │ <span style=\"color: #7f7f7f; text-decoration-color: #7f7f7f\">               </span>\n",
       "         │ │   └── <span style=\"color: #c0c0c0; text-decoration-color: #c0c0c0\">layer </span><span style=\"color: #008000; text-decoration-color: #008000\">(ModuleList)</span>                                                             │ <span style=\"color: #7f7f7f; text-decoration-color: #7f7f7f\">               </span>\n",
       "         │ │       └── <span style=\"color: #800000; text-decoration-color: #800000\">0-11</span><span style=\"color: #008000; text-decoration-color: #008000\">(ViTLayer)</span>                                                             │ <span style=\"color: #7f7f7f; text-decoration-color: #7f7f7f\">               </span>\n",
       "         │ │           ├── <span style=\"color: #c0c0c0; text-decoration-color: #c0c0c0\">attention </span><span style=\"color: #008000; text-decoration-color: #008000\">(ViTAttention)</span>                                               │ <span style=\"color: #7f7f7f; text-decoration-color: #7f7f7f\">               </span>\n",
       "         │ │           │   ├── <span style=\"color: #c0c0c0; text-decoration-color: #c0c0c0\">attention </span><span style=\"color: #008000; text-decoration-color: #008000\">(ViTSelfAttention)</span>                                       │ <span style=\"color: #7f7f7f; text-decoration-color: #7f7f7f\">               </span>\n",
       "         │ │           │   │   └── <span style=\"color: #800000; text-decoration-color: #800000\">query,key,value</span><span style=\"color: #008000; text-decoration-color: #008000\">(Linear) </span><span style=\"color: #008080; text-decoration-color: #008080\">weight:[768, 768] bias:[768]</span>           │ <span style=\"color: #7f7f7f; text-decoration-color: #7f7f7f\">               </span>\n",
       "         │ │           │   └── <span style=\"color: #c0c0c0; text-decoration-color: #c0c0c0\">output </span><span style=\"color: #008000; text-decoration-color: #008000\">(ViTSelfOutput)</span>                                             │ <span style=\"color: #7f7f7f; text-decoration-color: #7f7f7f\">               </span>\n",
       "         │ │           │       └── <span style=\"color: #c0c0c0; text-decoration-color: #c0c0c0\">dense </span><span style=\"color: #008000; text-decoration-color: #008000\">(Linear) </span><span style=\"color: #008080; text-decoration-color: #008080\">weight:[768, 768] bias:[768]</span>                    │ <span style=\"color: #7f7f7f; text-decoration-color: #7f7f7f\">               </span>\n",
       "         │ │           ├── <span style=\"color: #c0c0c0; text-decoration-color: #c0c0c0\">intermediate </span><span style=\"color: #008000; text-decoration-color: #008000\">(ViTIntermediate)</span>                                         │ <span style=\"color: #7f7f7f; text-decoration-color: #7f7f7f\">               </span>\n",
       "         │ │           │   └── <span style=\"color: #c0c0c0; text-decoration-color: #c0c0c0\">dense </span><span style=\"color: #008000; text-decoration-color: #008000\">(Linear) </span><span style=\"color: #008080; text-decoration-color: #008080\">weight:[3072, 768] bias:[3072]</span>                      │ <span style=\"color: #7f7f7f; text-decoration-color: #7f7f7f\">               </span>\n",
       "         │ │           ├── <span style=\"color: #c0c0c0; text-decoration-color: #c0c0c0\">output </span><span style=\"color: #008000; text-decoration-color: #008000\">(ViTOutput)</span>                                                     │ <span style=\"color: #7f7f7f; text-decoration-color: #7f7f7f\">               </span>\n",
       "         │ │           │   └── <span style=\"color: #c0c0c0; text-decoration-color: #c0c0c0\">dense </span><span style=\"color: #008000; text-decoration-color: #008000\">(Linear) </span><span style=\"color: #008080; text-decoration-color: #008080\">weight:[768, 3072] bias:[768]</span>                       │ <span style=\"color: #7f7f7f; text-decoration-color: #7f7f7f\">               </span>\n",
       "         │ │           └── <span style=\"color: #800000; text-decoration-color: #800000\">layernorm_before,layernorm_after</span><span style=\"color: #008000; text-decoration-color: #008000\">(LayerNorm) </span><span style=\"color: #008080; text-decoration-color: #008080\">weight:[768] bias:[768]</span>    │ <span style=\"color: #7f7f7f; text-decoration-color: #7f7f7f\">               </span>\n",
       "         │ ├── <span style=\"color: #c0c0c0; text-decoration-color: #c0c0c0\">layernorm </span><span style=\"color: #008000; text-decoration-color: #008000\">(LayerNorm) </span><span style=\"color: #008080; text-decoration-color: #008080\">weight:[768] bias:[768]</span>                                      │ <span style=\"color: #7f7f7f; text-decoration-color: #7f7f7f\">               </span>\n",
       "         │ └── <span style=\"color: #c0c0c0; text-decoration-color: #c0c0c0\">pooler </span><span style=\"color: #008000; text-decoration-color: #008000\">(ViTPooler)</span>                                                                 │ <span style=\"color: #7f7f7f; text-decoration-color: #7f7f7f\">               </span>\n",
       "         │     └── <span style=\"color: #c0c0c0; text-decoration-color: #c0c0c0\">dense </span><span style=\"color: #008000; text-decoration-color: #008000\">(Linear) </span><span style=\"color: #008080; text-decoration-color: #008080\">weight:[768, 768] bias:[768]</span>                                    │ <span style=\"color: #7f7f7f; text-decoration-color: #7f7f7f\">               </span>\n",
       "         ╰────────────────────────────────────────────────────────────────────────────────────────╯ <span style=\"color: #7f7f7f; text-decoration-color: #7f7f7f\">               </span>\n",
       "</pre>\n"
      ],
      "text/plain": [
       "\u001b[34mINFO    \u001b[0m ╭─────────────────────────────── Model Tree for ViTModel ────────────────────────────────╮ \u001b]8;id=207261;file:///tmp/ipykernel_1795797/640056773.py\u001b\\\u001b[2m640056773.py\u001b[0m\u001b]8;;\u001b\\\u001b[2m:\u001b[0m\u001b]8;id=508142;file:///tmp/ipykernel_1795797/640056773.py#13\u001b\\\u001b[2m13\u001b[0m\u001b]8;;\u001b\\\n",
       "         │ \u001b[37mroot\u001b[0m                                                                                   │ \u001b[2m               \u001b[0m\n",
       "         │ ├── \u001b[37membeddings \u001b[0m\u001b[32m(ViTEmbeddings) \u001b[0m\u001b[36mcls_token:[1, 1, 768] \u001b[0m\u001b[36mposition_embeddings:[1, 197, 768]\u001b[0m │ \u001b[2m               \u001b[0m\n",
       "         │ │   └── \u001b[37mpatch_embeddings \u001b[0m\u001b[32m(ViTPatchEmbeddings)\u001b[0m                                          │ \u001b[2m               \u001b[0m\n",
       "         │ │       └── \u001b[37mprojection \u001b[0m\u001b[32m(Conv2d) \u001b[0m\u001b[36mweight:[768, 3, 16, 16] \u001b[0m\u001b[36mbias:[768]\u001b[0m                     │ \u001b[2m               \u001b[0m\n",
       "         │ ├── \u001b[37mencoder \u001b[0m\u001b[32m(ViTEncoder)\u001b[0m                                                               │ \u001b[2m               \u001b[0m\n",
       "         │ │   └── \u001b[37mlayer \u001b[0m\u001b[32m(ModuleList)\u001b[0m                                                             │ \u001b[2m               \u001b[0m\n",
       "         │ │       └── \u001b[31m0-11\u001b[0m\u001b[32m(ViTLayer)\u001b[0m                                                             │ \u001b[2m               \u001b[0m\n",
       "         │ │           ├── \u001b[37mattention \u001b[0m\u001b[32m(ViTAttention)\u001b[0m                                               │ \u001b[2m               \u001b[0m\n",
       "         │ │           │   ├── \u001b[37mattention \u001b[0m\u001b[32m(ViTSelfAttention)\u001b[0m                                       │ \u001b[2m               \u001b[0m\n",
       "         │ │           │   │   └── \u001b[31mquery,key,value\u001b[0m\u001b[32m(Linear) \u001b[0m\u001b[36mweight:[768, 768] \u001b[0m\u001b[36mbias:[768]\u001b[0m           │ \u001b[2m               \u001b[0m\n",
       "         │ │           │   └── \u001b[37moutput \u001b[0m\u001b[32m(ViTSelfOutput)\u001b[0m                                             │ \u001b[2m               \u001b[0m\n",
       "         │ │           │       └── \u001b[37mdense \u001b[0m\u001b[32m(Linear) \u001b[0m\u001b[36mweight:[768, 768] \u001b[0m\u001b[36mbias:[768]\u001b[0m                    │ \u001b[2m               \u001b[0m\n",
       "         │ │           ├── \u001b[37mintermediate \u001b[0m\u001b[32m(ViTIntermediate)\u001b[0m                                         │ \u001b[2m               \u001b[0m\n",
       "         │ │           │   └── \u001b[37mdense \u001b[0m\u001b[32m(Linear) \u001b[0m\u001b[36mweight:[3072, 768] \u001b[0m\u001b[36mbias:[3072]\u001b[0m                      │ \u001b[2m               \u001b[0m\n",
       "         │ │           ├── \u001b[37moutput \u001b[0m\u001b[32m(ViTOutput)\u001b[0m                                                     │ \u001b[2m               \u001b[0m\n",
       "         │ │           │   └── \u001b[37mdense \u001b[0m\u001b[32m(Linear) \u001b[0m\u001b[36mweight:[768, 3072] \u001b[0m\u001b[36mbias:[768]\u001b[0m                       │ \u001b[2m               \u001b[0m\n",
       "         │ │           └── \u001b[31mlayernorm_before,layernorm_after\u001b[0m\u001b[32m(LayerNorm) \u001b[0m\u001b[36mweight:[768] \u001b[0m\u001b[36mbias:[768]\u001b[0m    │ \u001b[2m               \u001b[0m\n",
       "         │ ├── \u001b[37mlayernorm \u001b[0m\u001b[32m(LayerNorm) \u001b[0m\u001b[36mweight:[768] \u001b[0m\u001b[36mbias:[768]\u001b[0m                                      │ \u001b[2m               \u001b[0m\n",
       "         │ └── \u001b[37mpooler \u001b[0m\u001b[32m(ViTPooler)\u001b[0m                                                                 │ \u001b[2m               \u001b[0m\n",
       "         │     └── \u001b[37mdense \u001b[0m\u001b[32m(Linear) \u001b[0m\u001b[36mweight:[768, 768] \u001b[0m\u001b[36mbias:[768]\u001b[0m                                    │ \u001b[2m               \u001b[0m\n",
       "         ╰────────────────────────────────────────────────────────────────────────────────────────╯ \u001b[2m               \u001b[0m\n"
      ]
     },
     "metadata": {},
     "output_type": "display_data"
    }
   ],
   "source": [
    "test_model.print_model_pretty()"
   ]
  },
  {
   "cell_type": "markdown",
   "metadata": {},
   "source": [
    "## 其他工具"
   ]
  },
  {
   "cell_type": "code",
   "execution_count": null,
   "metadata": {},
   "outputs": [],
   "source": [
    "#| export\n",
    "import warnings\n",
    "class MuteWarnings:\n",
    "    def __enter__(self):\n",
    "        # self.warnings_show = warnings.showwarning\n",
    "        # warnings.showwarning = lambda *args, **kwargs: None\n",
    "        self.mute()\n",
    "        \n",
    "    def __exit__(self, exc_type, exc_val, exc_tb):\n",
    "        # warnings.showwarning = self.warnings_show\n",
    "        self.close()        \n",
    "        \n",
    "    def mute(self):\n",
    "        warnings.filterwarnings(\"ignore\", append=True)\n",
    "        \n",
    "    def resume(self):\n",
    "        warnings.filters.pop(0)\n",
    "        "
   ]
  },
  {
   "cell_type": "code",
   "execution_count": null,
   "metadata": {},
   "outputs": [],
   "source": [
    "#| export\n",
    "import torch\n",
    "import numpy as np\n",
    "def ensure_array(x: torch.TensorType | np.ndarray | list):\n",
    "    if isinstance(x, torch.Tensor):\n",
    "        return x.detach().cpu().numpy()\n",
    "    elif isinstance(x, np.ndarray):\n",
    "        return x\n",
    "    else: # list\n",
    "        return np.array(x)"
   ]
  },
  {
   "cell_type": "code",
   "execution_count": null,
   "metadata": {},
   "outputs": [
    {
     "data": {
      "text/plain": [
       "array([1, 2, 3])"
      ]
     },
     "execution_count": null,
     "metadata": {},
     "output_type": "execute_result"
    }
   ],
   "source": [
    "ensure_array([1, 2, 3])"
   ]
  },
  {
   "cell_type": "code",
   "execution_count": null,
   "metadata": {},
   "outputs": [],
   "source": [
    "#| export\n",
    "# from scipy.special import softmax\n",
    "from decorator import decorator\n",
    "# def default_on_exception(default_value=None):\n",
    "#     def decorator(func):\n",
    "#         def wrapper(*args, **kwargs):\n",
    "#             try:\n",
    "#                 result = func(*args, **kwargs)\n",
    "#                 return result\n",
    "#             except Exception as e:\n",
    "#                 logger.warning(f\"An exception occurred: {e}\")\n",
    "#                 return default_value\n",
    "#         return wrapper\n",
    "#     return decorator\n",
    "\n",
    "@decorator\n",
    "def default_on_exception(func, default_value=None, verbose=False, *args, **kwargs):\n",
    "    try:\n",
    "        result = func(*args, **kwargs)\n",
    "        return result\n",
    "    except Exception as e:\n",
    "        # logger.warning(f\"An exception occurred: {e}\")\n",
    "        if verbose:\n",
    "            logger.exception(e)\n",
    "        return default_value"
   ]
  },
  {
   "cell_type": "code",
   "execution_count": null,
   "metadata": {},
   "outputs": [
    {
     "data": {
      "text/html": [
       "<pre style=\"white-space:pre;overflow-x:auto;line-height:normal;font-family:Menlo,'DejaVu Sans Mono',consolas,'Courier New',monospace\"><span style=\"color: #7fbfbf; text-decoration-color: #7fbfbf\">Tue 2024-10-29 17:18:46.862433</span>\n",
       "</pre>\n"
      ],
      "text/plain": [
       "\u001b[2;36mTue 2024-10-29 17:18:46.862433\u001b[0m\n"
      ]
     },
     "metadata": {},
     "output_type": "display_data"
    },
    {
     "data": {
      "text/html": [
       "<pre style=\"white-space:pre;overflow-x:auto;line-height:normal;font-family:Menlo,'DejaVu Sans Mono',consolas,'Courier New',monospace\"><span style=\"color: #800000; text-decoration-color: #800000; font-weight: bold\">ERROR   </span> division by zero                                                                          <a href=\"file:///tmp/ipykernel_1795797/1102474154.py\" target=\"_blank\"><span style=\"color: #7f7f7f; text-decoration-color: #7f7f7f\">1102474154.py</span></a><span style=\"color: #7f7f7f; text-decoration-color: #7f7f7f\">:</span><a href=\"file:///tmp/ipykernel_1795797/1102474154.py#24\" target=\"_blank\"><span style=\"color: #7f7f7f; text-decoration-color: #7f7f7f\">24</span></a>\n",
       "         <span style=\"color: #800000; text-decoration-color: #800000\">╭────────────────────────── </span><span style=\"color: #800000; text-decoration-color: #800000; font-weight: bold\">Traceback </span><span style=\"color: #bf7f7f; text-decoration-color: #bf7f7f; font-weight: bold\">(most recent call last)</span><span style=\"color: #800000; text-decoration-color: #800000\"> ──────────────────────────╮</span> <span style=\"color: #7f7f7f; text-decoration-color: #7f7f7f\">                </span>\n",
       "         <span style=\"color: #800000; text-decoration-color: #800000\">│</span> in <span style=\"color: #00ff00; text-decoration-color: #00ff00\">default_on_exception</span>:<span style=\"color: #0000ff; text-decoration-color: #0000ff\">19</span>                                                            <span style=\"color: #800000; text-decoration-color: #800000\">│</span> <span style=\"color: #7f7f7f; text-decoration-color: #7f7f7f\">                </span>\n",
       "         <span style=\"color: #800000; text-decoration-color: #800000\">│</span>                                                                                       <span style=\"color: #800000; text-decoration-color: #800000\">│</span> <span style=\"color: #7f7f7f; text-decoration-color: #7f7f7f\">                </span>\n",
       "         <span style=\"color: #800000; text-decoration-color: #800000\">│</span>   <span style=\"color: #7f7f7f; text-decoration-color: #7f7f7f\">16 </span><span style=\"color: #ff00ff; text-decoration-color: #ff00ff; font-weight: bold\">@decorator</span>                                                                       <span style=\"color: #800000; text-decoration-color: #800000\">│</span> <span style=\"color: #7f7f7f; text-decoration-color: #7f7f7f\">                </span>\n",
       "         <span style=\"color: #800000; text-decoration-color: #800000\">│</span>   <span style=\"color: #7f7f7f; text-decoration-color: #7f7f7f\">17 </span><span style=\"color: #0000ff; text-decoration-color: #0000ff\">def</span> <span style=\"color: #00ff00; text-decoration-color: #00ff00\">default_on_exception</span>(func, default_value=<span style=\"color: #0000ff; text-decoration-color: #0000ff\">None</span>, verbose=<span style=\"color: #0000ff; text-decoration-color: #0000ff\">False</span>, *args, **kwarg <span style=\"color: #800000; text-decoration-color: #800000\">│</span> <span style=\"color: #7f7f7f; text-decoration-color: #7f7f7f\">                </span>\n",
       "         <span style=\"color: #800000; text-decoration-color: #800000\">│</span>   <span style=\"color: #7f7f7f; text-decoration-color: #7f7f7f\">18 </span><span style=\"color: #7f7f7f; text-decoration-color: #7f7f7f\">│   </span><span style=\"color: #0000ff; text-decoration-color: #0000ff\">try</span>:                                                                         <span style=\"color: #800000; text-decoration-color: #800000\">│</span> <span style=\"color: #7f7f7f; text-decoration-color: #7f7f7f\">                </span>\n",
       "         <span style=\"color: #800000; text-decoration-color: #800000\">│</span> <span style=\"color: #800000; text-decoration-color: #800000\">❱ </span>19 <span style=\"color: #7f7f7f; text-decoration-color: #7f7f7f\">│   │   </span>result = func(*args, **kwargs)                                           <span style=\"color: #800000; text-decoration-color: #800000\">│</span> <span style=\"color: #7f7f7f; text-decoration-color: #7f7f7f\">                </span>\n",
       "         <span style=\"color: #800000; text-decoration-color: #800000\">│</span>   <span style=\"color: #7f7f7f; text-decoration-color: #7f7f7f\">20 </span><span style=\"color: #7f7f7f; text-decoration-color: #7f7f7f\">│   │   </span><span style=\"color: #0000ff; text-decoration-color: #0000ff\">return</span> result                                                            <span style=\"color: #800000; text-decoration-color: #800000\">│</span> <span style=\"color: #7f7f7f; text-decoration-color: #7f7f7f\">                </span>\n",
       "         <span style=\"color: #800000; text-decoration-color: #800000\">│</span>   <span style=\"color: #7f7f7f; text-decoration-color: #7f7f7f\">21 </span><span style=\"color: #7f7f7f; text-decoration-color: #7f7f7f\">│   </span><span style=\"color: #0000ff; text-decoration-color: #0000ff\">except</span> <span style=\"color: #00ffff; text-decoration-color: #00ffff\">Exception</span> <span style=\"color: #0000ff; text-decoration-color: #0000ff\">as</span> e:                                                       <span style=\"color: #800000; text-decoration-color: #800000\">│</span> <span style=\"color: #7f7f7f; text-decoration-color: #7f7f7f\">                </span>\n",
       "         <span style=\"color: #800000; text-decoration-color: #800000\">│</span>   <span style=\"color: #7f7f7f; text-decoration-color: #7f7f7f\">22 </span><span style=\"color: #7f7f7f; text-decoration-color: #7f7f7f\">│   │   </span><span style=\"color: #7f7f7f; text-decoration-color: #7f7f7f\"># logger.warning(f\"An exception occurred: {e}\")</span>                          <span style=\"color: #800000; text-decoration-color: #800000\">│</span> <span style=\"color: #7f7f7f; text-decoration-color: #7f7f7f\">                </span>\n",
       "         <span style=\"color: #800000; text-decoration-color: #800000\">│</span>                                                                                       <span style=\"color: #800000; text-decoration-color: #800000\">│</span> <span style=\"color: #7f7f7f; text-decoration-color: #7f7f7f\">                </span>\n",
       "         <span style=\"color: #800000; text-decoration-color: #800000\">│</span> <span style=\"color: #808000; text-decoration-color: #808000\">╭──────────────────────────────── locals ────────────────────────────────╮</span>            <span style=\"color: #800000; text-decoration-color: #800000\">│</span> <span style=\"color: #7f7f7f; text-decoration-color: #7f7f7f\">                </span>\n",
       "         <span style=\"color: #800000; text-decoration-color: #800000\">│</span> <span style=\"color: #808000; text-decoration-color: #808000\">│</span>          args = <span style=\"font-weight: bold\">(</span><span style=\"color: #0000ff; text-decoration-color: #0000ff\">1</span>,<span style=\"font-weight: bold\">)</span>                                                   <span style=\"color: #808000; text-decoration-color: #808000\">│</span>            <span style=\"color: #800000; text-decoration-color: #800000\">│</span> <span style=\"color: #7f7f7f; text-decoration-color: #7f7f7f\">                </span>\n",
       "         <span style=\"color: #800000; text-decoration-color: #800000\">│</span> <span style=\"color: #808000; text-decoration-color: #808000\">│</span> default_value = <span style=\"color: #0000ff; text-decoration-color: #0000ff\">999</span>                                                    <span style=\"color: #808000; text-decoration-color: #808000\">│</span>            <span style=\"color: #800000; text-decoration-color: #800000\">│</span> <span style=\"color: #7f7f7f; text-decoration-color: #7f7f7f\">                </span>\n",
       "         <span style=\"color: #800000; text-decoration-color: #800000\">│</span> <span style=\"color: #808000; text-decoration-color: #808000\">│</span>             e = <span style=\"color: #800080; text-decoration-color: #800080; font-weight: bold\">ZeroDivisionError</span><span style=\"font-weight: bold\">(</span><span style=\"color: #808000; text-decoration-color: #808000\">'division by zero'</span><span style=\"font-weight: bold\">)</span>                  <span style=\"color: #808000; text-decoration-color: #808000\">│</span>            <span style=\"color: #800000; text-decoration-color: #800000\">│</span> <span style=\"color: #7f7f7f; text-decoration-color: #7f7f7f\">                </span>\n",
       "         <span style=\"color: #800000; text-decoration-color: #800000\">│</span> <span style=\"color: #808000; text-decoration-color: #808000\">│</span>          func = <span style=\"font-weight: bold\">&lt;</span><span style=\"color: #ff00ff; text-decoration-color: #ff00ff; font-weight: bold\">function</span><span style=\"color: #000000; text-decoration-color: #000000\"> test_default_on_exception at </span><span style=\"color: #0000ff; text-decoration-color: #0000ff\">0x7458b0fc00d0</span><span style=\"font-weight: bold\">&gt;</span> <span style=\"color: #808000; text-decoration-color: #808000\">│</span>            <span style=\"color: #800000; text-decoration-color: #800000\">│</span> <span style=\"color: #7f7f7f; text-decoration-color: #7f7f7f\">                </span>\n",
       "         <span style=\"color: #800000; text-decoration-color: #800000\">│</span> <span style=\"color: #808000; text-decoration-color: #808000\">│</span>        kwargs = <span style=\"font-weight: bold\">{}</span>                                                     <span style=\"color: #808000; text-decoration-color: #808000\">│</span>            <span style=\"color: #800000; text-decoration-color: #800000\">│</span> <span style=\"color: #7f7f7f; text-decoration-color: #7f7f7f\">                </span>\n",
       "         <span style=\"color: #800000; text-decoration-color: #800000\">│</span> <span style=\"color: #808000; text-decoration-color: #808000\">│</span>       verbose = <span style=\"color: #0000ff; text-decoration-color: #0000ff\">True</span>                                                   <span style=\"color: #808000; text-decoration-color: #808000\">│</span>            <span style=\"color: #800000; text-decoration-color: #800000\">│</span> <span style=\"color: #7f7f7f; text-decoration-color: #7f7f7f\">                </span>\n",
       "         <span style=\"color: #800000; text-decoration-color: #800000\">│</span> <span style=\"color: #808000; text-decoration-color: #808000\">╰────────────────────────────────────────────────────────────────────────╯</span>            <span style=\"color: #800000; text-decoration-color: #800000\">│</span> <span style=\"color: #7f7f7f; text-decoration-color: #7f7f7f\">                </span>\n",
       "         <span style=\"color: #800000; text-decoration-color: #800000\">│</span>                                                                                       <span style=\"color: #800000; text-decoration-color: #800000\">│</span> <span style=\"color: #7f7f7f; text-decoration-color: #7f7f7f\">                </span>\n",
       "         <span style=\"color: #800000; text-decoration-color: #800000\">│</span> in <span style=\"color: #00ff00; text-decoration-color: #00ff00\">test_default_on_exception</span>:<span style=\"color: #0000ff; text-decoration-color: #0000ff\">3</span>                                                        <span style=\"color: #800000; text-decoration-color: #800000\">│</span> <span style=\"color: #7f7f7f; text-decoration-color: #7f7f7f\">                </span>\n",
       "         <span style=\"color: #800000; text-decoration-color: #800000\">│</span>                                                                                       <span style=\"color: #800000; text-decoration-color: #800000\">│</span> <span style=\"color: #7f7f7f; text-decoration-color: #7f7f7f\">                </span>\n",
       "         <span style=\"color: #800000; text-decoration-color: #800000\">│</span>   <span style=\"color: #7f7f7f; text-decoration-color: #7f7f7f\">1 </span><span style=\"color: #ff00ff; text-decoration-color: #ff00ff; font-weight: bold\">@default_on_exception</span>(default_value=<span style=\"color: #0000ff; text-decoration-color: #0000ff\">999</span>, verbose=<span style=\"color: #0000ff; text-decoration-color: #0000ff\">True</span>)                            <span style=\"color: #800000; text-decoration-color: #800000\">│</span> <span style=\"color: #7f7f7f; text-decoration-color: #7f7f7f\">                </span>\n",
       "         <span style=\"color: #800000; text-decoration-color: #800000\">│</span>   <span style=\"color: #7f7f7f; text-decoration-color: #7f7f7f\">2 </span><span style=\"color: #0000ff; text-decoration-color: #0000ff\">def</span> <span style=\"color: #00ff00; text-decoration-color: #00ff00\">test_default_on_exception</span>(a=<span style=\"color: #0000ff; text-decoration-color: #0000ff\">1</span>):                                               <span style=\"color: #800000; text-decoration-color: #800000\">│</span> <span style=\"color: #7f7f7f; text-decoration-color: #7f7f7f\">                </span>\n",
       "         <span style=\"color: #800000; text-decoration-color: #800000\">│</span> <span style=\"color: #800000; text-decoration-color: #800000\">❱ </span>3 <span style=\"color: #7f7f7f; text-decoration-color: #7f7f7f\">│   </span><span style=\"color: #0000ff; text-decoration-color: #0000ff\">1</span>/<span style=\"color: #0000ff; text-decoration-color: #0000ff\">0</span>                                                                           <span style=\"color: #800000; text-decoration-color: #800000\">│</span> <span style=\"color: #7f7f7f; text-decoration-color: #7f7f7f\">                </span>\n",
       "         <span style=\"color: #800000; text-decoration-color: #800000\">│</span>   <span style=\"color: #7f7f7f; text-decoration-color: #7f7f7f\">4 </span><span style=\"color: #7f7f7f; text-decoration-color: #7f7f7f\">│   </span><span style=\"color: #0000ff; text-decoration-color: #0000ff\">return</span> a                                                                      <span style=\"color: #800000; text-decoration-color: #800000\">│</span> <span style=\"color: #7f7f7f; text-decoration-color: #7f7f7f\">                </span>\n",
       "         <span style=\"color: #800000; text-decoration-color: #800000\">│</span>   <span style=\"color: #7f7f7f; text-decoration-color: #7f7f7f\">5 </span>test_default_on_exception()                                                       <span style=\"color: #800000; text-decoration-color: #800000\">│</span> <span style=\"color: #7f7f7f; text-decoration-color: #7f7f7f\">                </span>\n",
       "         <span style=\"color: #800000; text-decoration-color: #800000\">│</span>   <span style=\"color: #7f7f7f; text-decoration-color: #7f7f7f\">6 </span>                                                                                  <span style=\"color: #800000; text-decoration-color: #800000\">│</span> <span style=\"color: #7f7f7f; text-decoration-color: #7f7f7f\">                </span>\n",
       "         <span style=\"color: #800000; text-decoration-color: #800000\">│</span>                                                                                       <span style=\"color: #800000; text-decoration-color: #800000\">│</span> <span style=\"color: #7f7f7f; text-decoration-color: #7f7f7f\">                </span>\n",
       "         <span style=\"color: #800000; text-decoration-color: #800000\">│</span> <span style=\"color: #808000; text-decoration-color: #808000\">╭─ locals ─╮</span>                                                                          <span style=\"color: #800000; text-decoration-color: #800000\">│</span> <span style=\"color: #7f7f7f; text-decoration-color: #7f7f7f\">                </span>\n",
       "         <span style=\"color: #800000; text-decoration-color: #800000\">│</span> <span style=\"color: #808000; text-decoration-color: #808000\">│</span> a = <span style=\"color: #0000ff; text-decoration-color: #0000ff\">1</span>    <span style=\"color: #808000; text-decoration-color: #808000\">│</span>                                                                          <span style=\"color: #800000; text-decoration-color: #800000\">│</span> <span style=\"color: #7f7f7f; text-decoration-color: #7f7f7f\">                </span>\n",
       "         <span style=\"color: #800000; text-decoration-color: #800000\">│</span> <span style=\"color: #808000; text-decoration-color: #808000\">╰──────────╯</span>                                                                          <span style=\"color: #800000; text-decoration-color: #800000\">│</span> <span style=\"color: #7f7f7f; text-decoration-color: #7f7f7f\">                </span>\n",
       "         <span style=\"color: #800000; text-decoration-color: #800000\">╰───────────────────────────────────────────────────────────────────────────────────────╯</span> <span style=\"color: #7f7f7f; text-decoration-color: #7f7f7f\">                </span>\n",
       "         <span style=\"color: #ff0000; text-decoration-color: #ff0000; font-weight: bold\">ZeroDivisionError: </span>division by zero                                                       <span style=\"color: #7f7f7f; text-decoration-color: #7f7f7f\">                </span>\n",
       "</pre>\n"
      ],
      "text/plain": [
       "\u001b[1;31mERROR   \u001b[0m division by zero                                                                          \u001b]8;id=317008;file:///tmp/ipykernel_1795797/1102474154.py\u001b\\\u001b[2m1102474154.py\u001b[0m\u001b]8;;\u001b\\\u001b[2m:\u001b[0m\u001b]8;id=147514;file:///tmp/ipykernel_1795797/1102474154.py#24\u001b\\\u001b[2m24\u001b[0m\u001b]8;;\u001b\\\n",
       "         \u001b[31m╭─\u001b[0m\u001b[31m─────────────────────────\u001b[0m\u001b[31m \u001b[0m\u001b[1;31mTraceback \u001b[0m\u001b[1;2;31m(most recent call last)\u001b[0m\u001b[31m \u001b[0m\u001b[31m─────────────────────────\u001b[0m\u001b[31m─╮\u001b[0m \u001b[2m                \u001b[0m\n",
       "         \u001b[31m│\u001b[0m in \u001b[92mdefault_on_exception\u001b[0m:\u001b[94m19\u001b[0m                                                            \u001b[31m│\u001b[0m \u001b[2m                \u001b[0m\n",
       "         \u001b[31m│\u001b[0m                                                                                       \u001b[31m│\u001b[0m \u001b[2m                \u001b[0m\n",
       "         \u001b[31m│\u001b[0m   \u001b[2m16 \u001b[0m\u001b[1;95m@decorator\u001b[0m                                                                       \u001b[31m│\u001b[0m \u001b[2m                \u001b[0m\n",
       "         \u001b[31m│\u001b[0m   \u001b[2m17 \u001b[0m\u001b[94mdef\u001b[0m \u001b[92mdefault_on_exception\u001b[0m(func, default_value=\u001b[94mNone\u001b[0m, verbose=\u001b[94mFalse\u001b[0m, *args, **kwarg \u001b[31m│\u001b[0m \u001b[2m                \u001b[0m\n",
       "         \u001b[31m│\u001b[0m   \u001b[2m18 \u001b[0m\u001b[2m│   \u001b[0m\u001b[94mtry\u001b[0m:                                                                         \u001b[31m│\u001b[0m \u001b[2m                \u001b[0m\n",
       "         \u001b[31m│\u001b[0m \u001b[31m❱ \u001b[0m19 \u001b[2m│   │   \u001b[0mresult = func(*args, **kwargs)                                           \u001b[31m│\u001b[0m \u001b[2m                \u001b[0m\n",
       "         \u001b[31m│\u001b[0m   \u001b[2m20 \u001b[0m\u001b[2m│   │   \u001b[0m\u001b[94mreturn\u001b[0m result                                                            \u001b[31m│\u001b[0m \u001b[2m                \u001b[0m\n",
       "         \u001b[31m│\u001b[0m   \u001b[2m21 \u001b[0m\u001b[2m│   \u001b[0m\u001b[94mexcept\u001b[0m \u001b[96mException\u001b[0m \u001b[94mas\u001b[0m e:                                                       \u001b[31m│\u001b[0m \u001b[2m                \u001b[0m\n",
       "         \u001b[31m│\u001b[0m   \u001b[2m22 \u001b[0m\u001b[2m│   │   \u001b[0m\u001b[2m# logger.warning(f\"An exception occurred: {e}\")\u001b[0m                          \u001b[31m│\u001b[0m \u001b[2m                \u001b[0m\n",
       "         \u001b[31m│\u001b[0m                                                                                       \u001b[31m│\u001b[0m \u001b[2m                \u001b[0m\n",
       "         \u001b[31m│\u001b[0m \u001b[33m╭─\u001b[0m\u001b[33m───────────────────────────────\u001b[0m\u001b[33m locals \u001b[0m\u001b[33m───────────────────────────────\u001b[0m\u001b[33m─╮\u001b[0m            \u001b[31m│\u001b[0m \u001b[2m                \u001b[0m\n",
       "         \u001b[31m│\u001b[0m \u001b[33m│\u001b[0m          args = \u001b[1m(\u001b[0m\u001b[94m1\u001b[0m,\u001b[1m)\u001b[0m                                                   \u001b[33m│\u001b[0m            \u001b[31m│\u001b[0m \u001b[2m                \u001b[0m\n",
       "         \u001b[31m│\u001b[0m \u001b[33m│\u001b[0m default_value = \u001b[94m999\u001b[0m                                                    \u001b[33m│\u001b[0m            \u001b[31m│\u001b[0m \u001b[2m                \u001b[0m\n",
       "         \u001b[31m│\u001b[0m \u001b[33m│\u001b[0m             e = \u001b[1;35mZeroDivisionError\u001b[0m\u001b[1m(\u001b[0m\u001b[33m'division by zero'\u001b[0m\u001b[1m)\u001b[0m                  \u001b[33m│\u001b[0m            \u001b[31m│\u001b[0m \u001b[2m                \u001b[0m\n",
       "         \u001b[31m│\u001b[0m \u001b[33m│\u001b[0m          func = \u001b[1m<\u001b[0m\u001b[1;95mfunction\u001b[0m\u001b[39m test_default_on_exception at \u001b[0m\u001b[94m0x7458b0fc00d0\u001b[0m\u001b[1m>\u001b[0m \u001b[33m│\u001b[0m            \u001b[31m│\u001b[0m \u001b[2m                \u001b[0m\n",
       "         \u001b[31m│\u001b[0m \u001b[33m│\u001b[0m        kwargs = \u001b[1m{\u001b[0m\u001b[1m}\u001b[0m                                                     \u001b[33m│\u001b[0m            \u001b[31m│\u001b[0m \u001b[2m                \u001b[0m\n",
       "         \u001b[31m│\u001b[0m \u001b[33m│\u001b[0m       verbose = \u001b[94mTrue\u001b[0m                                                   \u001b[33m│\u001b[0m            \u001b[31m│\u001b[0m \u001b[2m                \u001b[0m\n",
       "         \u001b[31m│\u001b[0m \u001b[33m╰────────────────────────────────────────────────────────────────────────╯\u001b[0m            \u001b[31m│\u001b[0m \u001b[2m                \u001b[0m\n",
       "         \u001b[31m│\u001b[0m                                                                                       \u001b[31m│\u001b[0m \u001b[2m                \u001b[0m\n",
       "         \u001b[31m│\u001b[0m in \u001b[92mtest_default_on_exception\u001b[0m:\u001b[94m3\u001b[0m                                                        \u001b[31m│\u001b[0m \u001b[2m                \u001b[0m\n",
       "         \u001b[31m│\u001b[0m                                                                                       \u001b[31m│\u001b[0m \u001b[2m                \u001b[0m\n",
       "         \u001b[31m│\u001b[0m   \u001b[2m1 \u001b[0m\u001b[1;95m@default_on_exception\u001b[0m(default_value=\u001b[94m999\u001b[0m, verbose=\u001b[94mTrue\u001b[0m)                            \u001b[31m│\u001b[0m \u001b[2m                \u001b[0m\n",
       "         \u001b[31m│\u001b[0m   \u001b[2m2 \u001b[0m\u001b[94mdef\u001b[0m \u001b[92mtest_default_on_exception\u001b[0m(a=\u001b[94m1\u001b[0m):                                               \u001b[31m│\u001b[0m \u001b[2m                \u001b[0m\n",
       "         \u001b[31m│\u001b[0m \u001b[31m❱ \u001b[0m3 \u001b[2m│   \u001b[0m\u001b[94m1\u001b[0m/\u001b[94m0\u001b[0m                                                                           \u001b[31m│\u001b[0m \u001b[2m                \u001b[0m\n",
       "         \u001b[31m│\u001b[0m   \u001b[2m4 \u001b[0m\u001b[2m│   \u001b[0m\u001b[94mreturn\u001b[0m a                                                                      \u001b[31m│\u001b[0m \u001b[2m                \u001b[0m\n",
       "         \u001b[31m│\u001b[0m   \u001b[2m5 \u001b[0mtest_default_on_exception()                                                       \u001b[31m│\u001b[0m \u001b[2m                \u001b[0m\n",
       "         \u001b[31m│\u001b[0m   \u001b[2m6 \u001b[0m                                                                                  \u001b[31m│\u001b[0m \u001b[2m                \u001b[0m\n",
       "         \u001b[31m│\u001b[0m                                                                                       \u001b[31m│\u001b[0m \u001b[2m                \u001b[0m\n",
       "         \u001b[31m│\u001b[0m \u001b[33m╭─\u001b[0m\u001b[33m locals \u001b[0m\u001b[33m─╮\u001b[0m                                                                          \u001b[31m│\u001b[0m \u001b[2m                \u001b[0m\n",
       "         \u001b[31m│\u001b[0m \u001b[33m│\u001b[0m a = \u001b[94m1\u001b[0m    \u001b[33m│\u001b[0m                                                                          \u001b[31m│\u001b[0m \u001b[2m                \u001b[0m\n",
       "         \u001b[31m│\u001b[0m \u001b[33m╰──────────╯\u001b[0m                                                                          \u001b[31m│\u001b[0m \u001b[2m                \u001b[0m\n",
       "         \u001b[31m╰───────────────────────────────────────────────────────────────────────────────────────╯\u001b[0m \u001b[2m                \u001b[0m\n",
       "         \u001b[1;91mZeroDivisionError: \u001b[0mdivision by zero                                                       \u001b[2m                \u001b[0m\n"
      ]
     },
     "metadata": {},
     "output_type": "display_data"
    },
    {
     "data": {
      "text/plain": [
       "999"
      ]
     },
     "execution_count": null,
     "metadata": {},
     "output_type": "execute_result"
    }
   ],
   "source": [
    "@default_on_exception(default_value=999, verbose=True)\n",
    "def test_default_on_exception(a=1):\n",
    "    1/0\n",
    "    return a\n",
    "test_default_on_exception()"
   ]
  },
  {
   "cell_type": "code",
   "execution_count": null,
   "metadata": {},
   "outputs": [],
   "source": [
    "#| export\n",
    "def append_dict_list(dict, name, value):\n",
    "    dict[name] = dict.get(name, []) + [value]"
   ]
  },
  {
   "cell_type": "code",
   "execution_count": null,
   "metadata": {},
   "outputs": [],
   "source": [
    "# TODO 暂时无法使用 decorator实现这个; 目前尽量不要使用这个API\n",
    "def partial_with_self(method, *args, **kwargs):\n",
    "    def wrapped(self, *additional_args, **additional_kwargs):\n",
    "        # Combine provided args and kwargs with additional ones\n",
    "        all_args = args + additional_args\n",
    "        all_kwargs = kwargs | additional_kwargs\n",
    "        return method(self, *all_args, **all_kwargs)\n",
    "    return wrapped"
   ]
  },
  {
   "cell_type": "code",
   "execution_count": null,
   "metadata": {},
   "outputs": [],
   "source": [
    "#| hide\n",
    "import nbdev; nbdev.nbdev_export()"
   ]
  }
 ],
 "metadata": {
  "kernelspec": {
   "display_name": "python3",
   "language": "python",
   "name": "python3"
  }
 },
 "nbformat": 4,
 "nbformat_minor": 4
}
