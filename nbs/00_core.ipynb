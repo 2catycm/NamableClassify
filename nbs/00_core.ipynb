{
 "cells": [
  {
   "cell_type": "markdown",
   "metadata": {},
   "source": [
    "# 核心模块 Core Module\n",
    "\n",
    "> 主要定义与任务相关的核心组件和配置\n",
    "> \n",
    "> Defines core components and configurations related to tasks"
   ]
  },
  {
   "cell_type": "markdown",
   "metadata": {},
   "source": [
    "## 简介/Description: \n",
    "\n",
    "核心模块包含任务相关的主要类和配置文件，如 ClassificationTask 和 ClassificationTaskConfig。其中配置文件通过 Pydantic 进行定义，帮助用户更好地构建图像分类任务的各个部分。\n",
    "\n",
    "The core module contains the primary classes and configuration files related to tasks, such as ClassificationTask and ClassificationTaskConfig, where the configurations are defined using Pydantic, allowing users to easily structure components of image classification tasks."
   ]
  },
  {
   "cell_type": "markdown",
   "metadata": {},
   "source": [
    "## 主要符号/Main symbols:\n",
    "\n",
    "- ClassificationTask: 用于处理图像分类任务的 PyTorch Lightning 模块。\n",
    "- ClassificationTask: A PyTorch Lightning module for handling image classification tasks.\n",
    "- ClassificationTaskConfig: 使用 Pydantic 设计的配置类，用于初始化任务。\n",
    "- ClassificationTaskConfig: A configuration class designed with Pydantic for initializing the task.\n"
   ]
  },
  {
   "cell_type": "code",
   "execution_count": null,
   "metadata": {},
   "outputs": [],
   "source": [
    "#| default_exp core"
   ]
  },
  {
   "cell_type": "code",
   "execution_count": null,
   "metadata": {},
   "outputs": [],
   "source": [
    "#| hide\n",
    "%load_ext autoreload\n",
    "%autoreload 2\n",
    "from nbdev.showdoc import *"
   ]
  },
  {
   "cell_type": "code",
   "execution_count": null,
   "metadata": {},
   "outputs": [
    {
     "ename": "ImportError",
     "evalue": "cannot import name 'DatasetConfig' from partially initialized module 'namable_classify.data' (most likely due to a circular import) (/home/ycm/repos/research/cv/cls/NamableClassify/namable_classify/data/__init__.py)",
     "output_type": "error",
     "traceback": [
      "\u001b[0;31m---------------------------------------------------------------------------\u001b[0m",
      "\u001b[0;31mImportError\u001b[0m                               Traceback (most recent call last)",
      "Cell \u001b[0;32mIn[5], line 3\u001b[0m\n\u001b[1;32m      1\u001b[0m \u001b[38;5;66;03m#| export\u001b[39;00m\n\u001b[1;32m      2\u001b[0m \u001b[38;5;28;01mfrom\u001b[39;00m \u001b[38;5;21;01mpydantic\u001b[39;00m \u001b[38;5;28;01mimport\u001b[39;00m BaseModel\n\u001b[0;32m----> 3\u001b[0m \u001b[38;5;28;01mfrom\u001b[39;00m \u001b[38;5;21;01mnamable_classify\u001b[39;00m\u001b[38;5;21;01m.\u001b[39;00m\u001b[38;5;21;01mdata\u001b[39;00m \u001b[38;5;28;01mimport\u001b[39;00m DatasetConfig\n\u001b[1;32m      5\u001b[0m \u001b[38;5;28;01mclass\u001b[39;00m \u001b[38;5;21;01mClassificationTaskConfig\u001b[39;00m(BaseModel):\n\u001b[1;32m      6\u001b[0m     \u001b[38;5;66;03m# vtab_dir: str = \"/home/ai_pitch_perfector/datasets/vtab-1k/\"\u001b[39;00m\n\u001b[1;32m      7\u001b[0m     \u001b[38;5;66;03m# subset_name: str = \"cifar\"\u001b[39;00m\n\u001b[0;32m   (...)\u001b[0m\n\u001b[1;32m     10\u001b[0m     \u001b[38;5;66;03m# experiment_index: int = 0  # [0, 1, 2, 3, 4, 5, 6, 7, 8, 9] 表示是第几次重复实验\u001b[39;00m\n\u001b[1;32m     11\u001b[0m     \u001b[38;5;66;03m# label_smoothing: float = 0.1\u001b[39;00m\n\u001b[1;32m     12\u001b[0m     seed: \u001b[38;5;28mint\u001b[39m \u001b[38;5;241m=\u001b[39m \u001b[38;5;241m42\u001b[39m\n",
      "File \u001b[0;32m~/repos/research/cv/cls/NamableClassify/namable_classify/data/__init__.py:9\u001b[0m\n\u001b[1;32m      6\u001b[0m __all__ \u001b[38;5;241m=\u001b[39m [\u001b[38;5;124m'\u001b[39m\u001b[38;5;124mDatasetConfig\u001b[39m\u001b[38;5;124m'\u001b[39m, \u001b[38;5;124m'\u001b[39m\u001b[38;5;124mClassificationDataModule\u001b[39m\u001b[38;5;124m'\u001b[39m, \u001b[38;5;124m'\u001b[39m\u001b[38;5;124mTorchVisionDataModule\u001b[39m\u001b[38;5;124m'\u001b[39m, \u001b[38;5;124m'\u001b[39m\u001b[38;5;124mCIFAR100DataModule\u001b[39m\u001b[38;5;124m'\u001b[39m, \u001b[38;5;124m'\u001b[39m\u001b[38;5;124mMNISTDataModule\u001b[39m\u001b[38;5;124m'\u001b[39m]\n\u001b[1;32m      8\u001b[0m \u001b[38;5;66;03m# %% ../../nbs/01_data.ipynb 4\u001b[39;00m\n\u001b[0;32m----> 9\u001b[0m \u001b[38;5;28;01mfrom\u001b[39;00m \u001b[38;5;21;01m.\u001b[39;00m\u001b[38;5;21;01m.\u001b[39;00m\u001b[38;5;21;01mcore\u001b[39;00m \u001b[38;5;28;01mimport\u001b[39;00m data_path, Path\n\u001b[1;32m     11\u001b[0m \u001b[38;5;66;03m# %% ../../nbs/01_data.ipynb 5\u001b[39;00m\n\u001b[1;32m     12\u001b[0m \u001b[38;5;28;01mfrom\u001b[39;00m \u001b[38;5;21;01mpydantic\u001b[39;00m \u001b[38;5;28;01mimport\u001b[39;00m BaseModel\n",
      "File \u001b[0;32m~/repos/research/cv/cls/NamableClassify/namable_classify/core.py:30\u001b[0m\n\u001b[1;32m     25\u001b[0m \u001b[38;5;66;03m# L.seed_everything(42)\u001b[39;00m\n\u001b[1;32m     26\u001b[0m \u001b[38;5;66;03m# \u001b[39;00m\n\u001b[1;32m     27\u001b[0m \n\u001b[1;32m     28\u001b[0m \u001b[38;5;66;03m# %% ../nbs/00_core.ipynb 6\u001b[39;00m\n\u001b[1;32m     29\u001b[0m \u001b[38;5;28;01mfrom\u001b[39;00m \u001b[38;5;21;01mpydantic\u001b[39;00m \u001b[38;5;28;01mimport\u001b[39;00m BaseModel\n\u001b[0;32m---> 30\u001b[0m \u001b[38;5;28;01mfrom\u001b[39;00m \u001b[38;5;21;01m.\u001b[39;00m\u001b[38;5;21;01mdata\u001b[39;00m \u001b[38;5;28;01mimport\u001b[39;00m DatasetConfig\n\u001b[1;32m     32\u001b[0m \u001b[38;5;28;01mclass\u001b[39;00m \u001b[38;5;21;01mClassificationTaskConfig\u001b[39;00m(BaseModel):\n\u001b[1;32m     33\u001b[0m     \u001b[38;5;66;03m# vtab_dir: str = \"/home/ai_pitch_perfector/datasets/vtab-1k/\"\u001b[39;00m\n\u001b[1;32m     34\u001b[0m     \u001b[38;5;66;03m# subset_name: str = \"cifar\"\u001b[39;00m\n\u001b[0;32m   (...)\u001b[0m\n\u001b[1;32m     37\u001b[0m     \u001b[38;5;66;03m# experiment_index: int = 0  # [0, 1, 2, 3, 4, 5, 6, 7, 8, 9] 表示是第几次重复实验\u001b[39;00m\n\u001b[1;32m     38\u001b[0m     \u001b[38;5;66;03m# label_smoothing: float = 0.1\u001b[39;00m\n\u001b[1;32m     39\u001b[0m     seed: \u001b[38;5;28mint\u001b[39m \u001b[38;5;241m=\u001b[39m \u001b[38;5;241m42\u001b[39m\n",
      "\u001b[0;31mImportError\u001b[0m: cannot import name 'DatasetConfig' from partially initialized module 'namable_classify.data' (most likely due to a circular import) (/home/ycm/repos/research/cv/cls/NamableClassify/namable_classify/data/__init__.py)"
     ]
    }
   ],
   "source": [
    "#| export\n",
    "import lightning as L\n",
    "from pydantic import BaseModel\n",
    "from namable_classify.data import ClassificationDataConfig\n",
    "\n",
    "class ClassificationTaskConfig(BaseModel):\n",
    "    # vtab_dir: str = \"/home/ai_pitch_perfector/datasets/vtab-1k/\"\n",
    "    # subset_name: str = \"cifar\"\n",
    "    # initial_batch_size: int = 64\n",
    "    # initial_learning_rate: int = 3e-4\n",
    "    # experiment_index: int = 0  # [0, 1, 2, 3, 4, 5, 6, 7, 8, 9] 表示是第几次重复实验\n",
    "    # label_smoothing: float = 0.1\n",
    "    seed: int = 42\n",
    "    backbone_name: str = 'vit-base-patch16-224'\n",
    "    backbone_config: dict = {}\n",
    "    dataset_config: ClassificationDataConfig = ClassificationDataConfig()"
   ]
  },
  {
   "cell_type": "code",
   "execution_count": null,
   "metadata": {},
   "outputs": [],
   "source": [
    "from fastcore.basics import patch"
   ]
  },
  {
   "cell_type": "code",
   "execution_count": null,
   "metadata": {},
   "outputs": [],
   "source": [
    "#| hide\n",
    "import nbdev; nbdev.nbdev_export()"
   ]
  }
 ],
 "metadata": {
  "kernelspec": {
   "display_name": "python3",
   "language": "python",
   "name": "python3"
  }
 },
 "nbformat": 4,
 "nbformat_minor": 4
}
