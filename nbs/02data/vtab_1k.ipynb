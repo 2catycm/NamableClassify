{
 "cells": [
  {
   "cell_type": "markdown",
   "metadata": {},
   "source": [
    "# data_transforms\n",
    "\n",
    "> data augmentations and transforms for image classification"
   ]
  },
  {
   "cell_type": "markdown",
   "metadata": {},
   "source": [
    "Start with a brief description of the technical component, and an overview that links to the main symbols in the page (you might want to use doclinks)"
   ]
  },
  {
   "cell_type": "code",
   "execution_count": null,
   "metadata": {},
   "outputs": [],
   "source": [
    "#| default_exp data.vtab_1k"
   ]
  },
  {
   "cell_type": "code",
   "execution_count": null,
   "metadata": {},
   "outputs": [
    {
     "name": "stdout",
     "output_type": "stream",
     "text": [
      "The autoreload extension is already loaded. To reload it, use:\n",
      "  %reload_ext autoreload\n"
     ]
    }
   ],
   "source": [
    "#| hide\n",
    "%load_ext autoreload\n",
    "%autoreload 2\n",
    "from nbdev.showdoc import *"
   ]
  },
  {
   "cell_type": "code",
   "execution_count": null,
   "metadata": {},
   "outputs": [],
   "source": [
    "#| export\n",
    "import random\n",
    "\n",
    "import numpy as np\n",
    "from PIL import ImageDraw\n",
    "\n",
    "\n",
    "class CutoutPIL(object):\n",
    "    def __init__(self, cutout_factor=0.5):\n",
    "        self.cutout_factor = cutout_factor\n",
    "\n",
    "    def __call__(self, x):\n",
    "        img_draw = ImageDraw.Draw(x)\n",
    "        h, w = x.size[0], x.size[1]  # HWC\n",
    "        h_cutout = int(self.cutout_factor * h + 0.5)\n",
    "        w_cutout = int(self.cutout_factor * w + 0.5)\n",
    "        y_c = np.random.randint(h)\n",
    "        x_c = np.random.randint(w)\n",
    "\n",
    "        y1 = np.clip(y_c - h_cutout // 2, 0, h)\n",
    "        y2 = np.clip(y_c + h_cutout // 2, 0, h)\n",
    "        x1 = np.clip(x_c - w_cutout // 2, 0, w)\n",
    "        x2 = np.clip(x_c + w_cutout // 2, 0, w)\n",
    "        fill_color = (random.randint(0, 255), random.randint(0, 255), random.randint(0, 255))\n",
    "        img_draw.rectangle([x1, y1, x2, y2], fill=fill_color)\n",
    "\n",
    "        return x"
   ]
  },
  {
   "cell_type": "code",
   "execution_count": null,
   "metadata": {},
   "outputs": [],
   "source": [
    "#| hide\n",
    "import nbdev; nbdev.nbdev_export()"
   ]
  }
 ],
 "metadata": {
  "kernelspec": {
   "display_name": "hf_ai",
   "language": "python",
   "name": "python3"
  },
  "language_info": {
   "name": "python",
   "version": "3.10.14"
  }
 },
 "nbformat": 4,
 "nbformat_minor": 4
}
