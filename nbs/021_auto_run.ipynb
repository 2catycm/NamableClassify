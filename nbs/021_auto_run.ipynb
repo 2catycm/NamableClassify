{
 "cells": [
  {
   "cell_type": "markdown",
   "metadata": {},
   "source": [
    "# auto_experiment\n",
    "> automatically research on the relationship between the performance and meta parameters (a.k.a. hyperparameters or config) via searching (a.k.a. sweeping) experiments. "
   ]
  },
  {
   "cell_type": "markdown",
   "metadata": {},
   "source": [
    "See https://github.com/google-research/tuning_playbook for scientific research principles on meta parameters tuning. \n",
    "\n",
    "In addition to that guide, we also follow the paper \"Statistical Comparisons of Classifiers over Multiple Data Sets\", using statistical hypothesis testing to compare the performance of different models (produced by different meta parameters).\n"
   ]
  },
  {
   "cell_type": "code",
   "execution_count": null,
   "metadata": {},
   "outputs": [],
   "source": [
    "#| default_exp auto.run"
   ]
  },
  {
   "cell_type": "code",
   "execution_count": null,
   "metadata": {},
   "outputs": [
    {
     "name": "stdout",
     "output_type": "stream",
     "text": [
      "The autoreload extension is already loaded. To reload it, use:\n",
      "  %reload_ext autoreload\n"
     ]
    }
   ],
   "source": [
    "#| hide\n",
    "%load_ext autoreload\n",
    "%autoreload 2\n",
    "from nbdev.showdoc import *"
   ]
  },
  {
   "cell_type": "code",
   "execution_count": null,
   "metadata": {},
   "outputs": [],
   "source": [
    "#| export\n",
    "from namable_classify.utils import lib_repo_path, runs_path\n",
    "auto_run_running_path = runs_path / \"auto_run\""
   ]
  },
  {
   "cell_type": "code",
   "execution_count": null,
   "metadata": {},
   "outputs": [
    {
     "data": {
      "text/plain": [
       "Path('/home/ycm/repos/research/cv/cls/NamableClassify/runs/auto_run')"
      ]
     },
     "execution_count": null,
     "metadata": {},
     "output_type": "execute_result"
    }
   ],
   "source": [
    "auto_run_running_path"
   ]
  },
  {
   "cell_type": "code",
   "execution_count": null,
   "metadata": {},
   "outputs": [],
   "source": [
    "#| export\n",
    "import itertools\n",
    "import os\n",
    "import json\n",
    "# from datetime import date, datetime\n",
    "import datetime\n",
    "class ComplexEncoder(json.JSONEncoder):\n",
    "    def default(self, obj):\n",
    "        if isinstance(obj, datetime.datetime):\n",
    "            return obj.strftime('%Y-%m-%d %H:%M:%S')\n",
    "        elif isinstance(obj, datetime.date):\n",
    "            return obj.strftime('%Y-%m-%d')\n",
    "        else:\n",
    "            return json.JSONEncoder.default(self, obj)"
   ]
  },
  {
   "cell_type": "code",
   "execution_count": null,
   "metadata": {},
   "outputs": [],
   "source": [
    "#| export\n",
    "import datetime\n",
    "import pickle\n",
    "import subprocess\n",
    "def command_executor(content\n",
    "                    # , verbose=True\n",
    "                    , run_dir=None\n",
    "                    )->str:\n",
    "    if run_dir is None:\n",
    "        run_dir = auto_run_running_path.as_posix()\n",
    "    print(f\"executing command in {run_dir}:\\n\\t {content}\")\n",
    "    os.chdir(run_dir)\n",
    "    # 需要把内容实时打印到这个终端，同时得到output，同时需要shell\n",
    "    # output = subprocess.check_output(content, shell=True, stderr=subprocess.STDOUT)\n",
    "    # output = subprocess.check_output(content, shell=True, stderr=subprocess.PIPE)\n",
    "    process = subprocess.Popen(content, shell=True, stdout=subprocess.PIPE, stderr=subprocess.STDOUT, text=True, bufsize=1)\n",
    "    output = \"\"\n",
    "    # 实时读取输出\n",
    "    for line in process.stdout:\n",
    "        print(line, end='')  # 打印到屏幕\n",
    "        output += line  # 将输出内容追加到变量\n",
    "\n",
    "    # 等待命令执行完成\n",
    "    process.wait()\n",
    "    if process.returncode != 0:\n",
    "        raise subprocess.CalledProcessError(returncode=process.returncode, cmd=content, output=output.encode('utf-8'))\n",
    "    # if verbose:\n",
    "    #     output = subprocess.check_output(content, shell=True, stderr=subprocess.STDOUT)\n",
    "    # else:\n",
    "    #     output = subprocess.check_output(content, shell=True, stderr=subprocess.DEVNULL)\n",
    "    return output.strip()"
   ]
  },
  {
   "cell_type": "code",
   "execution_count": null,
   "metadata": {},
   "outputs": [],
   "source": [
    "#| export\n",
    "from decorator import decorator\n",
    "@decorator\n",
    "def auto_try_decorator(func, *args, **kwargs):\n",
    "    try:\n",
    "        return dict(status='done', output=func(*args, **kwargs))\n",
    "    except subprocess.CalledProcessError as e:\n",
    "        return dict(status='error', output=e.output.decode('utf-8'))\n",
    "    "
   ]
  },
  {
   "cell_type": "code",
   "execution_count": null,
   "metadata": {},
   "outputs": [],
   "source": [
    "#| export\n",
    "from pathlib import Path\n",
    "from typing import Callable\n",
    "def auto_run(executor:Callable=command_executor, argses:list = None,\n",
    "             run_names:list=None, \n",
    "             plan_name = \"default_plan\", auto_try=True\n",
    "             , output_dir=None, \n",
    "             memory_file_name = \"auto_run_memory.json\", \n",
    "             plan_file_name = \"plans.json\",):\n",
    "    if argses is None:\n",
    "        argses = [\"echo Welcome to auto_run!\"]\n",
    "    if auto_try:\n",
    "        executor = auto_try_decorator(executor)\n",
    "    if run_names is None:\n",
    "        run_names = [f\"run_{i}\" for i in range(len(argses))]\n",
    "    running_plan_dict = {run_name:args for run_name, args in zip(run_names, argses)}\n",
    "    if output_dir is None:\n",
    "        output_dir = auto_run_running_path\n",
    "    if isinstance(output_dir, str):\n",
    "        output_dir = Path(output_dir)\n",
    "    output_dir = output_dir / plan_name\n",
    "    output_dir.mkdir(exist_ok=True, parents=True)\n",
    "    with open(output_dir / plan_file_name, 'w') as f:\n",
    "        json.dump(running_plan_dict, f, ensure_ascii=False, indent=4, cls=ComplexEncoder)\n",
    "        \n",
    "    def dump_mem(memory):\n",
    "            \n",
    "        if (output_dir/memory_file_name).exists():\n",
    "            with open(output_dir/(memory_file_name), 'r') as f:\n",
    "                old_memory = json.load(f)\n",
    "        else:\n",
    "            old_memory = {}\n",
    "        new_memory = {**old_memory, **memory}\n",
    "        \n",
    "        with open(output_dir/(memory_file_name), 'w') as f:\n",
    "            json.dump(new_memory, f, ensure_ascii=False, indent=4)\n",
    "            \n",
    "        return new_memory\n",
    "\n",
    "    memory = dump_mem(dict())\n",
    "    \n",
    "    import time\n",
    "    num_of_done = 0\n",
    "    # def loop_all_runs_once():\n",
    "    for running_round in itertools.count():\n",
    "        if num_of_done == len(running_plan_dict):  \n",
    "            print(\"all runs are done, exiting...\")\n",
    "            break\n",
    "        num_of_done = 0\n",
    "        print(f\"new running round {running_round}\")\n",
    "        # for run_name, args in zip(run_names, argses):\n",
    "        for run_name, args in running_plan_dict.items():\n",
    "            if run_name in memory:\n",
    "                d = memory[run_name][-1]\n",
    "                status = d.get('status', 'unknown')\n",
    "                print(f\"run_name {run_name} has been executed with status {status}\")\n",
    "                if status == 'error':\n",
    "                    print(\"retrying...\")\n",
    "                    \n",
    "                    memory[run_name].append(dict(status='running', output='retrying...'))\n",
    "                    memory = dump_mem(memory)\n",
    "                    \n",
    "                    new_output = executor(args)\n",
    "                    print(f\"exited, status is {new_output['status']}\")\n",
    "                    memory[run_name].append(new_output)\n",
    "                    \n",
    "                elif status == 'done':\n",
    "                    num_of_done+=1\n",
    "                    continue\n",
    "                elif status == 'running':\n",
    "                    print(\"Other instance of this script is running this task, skipping...\")\n",
    "                    continue\n",
    "                else:\n",
    "                    print(\"status unknown, changing it to error\")\n",
    "                    memory[run_name].append(dict(status='error'))\n",
    "            else:\n",
    "                print(f\"executing run_name {run_name}\")\n",
    "                memory[run_name] = [\n",
    "                    dict(status='running', output='executing...')\n",
    "                ]\n",
    "                memory = dump_mem(memory)\n",
    "                new_output = executor(args)\n",
    "                print(f\"exited, status is {new_output['status']}\")\n",
    "                memory[run_name] = [\n",
    "                    new_output\n",
    "                ]\n",
    "            if new_output['status'] == 'done':\n",
    "                num_of_done+=1\n",
    "            memory = dump_mem(memory)\n",
    "            time.sleep(5)"
   ]
  },
  {
   "cell_type": "code",
   "execution_count": null,
   "metadata": {},
   "outputs": [
    {
     "name": "stdout",
     "output_type": "stream",
     "text": [
      "new running round 0\n",
      "executing run_name run_0\n",
      "executing command in /home/ycm/repos/research/cv/cls/NamableClassify/runs/auto_run:\n",
      "\t echo Welcome to auto_run!\n",
      "Welcome to auto_run!\n",
      "exited, status is done\n"
     ]
    },
    {
     "name": "stdout",
     "output_type": "stream",
     "text": [
      "all runs are done, exiting...\n"
     ]
    }
   ],
   "source": [
    "auto_run()"
   ]
  },
  {
   "cell_type": "code",
   "execution_count": null,
   "metadata": {},
   "outputs": [],
   "source": [
    "#| hide\n",
    "import nbdev; nbdev.nbdev_export()"
   ]
  }
 ],
 "metadata": {
  "kernelspec": {
   "display_name": "hf_ai",
   "language": "python",
   "name": "python3"
  },
  "language_info": {
   "name": "python",
   "version": "3.10.14"
  }
 },
 "nbformat": 4,
 "nbformat_minor": 4
}
